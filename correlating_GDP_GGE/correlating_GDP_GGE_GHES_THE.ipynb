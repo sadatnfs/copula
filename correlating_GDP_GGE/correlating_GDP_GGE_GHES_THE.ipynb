{
 "cells": [
  {
   "cell_type": "code",
   "execution_count": 1,
   "metadata": {
    "collapsed": false,
    "scrolled": false
   },
   "outputs": [
    {
     "name": "stderr",
     "output_type": "stream",
     "text": [
      "Loading required package: foreign\n",
      "Loading required package: readstata13\n",
      "Loading required package: data.table\n",
      "Loading required package: MASS\n",
      "Loading required package: ggplot2\n",
      "Loading required package: gridExtra\n",
      "Loading required package: stringr\n",
      "Loading required package: matrixStats\n",
      "matrixStats v0.51.0 (2016-10-08) successfully loaded. See ?matrixStats for help.\n",
      "Loading required package: parallel\n",
      "Loading required package: abind\n",
      "Loading required package: rlist\n",
      "Loading required package: assertthat\n",
      "Loading required package: doParallel\n",
      "Loading required package: foreach\n",
      "Loading required package: iterators\n"
     ]
    }
   ],
   "source": [
    "# rm(list=ls())\n",
    "require(foreign)\n",
    "require(readstata13)\n",
    "require(data.table)\n",
    "require(MASS)\n",
    "require(ggplot2)\n",
    "# require(foreach)\n",
    "require(gridExtra)\n",
    "require(stringr)\n",
    "require(matrixStats)\n",
    "require(parallel)\n",
    "require(abind)\n",
    "require(rlist)\n",
    "require(assertthat)\n",
    "require(doParallel)\n",
    "\n",
    "registerDoParallel(cores = 4)\n",
    "\n",
    "## Resizing notebook plot space\n",
    "options(repr.plot.width=16, repr.plot.height=9)"
   ]
  },
  {
   "cell_type": "code",
   "execution_count": 20,
   "metadata": {
    "collapsed": false
   },
   "outputs": [
    {
     "name": "stdout",
     "output_type": "stream",
     "text": [
      "[1] 0\n"
     ]
    }
   ],
   "source": [
    "slots <-strtoi(Sys.getenv(\"NSLOTS\"))\n",
    "if (grepl(\"Intel\",system(\"cat /proc/cpuinfo | grep 'name'| uniq\",intern=TRUE))) {\n",
    "    cores <- slots * 0.86\n",
    "} else {\n",
    "  cores <- slots * 0.64\n",
    "}\n",
    "print(cores)"
   ]
  },
  {
   "cell_type": "markdown",
   "metadata": {},
   "source": [
    "## Bring in GDP, GGE, GHES and THE"
   ]
  },
  {
   "cell_type": "code",
   "execution_count": 2,
   "metadata": {
    "collapsed": false,
    "scrolled": true
   },
   "outputs": [
    {
     "data": {
      "text/html": [
       "<table>\n",
       "<thead><tr><th scope=col>iso3</th><th scope=col>year</th><th scope=col>draw_1</th><th scope=col>draw_2</th><th scope=col>draw_3</th><th scope=col>draw_4</th><th scope=col>draw_5</th><th scope=col>draw_6</th><th scope=col>draw_7</th><th scope=col>draw_8</th><th scope=col>⋯</th><th scope=col>draw_9991</th><th scope=col>draw_9992</th><th scope=col>draw_9993</th><th scope=col>draw_9994</th><th scope=col>draw_9995</th><th scope=col>draw_9996</th><th scope=col>draw_9997</th><th scope=col>draw_9998</th><th scope=col>draw_9999</th><th scope=col>draw_10000</th></tr></thead>\n",
       "<tbody>\n",
       "\t<tr><td>AFG     </td><td>1995    </td><td>2.305364</td><td>2.305364</td><td>2.305364</td><td>2.305364</td><td>2.305364</td><td>2.305364</td><td>2.305364</td><td>2.305364</td><td>⋯       </td><td>2.305364</td><td>2.305364</td><td>2.305364</td><td>2.305364</td><td>2.305364</td><td>2.305364</td><td>2.305364</td><td>2.305364</td><td>2.305364</td><td>2.305364</td></tr>\n",
       "\t<tr><td>AFG     </td><td>1996    </td><td>1.618177</td><td>1.618177</td><td>1.618177</td><td>1.618177</td><td>1.618177</td><td>1.618177</td><td>1.618177</td><td>1.618177</td><td>⋯       </td><td>1.618177</td><td>1.618177</td><td>1.618177</td><td>1.618177</td><td>1.618177</td><td>1.618177</td><td>1.618177</td><td>1.618177</td><td>1.618177</td><td>1.618177</td></tr>\n",
       "\t<tr><td>AFG     </td><td>1997    </td><td>1.566892</td><td>1.566892</td><td>1.566892</td><td>1.566892</td><td>1.566892</td><td>1.566892</td><td>1.566892</td><td>1.566892</td><td>⋯       </td><td>1.566892</td><td>1.566892</td><td>1.566892</td><td>1.566892</td><td>1.566892</td><td>1.566892</td><td>1.566892</td><td>1.566892</td><td>1.566892</td><td>1.566892</td></tr>\n",
       "\t<tr><td>AFG     </td><td>1998    </td><td>1.947385</td><td>1.947385</td><td>1.947385</td><td>1.947385</td><td>1.947385</td><td>1.947385</td><td>1.947385</td><td>1.947385</td><td>⋯       </td><td>1.947385</td><td>1.947385</td><td>1.947385</td><td>1.947385</td><td>1.947385</td><td>1.947385</td><td>1.947385</td><td>1.947385</td><td>1.947385</td><td>1.947385</td></tr>\n",
       "\t<tr><td>AFG     </td><td>1999    </td><td>1.782570</td><td>1.782570</td><td>1.782570</td><td>1.782570</td><td>1.782570</td><td>1.782570</td><td>1.782570</td><td>1.782570</td><td>⋯       </td><td>1.782570</td><td>1.782570</td><td>1.782570</td><td>1.782570</td><td>1.782570</td><td>1.782570</td><td>1.782570</td><td>1.782570</td><td>1.782570</td><td>1.782570</td></tr>\n",
       "\t<tr><td>AFG     </td><td>2000    </td><td>1.485130</td><td>1.485130</td><td>1.485130</td><td>1.485130</td><td>1.485130</td><td>1.485130</td><td>1.485130</td><td>1.485130</td><td>⋯       </td><td>1.485130</td><td>1.485130</td><td>1.485130</td><td>1.485130</td><td>1.485130</td><td>1.485130</td><td>1.485130</td><td>1.485130</td><td>1.485130</td><td>1.485130</td></tr>\n",
       "</tbody>\n",
       "</table>\n"
      ],
      "text/markdown": [
       "\n",
       "iso3 | year | draw_1 | draw_2 | draw_3 | draw_4 | draw_5 | draw_6 | draw_7 | draw_8 | ⋯ | draw_9991 | draw_9992 | draw_9993 | draw_9994 | draw_9995 | draw_9996 | draw_9997 | draw_9998 | draw_9999 | draw_10000 | \n",
       "|---|---|---|---|---|---|\n",
       "| AFG      | 1995     | 2.305364 | 2.305364 | 2.305364 | 2.305364 | 2.305364 | 2.305364 | 2.305364 | 2.305364 | ⋯        | 2.305364 | 2.305364 | 2.305364 | 2.305364 | 2.305364 | 2.305364 | 2.305364 | 2.305364 | 2.305364 | 2.305364 | \n",
       "| AFG      | 1996     | 1.618177 | 1.618177 | 1.618177 | 1.618177 | 1.618177 | 1.618177 | 1.618177 | 1.618177 | ⋯        | 1.618177 | 1.618177 | 1.618177 | 1.618177 | 1.618177 | 1.618177 | 1.618177 | 1.618177 | 1.618177 | 1.618177 | \n",
       "| AFG      | 1997     | 1.566892 | 1.566892 | 1.566892 | 1.566892 | 1.566892 | 1.566892 | 1.566892 | 1.566892 | ⋯        | 1.566892 | 1.566892 | 1.566892 | 1.566892 | 1.566892 | 1.566892 | 1.566892 | 1.566892 | 1.566892 | 1.566892 | \n",
       "| AFG      | 1998     | 1.947385 | 1.947385 | 1.947385 | 1.947385 | 1.947385 | 1.947385 | 1.947385 | 1.947385 | ⋯        | 1.947385 | 1.947385 | 1.947385 | 1.947385 | 1.947385 | 1.947385 | 1.947385 | 1.947385 | 1.947385 | 1.947385 | \n",
       "| AFG      | 1999     | 1.782570 | 1.782570 | 1.782570 | 1.782570 | 1.782570 | 1.782570 | 1.782570 | 1.782570 | ⋯        | 1.782570 | 1.782570 | 1.782570 | 1.782570 | 1.782570 | 1.782570 | 1.782570 | 1.782570 | 1.782570 | 1.782570 | \n",
       "| AFG      | 2000     | 1.485130 | 1.485130 | 1.485130 | 1.485130 | 1.485130 | 1.485130 | 1.485130 | 1.485130 | ⋯        | 1.485130 | 1.485130 | 1.485130 | 1.485130 | 1.485130 | 1.485130 | 1.485130 | 1.485130 | 1.485130 | 1.485130 | \n",
       "\n",
       "\n"
      ],
      "text/plain": [
       "  iso3 year draw_1   draw_2   draw_3   draw_4   draw_5   draw_6   draw_7  \n",
       "1 AFG  1995 2.305364 2.305364 2.305364 2.305364 2.305364 2.305364 2.305364\n",
       "2 AFG  1996 1.618177 1.618177 1.618177 1.618177 1.618177 1.618177 1.618177\n",
       "3 AFG  1997 1.566892 1.566892 1.566892 1.566892 1.566892 1.566892 1.566892\n",
       "4 AFG  1998 1.947385 1.947385 1.947385 1.947385 1.947385 1.947385 1.947385\n",
       "5 AFG  1999 1.782570 1.782570 1.782570 1.782570 1.782570 1.782570 1.782570\n",
       "6 AFG  2000 1.485130 1.485130 1.485130 1.485130 1.485130 1.485130 1.485130\n",
       "  draw_8   ⋯ draw_9991 draw_9992 draw_9993 draw_9994 draw_9995 draw_9996\n",
       "1 2.305364 ⋯ 2.305364  2.305364  2.305364  2.305364  2.305364  2.305364 \n",
       "2 1.618177 ⋯ 1.618177  1.618177  1.618177  1.618177  1.618177  1.618177 \n",
       "3 1.566892 ⋯ 1.566892  1.566892  1.566892  1.566892  1.566892  1.566892 \n",
       "4 1.947385 ⋯ 1.947385  1.947385  1.947385  1.947385  1.947385  1.947385 \n",
       "5 1.782570 ⋯ 1.782570  1.782570  1.782570  1.782570  1.782570  1.782570 \n",
       "6 1.485130 ⋯ 1.485130  1.485130  1.485130  1.485130  1.485130  1.485130 \n",
       "  draw_9997 draw_9998 draw_9999 draw_10000\n",
       "1 2.305364  2.305364  2.305364  2.305364  \n",
       "2 1.618177  1.618177  1.618177  1.618177  \n",
       "3 1.566892  1.566892  1.566892  1.566892  \n",
       "4 1.947385  1.947385  1.947385  1.947385  \n",
       "5 1.782570  1.782570  1.782570  1.782570  \n",
       "6 1.485130  1.485130  1.485130  1.485130  "
      ]
     },
     "metadata": {},
     "output_type": "display_data"
    }
   ],
   "source": [
    "ghes <- data.table(read.dta13(\"/home/j/Project/IRH/Forecasting/data_new/stats_archive_new_set/ghes_per_cap_draws_MADcap.dta\"))\n",
    "ghes <- ghes[ , .SD, .SDcols = c(\"iso3\", \"year\", paste0(\"draw_\",c(1:10000)))]\n",
    "head(ghes)"
   ]
  },
  {
   "cell_type": "code",
   "execution_count": 3,
   "metadata": {
    "collapsed": true
   },
   "outputs": [],
   "source": [
    "countries <- unique(ghes[, iso3])"
   ]
  },
  {
   "cell_type": "code",
   "execution_count": 4,
   "metadata": {
    "collapsed": false,
    "scrolled": true
   },
   "outputs": [
    {
     "data": {
      "text/html": [
       "<table>\n",
       "<thead><tr><th scope=col>iso3</th><th scope=col>year</th><th scope=col>gdppc_mean</th><th scope=col>draw_1</th><th scope=col>draw_2</th><th scope=col>draw_3</th><th scope=col>draw_4</th><th scope=col>draw_5</th><th scope=col>draw_6</th><th scope=col>draw_7</th><th scope=col>⋯</th><th scope=col>draw_9991</th><th scope=col>draw_9992</th><th scope=col>draw_9993</th><th scope=col>draw_9994</th><th scope=col>draw_9995</th><th scope=col>draw_9996</th><th scope=col>draw_9997</th><th scope=col>draw_9998</th><th scope=col>draw_9999</th><th scope=col>draw_10000</th></tr></thead>\n",
       "<tbody>\n",
       "\t<tr><td>AFG     </td><td>1979    </td><td>1188.853</td><td>1188.853</td><td>1188.853</td><td>1188.853</td><td>1188.853</td><td>1188.853</td><td>1188.853</td><td>1188.853</td><td>⋯       </td><td>1188.853</td><td>1188.853</td><td>1188.853</td><td>1188.853</td><td>1188.853</td><td>1188.853</td><td>1188.853</td><td>1188.853</td><td>1188.853</td><td>1188.853</td></tr>\n",
       "\t<tr><td>AFG     </td><td>1980    </td><td>1174.080</td><td>1174.080</td><td>1174.080</td><td>1174.080</td><td>1174.080</td><td>1174.080</td><td>1174.080</td><td>1174.080</td><td>⋯       </td><td>1174.080</td><td>1174.080</td><td>1174.080</td><td>1174.080</td><td>1174.080</td><td>1174.080</td><td>1174.080</td><td>1174.080</td><td>1174.080</td><td>1174.080</td></tr>\n",
       "\t<tr><td>AFG     </td><td>1981    </td><td>1256.343</td><td>1256.343</td><td>1256.343</td><td>1256.343</td><td>1256.343</td><td>1256.343</td><td>1256.343</td><td>1256.343</td><td>⋯       </td><td>1256.343</td><td>1256.343</td><td>1256.343</td><td>1256.343</td><td>1256.343</td><td>1256.343</td><td>1256.343</td><td>1256.343</td><td>1256.343</td><td>1256.343</td></tr>\n",
       "\t<tr><td>AFG     </td><td>1982    </td><td>1340.253</td><td>1340.253</td><td>1340.253</td><td>1340.253</td><td>1340.253</td><td>1340.253</td><td>1340.253</td><td>1340.253</td><td>⋯       </td><td>1340.253</td><td>1340.253</td><td>1340.253</td><td>1340.253</td><td>1340.253</td><td>1340.253</td><td>1340.253</td><td>1340.253</td><td>1340.253</td><td>1340.253</td></tr>\n",
       "\t<tr><td>AFG     </td><td>1983    </td><td>1417.630</td><td>1417.630</td><td>1417.630</td><td>1417.630</td><td>1417.630</td><td>1417.630</td><td>1417.630</td><td>1417.630</td><td>⋯       </td><td>1417.630</td><td>1417.630</td><td>1417.630</td><td>1417.630</td><td>1417.630</td><td>1417.630</td><td>1417.630</td><td>1417.630</td><td>1417.630</td><td>1417.630</td></tr>\n",
       "\t<tr><td>AFG     </td><td>1984    </td><td>1440.854</td><td>1440.854</td><td>1440.854</td><td>1440.854</td><td>1440.854</td><td>1440.854</td><td>1440.854</td><td>1440.854</td><td>⋯       </td><td>1440.854</td><td>1440.854</td><td>1440.854</td><td>1440.854</td><td>1440.854</td><td>1440.854</td><td>1440.854</td><td>1440.854</td><td>1440.854</td><td>1440.854</td></tr>\n",
       "</tbody>\n",
       "</table>\n"
      ],
      "text/markdown": [
       "\n",
       "iso3 | year | gdppc_mean | draw_1 | draw_2 | draw_3 | draw_4 | draw_5 | draw_6 | draw_7 | ⋯ | draw_9991 | draw_9992 | draw_9993 | draw_9994 | draw_9995 | draw_9996 | draw_9997 | draw_9998 | draw_9999 | draw_10000 | \n",
       "|---|---|---|---|---|---|\n",
       "| AFG      | 1979     | 1188.853 | 1188.853 | 1188.853 | 1188.853 | 1188.853 | 1188.853 | 1188.853 | 1188.853 | ⋯        | 1188.853 | 1188.853 | 1188.853 | 1188.853 | 1188.853 | 1188.853 | 1188.853 | 1188.853 | 1188.853 | 1188.853 | \n",
       "| AFG      | 1980     | 1174.080 | 1174.080 | 1174.080 | 1174.080 | 1174.080 | 1174.080 | 1174.080 | 1174.080 | ⋯        | 1174.080 | 1174.080 | 1174.080 | 1174.080 | 1174.080 | 1174.080 | 1174.080 | 1174.080 | 1174.080 | 1174.080 | \n",
       "| AFG      | 1981     | 1256.343 | 1256.343 | 1256.343 | 1256.343 | 1256.343 | 1256.343 | 1256.343 | 1256.343 | ⋯        | 1256.343 | 1256.343 | 1256.343 | 1256.343 | 1256.343 | 1256.343 | 1256.343 | 1256.343 | 1256.343 | 1256.343 | \n",
       "| AFG      | 1982     | 1340.253 | 1340.253 | 1340.253 | 1340.253 | 1340.253 | 1340.253 | 1340.253 | 1340.253 | ⋯        | 1340.253 | 1340.253 | 1340.253 | 1340.253 | 1340.253 | 1340.253 | 1340.253 | 1340.253 | 1340.253 | 1340.253 | \n",
       "| AFG      | 1983     | 1417.630 | 1417.630 | 1417.630 | 1417.630 | 1417.630 | 1417.630 | 1417.630 | 1417.630 | ⋯        | 1417.630 | 1417.630 | 1417.630 | 1417.630 | 1417.630 | 1417.630 | 1417.630 | 1417.630 | 1417.630 | 1417.630 | \n",
       "| AFG      | 1984     | 1440.854 | 1440.854 | 1440.854 | 1440.854 | 1440.854 | 1440.854 | 1440.854 | 1440.854 | ⋯        | 1440.854 | 1440.854 | 1440.854 | 1440.854 | 1440.854 | 1440.854 | 1440.854 | 1440.854 | 1440.854 | 1440.854 | \n",
       "\n",
       "\n"
      ],
      "text/plain": [
       "  iso3 year gdppc_mean draw_1   draw_2   draw_3   draw_4   draw_5   draw_6  \n",
       "1 AFG  1979 1188.853   1188.853 1188.853 1188.853 1188.853 1188.853 1188.853\n",
       "2 AFG  1980 1174.080   1174.080 1174.080 1174.080 1174.080 1174.080 1174.080\n",
       "3 AFG  1981 1256.343   1256.343 1256.343 1256.343 1256.343 1256.343 1256.343\n",
       "4 AFG  1982 1340.253   1340.253 1340.253 1340.253 1340.253 1340.253 1340.253\n",
       "5 AFG  1983 1417.630   1417.630 1417.630 1417.630 1417.630 1417.630 1417.630\n",
       "6 AFG  1984 1440.854   1440.854 1440.854 1440.854 1440.854 1440.854 1440.854\n",
       "  draw_7   ⋯ draw_9991 draw_9992 draw_9993 draw_9994 draw_9995 draw_9996\n",
       "1 1188.853 ⋯ 1188.853  1188.853  1188.853  1188.853  1188.853  1188.853 \n",
       "2 1174.080 ⋯ 1174.080  1174.080  1174.080  1174.080  1174.080  1174.080 \n",
       "3 1256.343 ⋯ 1256.343  1256.343  1256.343  1256.343  1256.343  1256.343 \n",
       "4 1340.253 ⋯ 1340.253  1340.253  1340.253  1340.253  1340.253  1340.253 \n",
       "5 1417.630 ⋯ 1417.630  1417.630  1417.630  1417.630  1417.630  1417.630 \n",
       "6 1440.854 ⋯ 1440.854  1440.854  1440.854  1440.854  1440.854  1440.854 \n",
       "  draw_9997 draw_9998 draw_9999 draw_10000\n",
       "1 1188.853  1188.853  1188.853  1188.853  \n",
       "2 1174.080  1174.080  1174.080  1174.080  \n",
       "3 1256.343  1256.343  1256.343  1256.343  \n",
       "4 1340.253  1340.253  1340.253  1340.253  \n",
       "5 1417.630  1417.630  1417.630  1417.630  \n",
       "6 1440.854  1440.854  1440.854  1440.854  "
      ]
     },
     "metadata": {},
     "output_type": "display_data"
    }
   ],
   "source": [
    "gdp <- data.table(read.dta13('/home/j/Project/IRH/Forecasting/gdp/final/Copula_GDPpc_Draws_REV_linConv_RW_using_capped_MAD_data_chaos_25_10000.dta'))\n",
    "gdp <- gdp[iso3 %in% countries, .SD, .SDcols = c(\"iso3\", \"year\", \"gdppc_mean\", paste0(\"draw_\",c(1:10000)))]\n",
    "head(gdp)"
   ]
  },
  {
   "cell_type": "code",
   "execution_count": 5,
   "metadata": {
    "collapsed": false,
    "scrolled": true
   },
   "outputs": [
    {
     "data": {
      "text/html": [
       "<table>\n",
       "<thead><tr><th scope=col>iso3</th><th scope=col>year</th><th scope=col>gge_gdp_mean</th><th scope=col>draw_1</th><th scope=col>draw_2</th><th scope=col>draw_3</th><th scope=col>draw_4</th><th scope=col>draw_5</th><th scope=col>draw_6</th><th scope=col>draw_7</th><th scope=col>⋯</th><th scope=col>draw_9991</th><th scope=col>draw_9992</th><th scope=col>draw_9993</th><th scope=col>draw_9994</th><th scope=col>draw_9995</th><th scope=col>draw_9996</th><th scope=col>draw_9997</th><th scope=col>draw_9998</th><th scope=col>draw_9999</th><th scope=col>draw_10000</th></tr></thead>\n",
       "<tbody>\n",
       "\t<tr><td>AFG       </td><td>1979      </td><td>0.08415107</td><td>0.08415107</td><td>0.08415107</td><td>0.08415107</td><td>0.08415107</td><td>0.08415107</td><td>0.08415107</td><td>0.08415107</td><td>⋯         </td><td>0.08415107</td><td>0.08415107</td><td>0.08415107</td><td>0.08415107</td><td>0.08415107</td><td>0.08415107</td><td>0.08415107</td><td>0.08415107</td><td>0.08415107</td><td>0.08415107</td></tr>\n",
       "\t<tr><td>AFG       </td><td>1980      </td><td>0.08316460</td><td>0.08316460</td><td>0.08316460</td><td>0.08316460</td><td>0.08316460</td><td>0.08316460</td><td>0.08316460</td><td>0.08316460</td><td>⋯         </td><td>0.08316460</td><td>0.08316460</td><td>0.08316460</td><td>0.08316460</td><td>0.08316460</td><td>0.08316460</td><td>0.08316460</td><td>0.08316460</td><td>0.08316460</td><td>0.08316460</td></tr>\n",
       "\t<tr><td>AFG       </td><td>1981      </td><td>0.08511585</td><td>0.08511585</td><td>0.08511585</td><td>0.08511585</td><td>0.08511585</td><td>0.08511585</td><td>0.08511585</td><td>0.08511585</td><td>⋯         </td><td>0.08511585</td><td>0.08511585</td><td>0.08511585</td><td>0.08511585</td><td>0.08511585</td><td>0.08511585</td><td>0.08511585</td><td>0.08511585</td><td>0.08511585</td><td>0.08511585</td></tr>\n",
       "\t<tr><td>AFG       </td><td>1982      </td><td>0.08608785</td><td>0.08608785</td><td>0.08608785</td><td>0.08608785</td><td>0.08608785</td><td>0.08608785</td><td>0.08608785</td><td>0.08608785</td><td>⋯         </td><td>0.08608785</td><td>0.08608785</td><td>0.08608785</td><td>0.08608785</td><td>0.08608785</td><td>0.08608785</td><td>0.08608785</td><td>0.08608785</td><td>0.08608785</td><td>0.08608785</td></tr>\n",
       "\t<tr><td>AFG       </td><td>1983      </td><td>0.08645380</td><td>0.08645380</td><td>0.08645380</td><td>0.08645380</td><td>0.08645380</td><td>0.08645380</td><td>0.08645380</td><td>0.08645380</td><td>⋯         </td><td>0.08645380</td><td>0.08645380</td><td>0.08645380</td><td>0.08645380</td><td>0.08645380</td><td>0.08645380</td><td>0.08645380</td><td>0.08645380</td><td>0.08645380</td><td>0.08645380</td></tr>\n",
       "\t<tr><td>AFG       </td><td>1984      </td><td>0.08557231</td><td>0.08557231</td><td>0.08557231</td><td>0.08557231</td><td>0.08557231</td><td>0.08557231</td><td>0.08557231</td><td>0.08557231</td><td>⋯         </td><td>0.08557231</td><td>0.08557231</td><td>0.08557231</td><td>0.08557231</td><td>0.08557231</td><td>0.08557231</td><td>0.08557231</td><td>0.08557231</td><td>0.08557231</td><td>0.08557231</td></tr>\n",
       "</tbody>\n",
       "</table>\n"
      ],
      "text/markdown": [
       "\n",
       "iso3 | year | gge_gdp_mean | draw_1 | draw_2 | draw_3 | draw_4 | draw_5 | draw_6 | draw_7 | ⋯ | draw_9991 | draw_9992 | draw_9993 | draw_9994 | draw_9995 | draw_9996 | draw_9997 | draw_9998 | draw_9999 | draw_10000 | \n",
       "|---|---|---|---|---|---|\n",
       "| AFG        | 1979       | 0.08415107 | 0.08415107 | 0.08415107 | 0.08415107 | 0.08415107 | 0.08415107 | 0.08415107 | 0.08415107 | ⋯          | 0.08415107 | 0.08415107 | 0.08415107 | 0.08415107 | 0.08415107 | 0.08415107 | 0.08415107 | 0.08415107 | 0.08415107 | 0.08415107 | \n",
       "| AFG        | 1980       | 0.08316460 | 0.08316460 | 0.08316460 | 0.08316460 | 0.08316460 | 0.08316460 | 0.08316460 | 0.08316460 | ⋯          | 0.08316460 | 0.08316460 | 0.08316460 | 0.08316460 | 0.08316460 | 0.08316460 | 0.08316460 | 0.08316460 | 0.08316460 | 0.08316460 | \n",
       "| AFG        | 1981       | 0.08511585 | 0.08511585 | 0.08511585 | 0.08511585 | 0.08511585 | 0.08511585 | 0.08511585 | 0.08511585 | ⋯          | 0.08511585 | 0.08511585 | 0.08511585 | 0.08511585 | 0.08511585 | 0.08511585 | 0.08511585 | 0.08511585 | 0.08511585 | 0.08511585 | \n",
       "| AFG        | 1982       | 0.08608785 | 0.08608785 | 0.08608785 | 0.08608785 | 0.08608785 | 0.08608785 | 0.08608785 | 0.08608785 | ⋯          | 0.08608785 | 0.08608785 | 0.08608785 | 0.08608785 | 0.08608785 | 0.08608785 | 0.08608785 | 0.08608785 | 0.08608785 | 0.08608785 | \n",
       "| AFG        | 1983       | 0.08645380 | 0.08645380 | 0.08645380 | 0.08645380 | 0.08645380 | 0.08645380 | 0.08645380 | 0.08645380 | ⋯          | 0.08645380 | 0.08645380 | 0.08645380 | 0.08645380 | 0.08645380 | 0.08645380 | 0.08645380 | 0.08645380 | 0.08645380 | 0.08645380 | \n",
       "| AFG        | 1984       | 0.08557231 | 0.08557231 | 0.08557231 | 0.08557231 | 0.08557231 | 0.08557231 | 0.08557231 | 0.08557231 | ⋯          | 0.08557231 | 0.08557231 | 0.08557231 | 0.08557231 | 0.08557231 | 0.08557231 | 0.08557231 | 0.08557231 | 0.08557231 | 0.08557231 | \n",
       "\n",
       "\n"
      ],
      "text/plain": [
       "  iso3 year gge_gdp_mean draw_1     draw_2     draw_3     draw_4     draw_5    \n",
       "1 AFG  1979 0.08415107   0.08415107 0.08415107 0.08415107 0.08415107 0.08415107\n",
       "2 AFG  1980 0.08316460   0.08316460 0.08316460 0.08316460 0.08316460 0.08316460\n",
       "3 AFG  1981 0.08511585   0.08511585 0.08511585 0.08511585 0.08511585 0.08511585\n",
       "4 AFG  1982 0.08608785   0.08608785 0.08608785 0.08608785 0.08608785 0.08608785\n",
       "5 AFG  1983 0.08645380   0.08645380 0.08645380 0.08645380 0.08645380 0.08645380\n",
       "6 AFG  1984 0.08557231   0.08557231 0.08557231 0.08557231 0.08557231 0.08557231\n",
       "  draw_6     draw_7     ⋯ draw_9991  draw_9992  draw_9993  draw_9994 \n",
       "1 0.08415107 0.08415107 ⋯ 0.08415107 0.08415107 0.08415107 0.08415107\n",
       "2 0.08316460 0.08316460 ⋯ 0.08316460 0.08316460 0.08316460 0.08316460\n",
       "3 0.08511585 0.08511585 ⋯ 0.08511585 0.08511585 0.08511585 0.08511585\n",
       "4 0.08608785 0.08608785 ⋯ 0.08608785 0.08608785 0.08608785 0.08608785\n",
       "5 0.08645380 0.08645380 ⋯ 0.08645380 0.08645380 0.08645380 0.08645380\n",
       "6 0.08557231 0.08557231 ⋯ 0.08557231 0.08557231 0.08557231 0.08557231\n",
       "  draw_9995  draw_9996  draw_9997  draw_9998  draw_9999  draw_10000\n",
       "1 0.08415107 0.08415107 0.08415107 0.08415107 0.08415107 0.08415107\n",
       "2 0.08316460 0.08316460 0.08316460 0.08316460 0.08316460 0.08316460\n",
       "3 0.08511585 0.08511585 0.08511585 0.08511585 0.08511585 0.08511585\n",
       "4 0.08608785 0.08608785 0.08608785 0.08608785 0.08608785 0.08608785\n",
       "5 0.08645380 0.08645380 0.08645380 0.08645380 0.08645380 0.08645380\n",
       "6 0.08557231 0.08557231 0.08557231 0.08557231 0.08557231 0.08557231"
      ]
     },
     "metadata": {},
     "output_type": "display_data"
    }
   ],
   "source": [
    "gge <- data.table(read.dta13('/home/j/Project/IRH/GGE/final/Copula_GGE_per_GDP_Draws_REV_linConv_V5_logit_gge_gdp_noConv_MADcaps_FINAL_data_chaos_25_10000.dta'))\n",
    "gge <- gge[iso3 %in% countries , .SD, .SDcols = c(\"iso3\", \"year\", \"gge_gdp_mean\", paste0(\"draw_\",c(1:10000)))]\n",
    "head(gge)"
   ]
  },
  {
   "cell_type": "code",
   "execution_count": 6,
   "metadata": {
    "collapsed": false
   },
   "outputs": [
    {
     "data": {
      "text/html": [
       "<table>\n",
       "<thead><tr><th scope=col>iso3</th><th scope=col>year</th><th scope=col>draw_1</th><th scope=col>draw_2</th><th scope=col>draw_3</th><th scope=col>draw_4</th><th scope=col>draw_5</th><th scope=col>draw_6</th><th scope=col>draw_7</th><th scope=col>draw_8</th><th scope=col>⋯</th><th scope=col>draw_9991</th><th scope=col>draw_9992</th><th scope=col>draw_9993</th><th scope=col>draw_9994</th><th scope=col>draw_9995</th><th scope=col>draw_9996</th><th scope=col>draw_9997</th><th scope=col>draw_9998</th><th scope=col>draw_9999</th><th scope=col>draw_10000</th></tr></thead>\n",
       "<tbody>\n",
       "\t<tr><td>AFG     </td><td>1995    </td><td>51.24436</td><td>51.24436</td><td>51.24436</td><td>51.24436</td><td>51.24436</td><td>51.24436</td><td>51.24436</td><td>51.24436</td><td>⋯       </td><td>51.24436</td><td>51.24436</td><td>51.24436</td><td>51.24436</td><td>51.24436</td><td>51.24436</td><td>51.24436</td><td>51.24436</td><td>51.24436</td><td>51.24436</td></tr>\n",
       "\t<tr><td>AFG     </td><td>1996    </td><td>49.13425</td><td>49.13425</td><td>49.13425</td><td>49.13425</td><td>49.13425</td><td>49.13425</td><td>49.13425</td><td>49.13425</td><td>⋯       </td><td>49.13425</td><td>49.13425</td><td>49.13425</td><td>49.13425</td><td>49.13425</td><td>49.13425</td><td>49.13425</td><td>49.13425</td><td>49.13425</td><td>49.13425</td></tr>\n",
       "\t<tr><td>AFG     </td><td>1997    </td><td>48.47850</td><td>48.47850</td><td>48.47850</td><td>48.47850</td><td>48.47850</td><td>48.47850</td><td>48.47850</td><td>48.47850</td><td>⋯       </td><td>48.47850</td><td>48.47850</td><td>48.47850</td><td>48.47850</td><td>48.47850</td><td>48.47850</td><td>48.47850</td><td>48.47850</td><td>48.47850</td><td>48.47850</td></tr>\n",
       "\t<tr><td>AFG     </td><td>1998    </td><td>48.84705</td><td>48.84705</td><td>48.84705</td><td>48.84705</td><td>48.84705</td><td>48.84705</td><td>48.84705</td><td>48.84705</td><td>⋯       </td><td>48.84705</td><td>48.84705</td><td>48.84705</td><td>48.84705</td><td>48.84705</td><td>48.84705</td><td>48.84705</td><td>48.84705</td><td>48.84705</td><td>48.84705</td></tr>\n",
       "\t<tr><td>AFG     </td><td>1999    </td><td>45.25033</td><td>45.25033</td><td>45.25033</td><td>45.25033</td><td>45.25033</td><td>45.25033</td><td>45.25033</td><td>45.25033</td><td>⋯       </td><td>45.25033</td><td>45.25033</td><td>45.25033</td><td>45.25033</td><td>45.25033</td><td>45.25033</td><td>45.25033</td><td>45.25033</td><td>45.25033</td><td>45.25033</td></tr>\n",
       "\t<tr><td>AFG     </td><td>2000    </td><td>46.57129</td><td>46.57129</td><td>46.57129</td><td>46.57129</td><td>46.57129</td><td>46.57129</td><td>46.57129</td><td>46.57129</td><td>⋯       </td><td>46.57129</td><td>46.57129</td><td>46.57129</td><td>46.57129</td><td>46.57129</td><td>46.57129</td><td>46.57129</td><td>46.57129</td><td>46.57129</td><td>46.57129</td></tr>\n",
       "</tbody>\n",
       "</table>\n"
      ],
      "text/markdown": [
       "\n",
       "iso3 | year | draw_1 | draw_2 | draw_3 | draw_4 | draw_5 | draw_6 | draw_7 | draw_8 | ⋯ | draw_9991 | draw_9992 | draw_9993 | draw_9994 | draw_9995 | draw_9996 | draw_9997 | draw_9998 | draw_9999 | draw_10000 | \n",
       "|---|---|---|---|---|---|\n",
       "| AFG      | 1995     | 51.24436 | 51.24436 | 51.24436 | 51.24436 | 51.24436 | 51.24436 | 51.24436 | 51.24436 | ⋯        | 51.24436 | 51.24436 | 51.24436 | 51.24436 | 51.24436 | 51.24436 | 51.24436 | 51.24436 | 51.24436 | 51.24436 | \n",
       "| AFG      | 1996     | 49.13425 | 49.13425 | 49.13425 | 49.13425 | 49.13425 | 49.13425 | 49.13425 | 49.13425 | ⋯        | 49.13425 | 49.13425 | 49.13425 | 49.13425 | 49.13425 | 49.13425 | 49.13425 | 49.13425 | 49.13425 | 49.13425 | \n",
       "| AFG      | 1997     | 48.47850 | 48.47850 | 48.47850 | 48.47850 | 48.47850 | 48.47850 | 48.47850 | 48.47850 | ⋯        | 48.47850 | 48.47850 | 48.47850 | 48.47850 | 48.47850 | 48.47850 | 48.47850 | 48.47850 | 48.47850 | 48.47850 | \n",
       "| AFG      | 1998     | 48.84705 | 48.84705 | 48.84705 | 48.84705 | 48.84705 | 48.84705 | 48.84705 | 48.84705 | ⋯        | 48.84705 | 48.84705 | 48.84705 | 48.84705 | 48.84705 | 48.84705 | 48.84705 | 48.84705 | 48.84705 | 48.84705 | \n",
       "| AFG      | 1999     | 45.25033 | 45.25033 | 45.25033 | 45.25033 | 45.25033 | 45.25033 | 45.25033 | 45.25033 | ⋯        | 45.25033 | 45.25033 | 45.25033 | 45.25033 | 45.25033 | 45.25033 | 45.25033 | 45.25033 | 45.25033 | 45.25033 | \n",
       "| AFG      | 2000     | 46.57129 | 46.57129 | 46.57129 | 46.57129 | 46.57129 | 46.57129 | 46.57129 | 46.57129 | ⋯        | 46.57129 | 46.57129 | 46.57129 | 46.57129 | 46.57129 | 46.57129 | 46.57129 | 46.57129 | 46.57129 | 46.57129 | \n",
       "\n",
       "\n"
      ],
      "text/plain": [
       "  iso3 year draw_1   draw_2   draw_3   draw_4   draw_5   draw_6   draw_7  \n",
       "1 AFG  1995 51.24436 51.24436 51.24436 51.24436 51.24436 51.24436 51.24436\n",
       "2 AFG  1996 49.13425 49.13425 49.13425 49.13425 49.13425 49.13425 49.13425\n",
       "3 AFG  1997 48.47850 48.47850 48.47850 48.47850 48.47850 48.47850 48.47850\n",
       "4 AFG  1998 48.84705 48.84705 48.84705 48.84705 48.84705 48.84705 48.84705\n",
       "5 AFG  1999 45.25033 45.25033 45.25033 45.25033 45.25033 45.25033 45.25033\n",
       "6 AFG  2000 46.57129 46.57129 46.57129 46.57129 46.57129 46.57129 46.57129\n",
       "  draw_8   ⋯ draw_9991 draw_9992 draw_9993 draw_9994 draw_9995 draw_9996\n",
       "1 51.24436 ⋯ 51.24436  51.24436  51.24436  51.24436  51.24436  51.24436 \n",
       "2 49.13425 ⋯ 49.13425  49.13425  49.13425  49.13425  49.13425  49.13425 \n",
       "3 48.47850 ⋯ 48.47850  48.47850  48.47850  48.47850  48.47850  48.47850 \n",
       "4 48.84705 ⋯ 48.84705  48.84705  48.84705  48.84705  48.84705  48.84705 \n",
       "5 45.25033 ⋯ 45.25033  45.25033  45.25033  45.25033  45.25033  45.25033 \n",
       "6 46.57129 ⋯ 46.57129  46.57129  46.57129  46.57129  46.57129  46.57129 \n",
       "  draw_9997 draw_9998 draw_9999 draw_10000\n",
       "1 51.24436  51.24436  51.24436  51.24436  \n",
       "2 49.13425  49.13425  49.13425  49.13425  \n",
       "3 48.47850  48.47850  48.47850  48.47850  \n",
       "4 48.84705  48.84705  48.84705  48.84705  \n",
       "5 45.25033  45.25033  45.25033  45.25033  \n",
       "6 46.57129  46.57129  46.57129  46.57129  "
      ]
     },
     "metadata": {},
     "output_type": "display_data"
    }
   ],
   "source": [
    "THE <- data.table(read.dta13(\"/home/j/Project/IRH/Forecasting/data_new/stats_archive_new_set/the_per_cap_draws_MADcap.dta\"))\n",
    "THE <- THE[ , .SD, .SDcols = c(\"iso3\", \"year\", paste0(\"draw_\",c(1:10000)))]\n",
    "head(THE)"
   ]
  },
  {
   "cell_type": "markdown",
   "metadata": {},
   "source": [
    "### The first step is to compute the correlation of in-sample data. Let's subset those out first"
   ]
  },
  {
   "cell_type": "code",
   "execution_count": 7,
   "metadata": {
    "collapsed": false
   },
   "outputs": [],
   "source": [
    "gdp_insample <- gdp[year<=2014 & year>=1995 , .SD, .SDcols = c(\"iso3\", \"year\", \"gdppc_mean\")]\n",
    "colnames(gdp_insample) <- c(\"iso3\", \"year\", \"mean.gdp\")\n",
    "gge_insample <- gge[year<=2014 & year>=1995 , .SD, .SDcols = c(\"iso3\", \"year\", \"gge_gdp_mean\")]\n",
    "colnames(gge_insample) <- c(\"iso3\", \"year\", \"mean.gge\")\n",
    "ghes_insample <- ghes[year<=2014 & year>=1995 , .SD, .SDcols = c(\"iso3\", \"year\", \"draw_1\")]\n",
    "colnames(ghes_insample) <- c(\"iso3\", \"year\", \"mean.ghes\")\n",
    "THE_insample <- THE[year<=2014 & year>=1995 , .SD, .SDcols = c(\"iso3\", \"year\", \"draw_1\")]\n",
    "colnames(THE_insample) <- c(\"iso3\", \"year\", \"mean.THE\")"
   ]
  },
  {
   "cell_type": "markdown",
   "metadata": {},
   "source": [
    "### Merge and compute correlation"
   ]
  },
  {
   "cell_type": "code",
   "execution_count": 8,
   "metadata": {
    "collapsed": false
   },
   "outputs": [
    {
     "data": {
      "text/html": [
       "<table>\n",
       "<thead><tr><th scope=col>iso3</th><th scope=col>year</th><th scope=col>mean.gdp</th><th scope=col>mean.gge</th><th scope=col>mean.ghes</th><th scope=col>mean.THE</th></tr></thead>\n",
       "<tbody>\n",
       "\t<tr><td>AFG       </td><td>1995      </td><td>780.7482  </td><td>0.08294755</td><td>2.305364  </td><td>51.24436  </td></tr>\n",
       "\t<tr><td>AFG       </td><td>1996      </td><td>757.2020  </td><td>0.08125266</td><td>1.618177  </td><td>49.13425  </td></tr>\n",
       "\t<tr><td>AFG       </td><td>1997      </td><td>738.9581  </td><td>0.08178695</td><td>1.566892  </td><td>48.47850  </td></tr>\n",
       "\t<tr><td>AFG       </td><td>1998      </td><td>725.0324  </td><td>0.08308152</td><td>1.947385  </td><td>48.84705  </td></tr>\n",
       "\t<tr><td>AFG       </td><td>1999      </td><td>709.2279  </td><td>0.08222921</td><td>1.782570  </td><td>45.25033  </td></tr>\n",
       "\t<tr><td>AFG       </td><td>2000      </td><td>677.5062  </td><td>0.08024725</td><td>1.485130  </td><td>46.57129  </td></tr>\n",
       "</tbody>\n",
       "</table>\n"
      ],
      "text/latex": [
       "\\begin{tabular}{r|llllll}\n",
       " iso3 & year & mean.gdp & mean.gge & mean.ghes & mean.THE\\\\\n",
       "\\hline\n",
       "\t AFG        & 1995       & 780.7482   & 0.08294755 & 2.305364   & 51.24436  \\\\\n",
       "\t AFG        & 1996       & 757.2020   & 0.08125266 & 1.618177   & 49.13425  \\\\\n",
       "\t AFG        & 1997       & 738.9581   & 0.08178695 & 1.566892   & 48.47850  \\\\\n",
       "\t AFG        & 1998       & 725.0324   & 0.08308152 & 1.947385   & 48.84705  \\\\\n",
       "\t AFG        & 1999       & 709.2279   & 0.08222921 & 1.782570   & 45.25033  \\\\\n",
       "\t AFG        & 2000       & 677.5062   & 0.08024725 & 1.485130   & 46.57129  \\\\\n",
       "\\end{tabular}\n"
      ],
      "text/markdown": [
       "\n",
       "iso3 | year | mean.gdp | mean.gge | mean.ghes | mean.THE | \n",
       "|---|---|---|---|---|---|\n",
       "| AFG        | 1995       | 780.7482   | 0.08294755 | 2.305364   | 51.24436   | \n",
       "| AFG        | 1996       | 757.2020   | 0.08125266 | 1.618177   | 49.13425   | \n",
       "| AFG        | 1997       | 738.9581   | 0.08178695 | 1.566892   | 48.47850   | \n",
       "| AFG        | 1998       | 725.0324   | 0.08308152 | 1.947385   | 48.84705   | \n",
       "| AFG        | 1999       | 709.2279   | 0.08222921 | 1.782570   | 45.25033   | \n",
       "| AFG        | 2000       | 677.5062   | 0.08024725 | 1.485130   | 46.57129   | \n",
       "\n",
       "\n"
      ],
      "text/plain": [
       "  iso3 year mean.gdp mean.gge   mean.ghes mean.THE\n",
       "1 AFG  1995 780.7482 0.08294755 2.305364  51.24436\n",
       "2 AFG  1996 757.2020 0.08125266 1.618177  49.13425\n",
       "3 AFG  1997 738.9581 0.08178695 1.566892  48.47850\n",
       "4 AFG  1998 725.0324 0.08308152 1.947385  48.84705\n",
       "5 AFG  1999 709.2279 0.08222921 1.782570  45.25033\n",
       "6 AFG  2000 677.5062 0.08024725 1.485130  46.57129"
      ]
     },
     "metadata": {},
     "output_type": "display_data"
    }
   ],
   "source": [
    "insample_data_merged <- merge(x=gdp_insample, y=gge_insample, by=c(\"iso3\", \"year\"), all.y=T)\n",
    "insample_data_merged <- merge(x=insample_data_merged, y=ghes_insample, by=c(\"iso3\", \"year\"), all.y=T)\n",
    "insample_data_merged <- merge(x=insample_data_merged, y=THE_insample, by=c(\"iso3\", \"year\"), all.y=T)\n",
    "head(insample_data_merged)"
   ]
  },
  {
   "cell_type": "markdown",
   "metadata": {},
   "source": [
    "### Compute the correlation"
   ]
  },
  {
   "cell_type": "code",
   "execution_count": 9,
   "metadata": {
    "collapsed": false,
    "scrolled": true
   },
   "outputs": [
    {
     "name": "stdout",
     "output_type": "stream",
     "text": [
      "           mean.gdp  mean.gge mean.ghes  mean.THE\n",
      "mean.gdp  1.0000000 0.4131485 0.9500292 0.9565547\n",
      "mean.gge  0.4131485 1.0000000 0.5501293 0.4911001\n",
      "mean.ghes 0.9500292 0.5501293 1.0000000 0.9744619\n",
      "mean.THE  0.9565547 0.4911001 0.9744619 1.0000000\n"
     ]
    }
   ],
   "source": [
    "print(corr_mat<-cor(insample_data_merged[, .( mean.gdp, mean.gge, mean.ghes, mean.THE)], method = \"spearman\"))"
   ]
  },
  {
   "cell_type": "markdown",
   "metadata": {},
   "source": [
    "### Neal's multivariate copula function"
   ]
  },
  {
   "cell_type": "code",
   "execution_count": 10,
   "metadata": {
    "collapsed": true
   },
   "outputs": [],
   "source": [
    "draw2Dcopula <- function(X, cor_mat, df_return = F){\n",
    "  L <- dim(X)[2]\n",
    "  D <- dim(X)[3]\n",
    "  Xsum <- apply(X, c(2, 3), sum)\n",
    "  mvdat <- mvrnorm(n=D, mu=0 * 1:L, Sigma=cor_mat, empirical=TRUE)\n",
    "  ranks <- apply(mvdat, 2, rank, ties.method=\"first\")\n",
    "  sortedXsim <- apply(Xsum, 1, function(x) sort(x, index.return=TRUE)$ix)\n",
    "  sortedX <- X\n",
    "  for(i in 1:L){\n",
    "    sortedX[,i,] <- X[,i,sortedXsim[,i]]\n",
    "  }\n",
    "  Xcorr <- sortedX\n",
    "  for(i in 1:L){\n",
    "    Xcorr[,i,] <- sortedX[,i,ranks[,i]]\n",
    "  }\n",
    "  if (df_return==T) {\n",
    "    return(data.frame(reshape2::melt(Xcorr)))\n",
    "    }\n",
    "      else {\n",
    "          Xcorr\n",
    "      }\n",
    "}"
   ]
  },
  {
   "cell_type": "markdown",
   "metadata": {},
   "source": [
    "### Merge the draws of LDI and Education, reshape super long and convert to arrays"
   ]
  },
  {
   "cell_type": "code",
   "execution_count": 11,
   "metadata": {
    "collapsed": false
   },
   "outputs": [
    {
     "data": {
      "text/html": [
       "<table>\n",
       "<thead><tr><th scope=col>iso3</th><th scope=col>year</th><th scope=col>variable</th><th scope=col>draw_num</th><th scope=col>data</th></tr></thead>\n",
       "<tbody>\n",
       "\t<tr><td>AFG     </td><td>1979    </td><td>GDPpc   </td><td>draw_1  </td><td>1188.853</td></tr>\n",
       "\t<tr><td>AFG     </td><td>1980    </td><td>GDPpc   </td><td>draw_1  </td><td>1174.080</td></tr>\n",
       "\t<tr><td>AFG     </td><td>1981    </td><td>GDPpc   </td><td>draw_1  </td><td>1256.343</td></tr>\n",
       "\t<tr><td>AFG     </td><td>1982    </td><td>GDPpc   </td><td>draw_1  </td><td>1340.253</td></tr>\n",
       "\t<tr><td>AFG     </td><td>1983    </td><td>GDPpc   </td><td>draw_1  </td><td>1417.630</td></tr>\n",
       "\t<tr><td>AFG     </td><td>1984    </td><td>GDPpc   </td><td>draw_1  </td><td>1440.854</td></tr>\n",
       "</tbody>\n",
       "</table>\n"
      ],
      "text/latex": [
       "\\begin{tabular}{r|lllll}\n",
       " iso3 & year & variable & draw\\_num & data\\\\\n",
       "\\hline\n",
       "\t AFG      & 1979     & GDPpc    & draw\\_1 & 1188.853\\\\\n",
       "\t AFG      & 1980     & GDPpc    & draw\\_1 & 1174.080\\\\\n",
       "\t AFG      & 1981     & GDPpc    & draw\\_1 & 1256.343\\\\\n",
       "\t AFG      & 1982     & GDPpc    & draw\\_1 & 1340.253\\\\\n",
       "\t AFG      & 1983     & GDPpc    & draw\\_1 & 1417.630\\\\\n",
       "\t AFG      & 1984     & GDPpc    & draw\\_1 & 1440.854\\\\\n",
       "\\end{tabular}\n"
      ],
      "text/markdown": [
       "\n",
       "iso3 | year | variable | draw_num | data | \n",
       "|---|---|---|---|---|---|\n",
       "| AFG      | 1979     | GDPpc    | draw_1   | 1188.853 | \n",
       "| AFG      | 1980     | GDPpc    | draw_1   | 1174.080 | \n",
       "| AFG      | 1981     | GDPpc    | draw_1   | 1256.343 | \n",
       "| AFG      | 1982     | GDPpc    | draw_1   | 1340.253 | \n",
       "| AFG      | 1983     | GDPpc    | draw_1   | 1417.630 | \n",
       "| AFG      | 1984     | GDPpc    | draw_1   | 1440.854 | \n",
       "\n",
       "\n"
      ],
      "text/plain": [
       "  iso3 year variable draw_num data    \n",
       "1 AFG  1979 GDPpc    draw_1   1188.853\n",
       "2 AFG  1980 GDPpc    draw_1   1174.080\n",
       "3 AFG  1981 GDPpc    draw_1   1256.343\n",
       "4 AFG  1982 GDPpc    draw_1   1340.253\n",
       "5 AFG  1983 GDPpc    draw_1   1417.630\n",
       "6 AFG  1984 GDPpc    draw_1   1440.854"
      ]
     },
     "metadata": {},
     "output_type": "display_data"
    }
   ],
   "source": [
    "gdp_fc <- gdp[, .SD, .SDcols = c(\"iso3\",\"year\", paste0(\"draw_\", c(1:10000)))]\n",
    "gdp_fc <- gdp_fc[, variable := \"GDPpc\"]\n",
    "gdp_fc <- setcolorder(gdp_fc, c(\"iso3\",\"year\", \"variable\", paste0(\"draw_\", c(1:10000))) )\n",
    "gdp_fc <- melt(gdp_fc, id.vars=c(\"iso3\",\"year\", \"variable\"), variable.name = \"draw_num\", value.name = \"data\")\n",
    "head(gdp_fc)"
   ]
  },
  {
   "cell_type": "code",
   "execution_count": 12,
   "metadata": {
    "collapsed": false
   },
   "outputs": [
    {
     "data": {
      "text/html": [
       "<table>\n",
       "<thead><tr><th scope=col>iso3</th><th scope=col>year</th><th scope=col>variable</th><th scope=col>draw_num</th><th scope=col>data</th></tr></thead>\n",
       "<tbody>\n",
       "\t<tr><td>AFG       </td><td>1979      </td><td>GGE_GDP   </td><td>draw_1    </td><td>0.08415107</td></tr>\n",
       "\t<tr><td>AFG       </td><td>1980      </td><td>GGE_GDP   </td><td>draw_1    </td><td>0.08316460</td></tr>\n",
       "\t<tr><td>AFG       </td><td>1981      </td><td>GGE_GDP   </td><td>draw_1    </td><td>0.08511585</td></tr>\n",
       "\t<tr><td>AFG       </td><td>1982      </td><td>GGE_GDP   </td><td>draw_1    </td><td>0.08608785</td></tr>\n",
       "\t<tr><td>AFG       </td><td>1983      </td><td>GGE_GDP   </td><td>draw_1    </td><td>0.08645380</td></tr>\n",
       "\t<tr><td>AFG       </td><td>1984      </td><td>GGE_GDP   </td><td>draw_1    </td><td>0.08557231</td></tr>\n",
       "</tbody>\n",
       "</table>\n"
      ],
      "text/latex": [
       "\\begin{tabular}{r|lllll}\n",
       " iso3 & year & variable & draw\\_num & data\\\\\n",
       "\\hline\n",
       "\t AFG        & 1979       & GGE\\_GDP  & draw\\_1   & 0.08415107\\\\\n",
       "\t AFG        & 1980       & GGE\\_GDP  & draw\\_1   & 0.08316460\\\\\n",
       "\t AFG        & 1981       & GGE\\_GDP  & draw\\_1   & 0.08511585\\\\\n",
       "\t AFG        & 1982       & GGE\\_GDP  & draw\\_1   & 0.08608785\\\\\n",
       "\t AFG        & 1983       & GGE\\_GDP  & draw\\_1   & 0.08645380\\\\\n",
       "\t AFG        & 1984       & GGE\\_GDP  & draw\\_1   & 0.08557231\\\\\n",
       "\\end{tabular}\n"
      ],
      "text/markdown": [
       "\n",
       "iso3 | year | variable | draw_num | data | \n",
       "|---|---|---|---|---|---|\n",
       "| AFG        | 1979       | GGE_GDP    | draw_1     | 0.08415107 | \n",
       "| AFG        | 1980       | GGE_GDP    | draw_1     | 0.08316460 | \n",
       "| AFG        | 1981       | GGE_GDP    | draw_1     | 0.08511585 | \n",
       "| AFG        | 1982       | GGE_GDP    | draw_1     | 0.08608785 | \n",
       "| AFG        | 1983       | GGE_GDP    | draw_1     | 0.08645380 | \n",
       "| AFG        | 1984       | GGE_GDP    | draw_1     | 0.08557231 | \n",
       "\n",
       "\n"
      ],
      "text/plain": [
       "  iso3 year variable draw_num data      \n",
       "1 AFG  1979 GGE_GDP  draw_1   0.08415107\n",
       "2 AFG  1980 GGE_GDP  draw_1   0.08316460\n",
       "3 AFG  1981 GGE_GDP  draw_1   0.08511585\n",
       "4 AFG  1982 GGE_GDP  draw_1   0.08608785\n",
       "5 AFG  1983 GGE_GDP  draw_1   0.08645380\n",
       "6 AFG  1984 GGE_GDP  draw_1   0.08557231"
      ]
     },
     "metadata": {},
     "output_type": "display_data"
    }
   ],
   "source": [
    "gge_fc <- gge[, .SD, .SDcols = c(\"iso3\",\"year\", paste0(\"draw_\", c(1:10000)))]\n",
    "gge_fc <- gge_fc[, variable := \"GGE_GDP\"]\n",
    "gge_fc <- setcolorder(gge_fc, c(\"iso3\",\"year\", \"variable\", paste0(\"draw_\", c(1:10000))) )\n",
    "gge_fc<- melt(gge_fc, id.vars=c(\"iso3\",\"year\", \"variable\"), variable.name = \"draw_num\", value.name = \"data\")\n",
    "head(gge_fc)"
   ]
  },
  {
   "cell_type": "code",
   "execution_count": 13,
   "metadata": {
    "collapsed": false
   },
   "outputs": [
    {
     "data": {
      "text/html": [
       "<table>\n",
       "<thead><tr><th scope=col>iso3</th><th scope=col>year</th><th scope=col>variable</th><th scope=col>draw_num</th><th scope=col>data</th></tr></thead>\n",
       "<tbody>\n",
       "\t<tr><td>AFG     </td><td>1995    </td><td>GHES_pc </td><td>draw_1  </td><td>2.305364</td></tr>\n",
       "\t<tr><td>AFG     </td><td>1996    </td><td>GHES_pc </td><td>draw_1  </td><td>1.618177</td></tr>\n",
       "\t<tr><td>AFG     </td><td>1997    </td><td>GHES_pc </td><td>draw_1  </td><td>1.566892</td></tr>\n",
       "\t<tr><td>AFG     </td><td>1998    </td><td>GHES_pc </td><td>draw_1  </td><td>1.947385</td></tr>\n",
       "\t<tr><td>AFG     </td><td>1999    </td><td>GHES_pc </td><td>draw_1  </td><td>1.782570</td></tr>\n",
       "\t<tr><td>AFG     </td><td>2000    </td><td>GHES_pc </td><td>draw_1  </td><td>1.485130</td></tr>\n",
       "</tbody>\n",
       "</table>\n"
      ],
      "text/latex": [
       "\\begin{tabular}{r|lllll}\n",
       " iso3 & year & variable & draw\\_num & data\\\\\n",
       "\\hline\n",
       "\t AFG       & 1995      & GHES\\_pc & draw\\_1  & 2.305364 \\\\\n",
       "\t AFG       & 1996      & GHES\\_pc & draw\\_1  & 1.618177 \\\\\n",
       "\t AFG       & 1997      & GHES\\_pc & draw\\_1  & 1.566892 \\\\\n",
       "\t AFG       & 1998      & GHES\\_pc & draw\\_1  & 1.947385 \\\\\n",
       "\t AFG       & 1999      & GHES\\_pc & draw\\_1  & 1.782570 \\\\\n",
       "\t AFG       & 2000      & GHES\\_pc & draw\\_1  & 1.485130 \\\\\n",
       "\\end{tabular}\n"
      ],
      "text/markdown": [
       "\n",
       "iso3 | year | variable | draw_num | data | \n",
       "|---|---|---|---|---|---|\n",
       "| AFG      | 1995     | GHES_pc  | draw_1   | 2.305364 | \n",
       "| AFG      | 1996     | GHES_pc  | draw_1   | 1.618177 | \n",
       "| AFG      | 1997     | GHES_pc  | draw_1   | 1.566892 | \n",
       "| AFG      | 1998     | GHES_pc  | draw_1   | 1.947385 | \n",
       "| AFG      | 1999     | GHES_pc  | draw_1   | 1.782570 | \n",
       "| AFG      | 2000     | GHES_pc  | draw_1   | 1.485130 | \n",
       "\n",
       "\n"
      ],
      "text/plain": [
       "  iso3 year variable draw_num data    \n",
       "1 AFG  1995 GHES_pc  draw_1   2.305364\n",
       "2 AFG  1996 GHES_pc  draw_1   1.618177\n",
       "3 AFG  1997 GHES_pc  draw_1   1.566892\n",
       "4 AFG  1998 GHES_pc  draw_1   1.947385\n",
       "5 AFG  1999 GHES_pc  draw_1   1.782570\n",
       "6 AFG  2000 GHES_pc  draw_1   1.485130"
      ]
     },
     "metadata": {},
     "output_type": "display_data"
    }
   ],
   "source": [
    "ghes_fc <- ghes[, .SD, .SDcols = c(\"iso3\",\"year\", paste0(\"draw_\", c(1:10000)))]\n",
    "ghes_fc <- ghes_fc[, variable := \"GHES_pc\"]\n",
    "ghes_fc <- setcolorder(ghes_fc, c(\"iso3\",\"year\", \"variable\", paste0(\"draw_\", c(1:10000))) )\n",
    "ghes_fc<- melt(ghes_fc, id.vars=c(\"iso3\",\"year\", \"variable\"), variable.name = \"draw_num\", value.name = \"data\")\n",
    "head(ghes_fc)"
   ]
  },
  {
   "cell_type": "code",
   "execution_count": 14,
   "metadata": {
    "collapsed": false
   },
   "outputs": [
    {
     "data": {
      "text/html": [
       "<table>\n",
       "<thead><tr><th scope=col>iso3</th><th scope=col>year</th><th scope=col>variable</th><th scope=col>draw_num</th><th scope=col>data</th></tr></thead>\n",
       "<tbody>\n",
       "\t<tr><td>AFG     </td><td>1995    </td><td>THE_pc  </td><td>draw_1  </td><td>51.24436</td></tr>\n",
       "\t<tr><td>AFG     </td><td>1996    </td><td>THE_pc  </td><td>draw_1  </td><td>49.13425</td></tr>\n",
       "\t<tr><td>AFG     </td><td>1997    </td><td>THE_pc  </td><td>draw_1  </td><td>48.47850</td></tr>\n",
       "\t<tr><td>AFG     </td><td>1998    </td><td>THE_pc  </td><td>draw_1  </td><td>48.84705</td></tr>\n",
       "\t<tr><td>AFG     </td><td>1999    </td><td>THE_pc  </td><td>draw_1  </td><td>45.25033</td></tr>\n",
       "\t<tr><td>AFG     </td><td>2000    </td><td>THE_pc  </td><td>draw_1  </td><td>46.57129</td></tr>\n",
       "</tbody>\n",
       "</table>\n"
      ],
      "text/latex": [
       "\\begin{tabular}{r|lllll}\n",
       " iso3 & year & variable & draw\\_num & data\\\\\n",
       "\\hline\n",
       "\t AFG      & 1995     & THE\\_pc & draw\\_1 & 51.24436\\\\\n",
       "\t AFG      & 1996     & THE\\_pc & draw\\_1 & 49.13425\\\\\n",
       "\t AFG      & 1997     & THE\\_pc & draw\\_1 & 48.47850\\\\\n",
       "\t AFG      & 1998     & THE\\_pc & draw\\_1 & 48.84705\\\\\n",
       "\t AFG      & 1999     & THE\\_pc & draw\\_1 & 45.25033\\\\\n",
       "\t AFG      & 2000     & THE\\_pc & draw\\_1 & 46.57129\\\\\n",
       "\\end{tabular}\n"
      ],
      "text/markdown": [
       "\n",
       "iso3 | year | variable | draw_num | data | \n",
       "|---|---|---|---|---|---|\n",
       "| AFG      | 1995     | THE_pc   | draw_1   | 51.24436 | \n",
       "| AFG      | 1996     | THE_pc   | draw_1   | 49.13425 | \n",
       "| AFG      | 1997     | THE_pc   | draw_1   | 48.47850 | \n",
       "| AFG      | 1998     | THE_pc   | draw_1   | 48.84705 | \n",
       "| AFG      | 1999     | THE_pc   | draw_1   | 45.25033 | \n",
       "| AFG      | 2000     | THE_pc   | draw_1   | 46.57129 | \n",
       "\n",
       "\n"
      ],
      "text/plain": [
       "  iso3 year variable draw_num data    \n",
       "1 AFG  1995 THE_pc   draw_1   51.24436\n",
       "2 AFG  1996 THE_pc   draw_1   49.13425\n",
       "3 AFG  1997 THE_pc   draw_1   48.47850\n",
       "4 AFG  1998 THE_pc   draw_1   48.84705\n",
       "5 AFG  1999 THE_pc   draw_1   45.25033\n",
       "6 AFG  2000 THE_pc   draw_1   46.57129"
      ]
     },
     "metadata": {},
     "output_type": "display_data"
    }
   ],
   "source": [
    "THE_fc <- THE[, .SD, .SDcols = c(\"iso3\",\"year\", paste0(\"draw_\", c(1:10000)))]\n",
    "THE_fc <- THE_fc[, variable := \"THE_pc\"]\n",
    "THE_fc <- setcolorder(THE_fc, c(\"iso3\",\"year\", \"variable\", paste0(\"draw_\", c(1:10000))) )\n",
    "THE_fc<- melt(THE_fc, id.vars=c(\"iso3\",\"year\", \"variable\"), variable.name = \"draw_num\", value.name = \"data\")\n",
    "head(THE_fc)"
   ]
  },
  {
   "cell_type": "code",
   "execution_count": 15,
   "metadata": {
    "collapsed": false
   },
   "outputs": [
    {
     "data": {
      "text/plain": [
       "   user  system elapsed \n",
       " 49.156   7.377  56.500 "
      ]
     },
     "metadata": {},
     "output_type": "display_data"
    },
    {
     "data": {
      "text/html": [
       "<table>\n",
       "<thead><tr><th scope=col>iso3</th><th scope=col>year</th><th scope=col>variable</th><th scope=col>draw_num</th><th scope=col>data</th></tr></thead>\n",
       "<tbody>\n",
       "\t<tr><td>ZMB       </td><td>2035      </td><td>THE_pc    </td><td>draw_10000</td><td>362.0940  </td></tr>\n",
       "\t<tr><td>ZMB       </td><td>2036      </td><td>THE_pc    </td><td>draw_10000</td><td>410.0595  </td></tr>\n",
       "\t<tr><td>ZMB       </td><td>2037      </td><td>THE_pc    </td><td>draw_10000</td><td>400.4243  </td></tr>\n",
       "\t<tr><td>ZMB       </td><td>2038      </td><td>THE_pc    </td><td>draw_10000</td><td>423.8123  </td></tr>\n",
       "\t<tr><td>ZMB       </td><td>2039      </td><td>THE_pc    </td><td>draw_10000</td><td>414.0031  </td></tr>\n",
       "\t<tr><td>ZMB       </td><td>2040      </td><td>THE_pc    </td><td>draw_10000</td><td>419.2039  </td></tr>\n",
       "</tbody>\n",
       "</table>\n"
      ],
      "text/latex": [
       "\\begin{tabular}{r|lllll}\n",
       " iso3 & year & variable & draw\\_num & data\\\\\n",
       "\\hline\n",
       "\t ZMB          & 2035         & THE\\_pc     & draw\\_10000 & 362.0940    \\\\\n",
       "\t ZMB          & 2036         & THE\\_pc     & draw\\_10000 & 410.0595    \\\\\n",
       "\t ZMB          & 2037         & THE\\_pc     & draw\\_10000 & 400.4243    \\\\\n",
       "\t ZMB          & 2038         & THE\\_pc     & draw\\_10000 & 423.8123    \\\\\n",
       "\t ZMB          & 2039         & THE\\_pc     & draw\\_10000 & 414.0031    \\\\\n",
       "\t ZMB          & 2040         & THE\\_pc     & draw\\_10000 & 419.2039    \\\\\n",
       "\\end{tabular}\n"
      ],
      "text/markdown": [
       "\n",
       "iso3 | year | variable | draw_num | data | \n",
       "|---|---|---|---|---|---|\n",
       "| ZMB        | 2035       | THE_pc     | draw_10000 | 362.0940   | \n",
       "| ZMB        | 2036       | THE_pc     | draw_10000 | 410.0595   | \n",
       "| ZMB        | 2037       | THE_pc     | draw_10000 | 400.4243   | \n",
       "| ZMB        | 2038       | THE_pc     | draw_10000 | 423.8123   | \n",
       "| ZMB        | 2039       | THE_pc     | draw_10000 | 414.0031   | \n",
       "| ZMB        | 2040       | THE_pc     | draw_10000 | 419.2039   | \n",
       "\n",
       "\n"
      ],
      "text/plain": [
       "  iso3 year variable draw_num   data    \n",
       "1 ZMB  2035 THE_pc   draw_10000 362.0940\n",
       "2 ZMB  2036 THE_pc   draw_10000 410.0595\n",
       "3 ZMB  2037 THE_pc   draw_10000 400.4243\n",
       "4 ZMB  2038 THE_pc   draw_10000 423.8123\n",
       "5 ZMB  2039 THE_pc   draw_10000 414.0031\n",
       "6 ZMB  2040 THE_pc   draw_10000 419.2039"
      ]
     },
     "metadata": {},
     "output_type": "display_data"
    }
   ],
   "source": [
    "system.time(all_data_binded <- rbind(gdp_fc, gge_fc, ghes_fc, THE_fc))\n",
    "all_data_binded <- all_data_binded[year >=1995,]\n",
    "tail(all_data_binded)"
   ]
  },
  {
   "cell_type": "code",
   "execution_count": 19,
   "metadata": {
    "collapsed": false
   },
   "outputs": [
    {
     "data": {
      "text/plain": [
       "    user   system  elapsed \n",
       "1139.368  234.922  230.248 "
      ]
     },
     "metadata": {},
     "output_type": "display_data"
    },
    {
     "name": "stdout",
     "output_type": "stream",
     "text": [
      " num [1:184, 1:46, 1:4, 1:10000] 781 2728 4044 54756 95020 ...\n",
      " - attr(*, \"dimnames\")=List of 4\n",
      "  ..$ : chr [1:184] \"AFG\" \"AGO\" \"ALB\" \"AND\" ...\n",
      "  ..$ : chr [1:46] \"1995\" \"1996\" \"1997\" \"1998\" ...\n",
      "  ..$ : chr [1:4] \"GDPpc\" \"GGE_GDP\" \"GHES_pc\" \"THE_pc\"\n",
      "  ..$ : chr [1:10000] \"draw_1\" \"draw_2\" \"draw_3\" \"draw_4\" ...\n"
     ]
    }
   ],
   "source": [
    "system.time(myarray2<- mclapply(countries, \n",
    "                                function(x) reshape2::acast(all_data_binded[iso3 == x ,], \n",
    "                                                            iso3 ~  year ~ variable ~ draw_num, \n",
    "                                                      value.var = \"data\"), mc.cores=6, mc.preschedule = F))\n",
    "\n",
    "\n",
    "\n",
    "# system.time(\n",
    "#     myarray2 <- foreach(i = countries) %dopar% {\n",
    "#        temp <- reshape2::acast(all_data_binded[iso3 == paste0(i) ,], \n",
    "#               iso3 ~  year ~ variable ~ draw_num,  value.var = \"data\")\n",
    "#     return(temp)\n",
    "#         }\n",
    "# )\n",
    "\n",
    "myarray2 <- abind(myarray2, along=1)\n",
    "str(myarray2)"
   ]
  },
  {
   "cell_type": "markdown",
   "metadata": {},
   "source": [
    "### Copula'in time"
   ]
  },
  {
   "cell_type": "code",
   "execution_count": 21,
   "metadata": {
    "collapsed": false
   },
   "outputs": [
    {
     "data": {
      "text/plain": [
       "   user  system elapsed \n",
       "186.298 157.207  90.836 "
      ]
     },
     "metadata": {},
     "output_type": "display_data"
    },
    {
     "data": {
      "text/plain": [
       "   user  system elapsed \n",
       " 79.914   7.130  86.992 "
      ]
     },
     "metadata": {},
     "output_type": "display_data"
    },
    {
     "name": "stdout",
     "output_type": "stream",
     "text": [
      "Classes ‘data.table’ and 'data.frame':\t338560000 obs. of  5 variables:\n",
      " $ iso3    : Factor w/ 184 levels \"AFG\",\"AGO\",\"ALB\",..: 1 1 1 1 1 1 1 1 1 1 ...\n",
      " $ year    : int  1995 1996 1997 1998 1999 2000 2001 2002 2003 2004 ...\n",
      " $ variable: Factor w/ 4 levels \"GDPpc\",\"GGE_GDP\",..: 1 1 1 1 1 1 1 1 1 1 ...\n",
      " $ draw_num: Factor w/ 10000 levels \"draw_1\",\"draw_2\",..: 1 1 1 1 1 1 1 1 1 1 ...\n",
      " $ data    : num  781 757 739 725 709 ...\n",
      " - attr(*, \".internal.selfref\")=<externalptr> \n"
     ]
    },
    {
     "data": {
      "text/html": [
       "<table>\n",
       "<thead><tr><th scope=col>iso3</th><th scope=col>year</th><th scope=col>variable</th><th scope=col>draw_num</th><th scope=col>data</th></tr></thead>\n",
       "<tbody>\n",
       "\t<tr><td>AFG     </td><td>1995    </td><td>GDPpc   </td><td>draw_1  </td><td>780.7482</td></tr>\n",
       "\t<tr><td>AFG     </td><td>1996    </td><td>GDPpc   </td><td>draw_1  </td><td>757.2020</td></tr>\n",
       "\t<tr><td>AFG     </td><td>1997    </td><td>GDPpc   </td><td>draw_1  </td><td>738.9581</td></tr>\n",
       "\t<tr><td>AFG     </td><td>1998    </td><td>GDPpc   </td><td>draw_1  </td><td>725.0324</td></tr>\n",
       "\t<tr><td>AFG     </td><td>1999    </td><td>GDPpc   </td><td>draw_1  </td><td>709.2279</td></tr>\n",
       "\t<tr><td>AFG     </td><td>2000    </td><td>GDPpc   </td><td>draw_1  </td><td>677.5062</td></tr>\n",
       "</tbody>\n",
       "</table>\n"
      ],
      "text/latex": [
       "\\begin{tabular}{r|lllll}\n",
       " iso3 & year & variable & draw\\_num & data\\\\\n",
       "\\hline\n",
       "\t AFG      & 1995     & GDPpc    & draw\\_1 & 780.7482\\\\\n",
       "\t AFG      & 1996     & GDPpc    & draw\\_1 & 757.2020\\\\\n",
       "\t AFG      & 1997     & GDPpc    & draw\\_1 & 738.9581\\\\\n",
       "\t AFG      & 1998     & GDPpc    & draw\\_1 & 725.0324\\\\\n",
       "\t AFG      & 1999     & GDPpc    & draw\\_1 & 709.2279\\\\\n",
       "\t AFG      & 2000     & GDPpc    & draw\\_1 & 677.5062\\\\\n",
       "\\end{tabular}\n"
      ],
      "text/markdown": [
       "\n",
       "iso3 | year | variable | draw_num | data | \n",
       "|---|---|---|---|---|---|\n",
       "| AFG      | 1995     | GDPpc    | draw_1   | 780.7482 | \n",
       "| AFG      | 1996     | GDPpc    | draw_1   | 757.2020 | \n",
       "| AFG      | 1997     | GDPpc    | draw_1   | 738.9581 | \n",
       "| AFG      | 1998     | GDPpc    | draw_1   | 725.0324 | \n",
       "| AFG      | 1999     | GDPpc    | draw_1   | 709.2279 | \n",
       "| AFG      | 2000     | GDPpc    | draw_1   | 677.5062 | \n",
       "\n",
       "\n"
      ],
      "text/plain": [
       "  iso3 year variable draw_num data    \n",
       "1 AFG  1995 GDPpc    draw_1   780.7482\n",
       "2 AFG  1996 GDPpc    draw_1   757.2020\n",
       "3 AFG  1997 GDPpc    draw_1   738.9581\n",
       "4 AFG  1998 GDPpc    draw_1   725.0324\n",
       "5 AFG  1999 GDPpc    draw_1   709.2279\n",
       "6 AFG  2000 GDPpc    draw_1   677.5062"
      ]
     },
     "metadata": {},
     "output_type": "display_data"
    },
    {
     "data": {
      "text/html": [
       "<table>\n",
       "<thead><tr><th scope=col>iso3</th><th scope=col>year</th><th scope=col>variable</th><th scope=col>draw_num</th><th scope=col>data</th></tr></thead>\n",
       "<tbody>\n",
       "\t<tr><td>ZMB       </td><td>2035      </td><td>THE_pc    </td><td>draw_10000</td><td>329.0673  </td></tr>\n",
       "\t<tr><td>ZMB       </td><td>2036      </td><td>THE_pc    </td><td>draw_10000</td><td>323.8039  </td></tr>\n",
       "\t<tr><td>ZMB       </td><td>2037      </td><td>THE_pc    </td><td>draw_10000</td><td>313.8227  </td></tr>\n",
       "\t<tr><td>ZMB       </td><td>2038      </td><td>THE_pc    </td><td>draw_10000</td><td>329.4785  </td></tr>\n",
       "\t<tr><td>ZMB       </td><td>2039      </td><td>THE_pc    </td><td>draw_10000</td><td>329.9168  </td></tr>\n",
       "\t<tr><td>ZMB       </td><td>2040      </td><td>THE_pc    </td><td>draw_10000</td><td>335.6975  </td></tr>\n",
       "</tbody>\n",
       "</table>\n"
      ],
      "text/latex": [
       "\\begin{tabular}{r|lllll}\n",
       " iso3 & year & variable & draw\\_num & data\\\\\n",
       "\\hline\n",
       "\t ZMB          & 2035         & THE\\_pc     & draw\\_10000 & 329.0673    \\\\\n",
       "\t ZMB          & 2036         & THE\\_pc     & draw\\_10000 & 323.8039    \\\\\n",
       "\t ZMB          & 2037         & THE\\_pc     & draw\\_10000 & 313.8227    \\\\\n",
       "\t ZMB          & 2038         & THE\\_pc     & draw\\_10000 & 329.4785    \\\\\n",
       "\t ZMB          & 2039         & THE\\_pc     & draw\\_10000 & 329.9168    \\\\\n",
       "\t ZMB          & 2040         & THE\\_pc     & draw\\_10000 & 335.6975    \\\\\n",
       "\\end{tabular}\n"
      ],
      "text/markdown": [
       "\n",
       "iso3 | year | variable | draw_num | data | \n",
       "|---|---|---|---|---|---|\n",
       "| ZMB        | 2035       | THE_pc     | draw_10000 | 329.0673   | \n",
       "| ZMB        | 2036       | THE_pc     | draw_10000 | 323.8039   | \n",
       "| ZMB        | 2037       | THE_pc     | draw_10000 | 313.8227   | \n",
       "| ZMB        | 2038       | THE_pc     | draw_10000 | 329.4785   | \n",
       "| ZMB        | 2039       | THE_pc     | draw_10000 | 329.9168   | \n",
       "| ZMB        | 2040       | THE_pc     | draw_10000 | 335.6975   | \n",
       "\n",
       "\n"
      ],
      "text/plain": [
       "  iso3 year variable draw_num   data    \n",
       "1 ZMB  2035 THE_pc   draw_10000 329.0673\n",
       "2 ZMB  2036 THE_pc   draw_10000 323.8039\n",
       "3 ZMB  2037 THE_pc   draw_10000 313.8227\n",
       "4 ZMB  2038 THE_pc   draw_10000 329.4785\n",
       "5 ZMB  2039 THE_pc   draw_10000 329.9168\n",
       "6 ZMB  2040 THE_pc   draw_10000 335.6975"
      ]
     },
     "metadata": {},
     "output_type": "display_data"
    }
   ],
   "source": [
    "system.time(Xcorr_array <- mclapply(countries, \n",
    "                                     function(x) cbind(x, draw2Dcopula(myarray2[paste0(x),,,], \n",
    "                                     corr_mat , df_return = T)), mc.cores=6, mc.preschedule = F ))\n",
    "\n",
    "\n",
    "\n",
    "system.time(test2 <- list.stack(Xcorr_array, data.table=T))\n",
    "colnames(test2) <- c(\"iso3\", \"year\", \"variable\", \"draw_num\", \"data\")\n",
    "str(test2)\n",
    "head(test2)\n",
    "tail(test2)                  "
   ]
  },
  {
   "cell_type": "code",
   "execution_count": 22,
   "metadata": {
    "collapsed": false
   },
   "outputs": [
    {
     "data": {
      "text/html": [
       "<table>\n",
       "<thead><tr><th scope=col>iso3</th><th scope=col>year</th><th scope=col>variable</th><th scope=col>draw_1</th><th scope=col>draw_2</th><th scope=col>draw_3</th><th scope=col>draw_4</th><th scope=col>draw_5</th><th scope=col>draw_6</th><th scope=col>draw_7</th><th scope=col>⋯</th><th scope=col>draw_9991</th><th scope=col>draw_9992</th><th scope=col>draw_9993</th><th scope=col>draw_9994</th><th scope=col>draw_9995</th><th scope=col>draw_9996</th><th scope=col>draw_9997</th><th scope=col>draw_9998</th><th scope=col>draw_9999</th><th scope=col>draw_10000</th></tr></thead>\n",
       "<tbody>\n",
       "\t<tr><td>AFG         </td><td>1995        </td><td>GDPpc       </td><td>780.74816512</td><td>780.74816512</td><td>780.74816512</td><td>780.74816512</td><td>780.74816512</td><td>780.74816512</td><td>780.74816512</td><td>⋯           </td><td>780.74816512</td><td>780.74816512</td><td>780.74816512</td><td>780.74816512</td><td>780.74816512</td><td>780.74816512</td><td>780.74816512</td><td>780.74816512</td><td>780.74816512</td><td>780.74816512</td></tr>\n",
       "\t<tr><td>AFG         </td><td>1995        </td><td>GGE_GDP     </td><td>  0.08294755</td><td>  0.08294755</td><td>  0.08294755</td><td>  0.08294755</td><td>  0.08294755</td><td>  0.08294755</td><td>  0.08294755</td><td>⋯           </td><td>  0.08294755</td><td>  0.08294755</td><td>  0.08294755</td><td>  0.08294755</td><td>  0.08294755</td><td>  0.08294755</td><td>  0.08294755</td><td>  0.08294755</td><td>  0.08294755</td><td>  0.08294755</td></tr>\n",
       "\t<tr><td>AFG         </td><td>1995        </td><td>GHES_pc     </td><td>  2.30536438</td><td>  2.30536438</td><td>  2.30536438</td><td>  2.30536438</td><td>  2.30536438</td><td>  2.30536438</td><td>  2.30536438</td><td>⋯           </td><td>  2.30536438</td><td>  2.30536438</td><td>  2.30536438</td><td>  2.30536438</td><td>  2.30536438</td><td>  2.30536438</td><td>  2.30536438</td><td>  2.30536438</td><td>  2.30536438</td><td>  2.30536438</td></tr>\n",
       "\t<tr><td>AFG         </td><td>1995        </td><td>THE_pc      </td><td> 51.24436235</td><td> 51.24436235</td><td> 51.24436235</td><td> 51.24436235</td><td> 51.24436235</td><td> 51.24436235</td><td> 51.24436235</td><td>⋯           </td><td> 51.24436235</td><td> 51.24436235</td><td> 51.24436235</td><td> 51.24436235</td><td> 51.24436235</td><td> 51.24436235</td><td> 51.24436235</td><td> 51.24436235</td><td> 51.24436235</td><td> 51.24436235</td></tr>\n",
       "\t<tr><td>AFG         </td><td>1996        </td><td>GDPpc       </td><td>757.20201261</td><td>757.20201261</td><td>757.20201261</td><td>757.20201261</td><td>757.20201261</td><td>757.20201261</td><td>757.20201261</td><td>⋯           </td><td>757.20201261</td><td>757.20201261</td><td>757.20201261</td><td>757.20201261</td><td>757.20201261</td><td>757.20201261</td><td>757.20201261</td><td>757.20201261</td><td>757.20201261</td><td>757.20201261</td></tr>\n",
       "\t<tr><td>AFG         </td><td>1996        </td><td>GGE_GDP     </td><td>  0.08125266</td><td>  0.08125266</td><td>  0.08125266</td><td>  0.08125266</td><td>  0.08125266</td><td>  0.08125266</td><td>  0.08125266</td><td>⋯           </td><td>  0.08125266</td><td>  0.08125266</td><td>  0.08125266</td><td>  0.08125266</td><td>  0.08125266</td><td>  0.08125266</td><td>  0.08125266</td><td>  0.08125266</td><td>  0.08125266</td><td>  0.08125266</td></tr>\n",
       "</tbody>\n",
       "</table>\n"
      ],
      "text/markdown": [
       "\n",
       "iso3 | year | variable | draw_1 | draw_2 | draw_3 | draw_4 | draw_5 | draw_6 | draw_7 | ⋯ | draw_9991 | draw_9992 | draw_9993 | draw_9994 | draw_9995 | draw_9996 | draw_9997 | draw_9998 | draw_9999 | draw_10000 | \n",
       "|---|---|---|---|---|---|\n",
       "| AFG          | 1995         | GDPpc        | 780.74816512 | 780.74816512 | 780.74816512 | 780.74816512 | 780.74816512 | 780.74816512 | 780.74816512 | ⋯            | 780.74816512 | 780.74816512 | 780.74816512 | 780.74816512 | 780.74816512 | 780.74816512 | 780.74816512 | 780.74816512 | 780.74816512 | 780.74816512 | \n",
       "| AFG          | 1995         | GGE_GDP      |   0.08294755 |   0.08294755 |   0.08294755 |   0.08294755 |   0.08294755 |   0.08294755 |   0.08294755 | ⋯            |   0.08294755 |   0.08294755 |   0.08294755 |   0.08294755 |   0.08294755 |   0.08294755 |   0.08294755 |   0.08294755 |   0.08294755 |   0.08294755 | \n",
       "| AFG          | 1995         | GHES_pc      |   2.30536438 |   2.30536438 |   2.30536438 |   2.30536438 |   2.30536438 |   2.30536438 |   2.30536438 | ⋯            |   2.30536438 |   2.30536438 |   2.30536438 |   2.30536438 |   2.30536438 |   2.30536438 |   2.30536438 |   2.30536438 |   2.30536438 |   2.30536438 | \n",
       "| AFG          | 1995         | THE_pc       |  51.24436235 |  51.24436235 |  51.24436235 |  51.24436235 |  51.24436235 |  51.24436235 |  51.24436235 | ⋯            |  51.24436235 |  51.24436235 |  51.24436235 |  51.24436235 |  51.24436235 |  51.24436235 |  51.24436235 |  51.24436235 |  51.24436235 |  51.24436235 | \n",
       "| AFG          | 1996         | GDPpc        | 757.20201261 | 757.20201261 | 757.20201261 | 757.20201261 | 757.20201261 | 757.20201261 | 757.20201261 | ⋯            | 757.20201261 | 757.20201261 | 757.20201261 | 757.20201261 | 757.20201261 | 757.20201261 | 757.20201261 | 757.20201261 | 757.20201261 | 757.20201261 | \n",
       "| AFG          | 1996         | GGE_GDP      |   0.08125266 |   0.08125266 |   0.08125266 |   0.08125266 |   0.08125266 |   0.08125266 |   0.08125266 | ⋯            |   0.08125266 |   0.08125266 |   0.08125266 |   0.08125266 |   0.08125266 |   0.08125266 |   0.08125266 |   0.08125266 |   0.08125266 |   0.08125266 | \n",
       "\n",
       "\n"
      ],
      "text/plain": [
       "  iso3 year variable draw_1       draw_2       draw_3       draw_4      \n",
       "1 AFG  1995 GDPpc    780.74816512 780.74816512 780.74816512 780.74816512\n",
       "2 AFG  1995 GGE_GDP    0.08294755   0.08294755   0.08294755   0.08294755\n",
       "3 AFG  1995 GHES_pc    2.30536438   2.30536438   2.30536438   2.30536438\n",
       "4 AFG  1995 THE_pc    51.24436235  51.24436235  51.24436235  51.24436235\n",
       "5 AFG  1996 GDPpc    757.20201261 757.20201261 757.20201261 757.20201261\n",
       "6 AFG  1996 GGE_GDP    0.08125266   0.08125266   0.08125266   0.08125266\n",
       "  draw_5       draw_6       draw_7       ⋯ draw_9991    draw_9992   \n",
       "1 780.74816512 780.74816512 780.74816512 ⋯ 780.74816512 780.74816512\n",
       "2   0.08294755   0.08294755   0.08294755 ⋯   0.08294755   0.08294755\n",
       "3   2.30536438   2.30536438   2.30536438 ⋯   2.30536438   2.30536438\n",
       "4  51.24436235  51.24436235  51.24436235 ⋯  51.24436235  51.24436235\n",
       "5 757.20201261 757.20201261 757.20201261 ⋯ 757.20201261 757.20201261\n",
       "6   0.08125266   0.08125266   0.08125266 ⋯   0.08125266   0.08125266\n",
       "  draw_9993    draw_9994    draw_9995    draw_9996    draw_9997    draw_9998   \n",
       "1 780.74816512 780.74816512 780.74816512 780.74816512 780.74816512 780.74816512\n",
       "2   0.08294755   0.08294755   0.08294755   0.08294755   0.08294755   0.08294755\n",
       "3   2.30536438   2.30536438   2.30536438   2.30536438   2.30536438   2.30536438\n",
       "4  51.24436235  51.24436235  51.24436235  51.24436235  51.24436235  51.24436235\n",
       "5 757.20201261 757.20201261 757.20201261 757.20201261 757.20201261 757.20201261\n",
       "6   0.08125266   0.08125266   0.08125266   0.08125266   0.08125266   0.08125266\n",
       "  draw_9999    draw_10000  \n",
       "1 780.74816512 780.74816512\n",
       "2   0.08294755   0.08294755\n",
       "3   2.30536438   2.30536438\n",
       "4  51.24436235  51.24436235\n",
       "5 757.20201261 757.20201261\n",
       "6   0.08125266   0.08125266"
      ]
     },
     "metadata": {},
     "output_type": "display_data"
    }
   ],
   "source": [
    "### Stack into a DT\n",
    "test3 <- dcast(test2, iso3 + year + variable ~ draw_num, value.var = c(\"data\"))\n",
    "head(test3)"
   ]
  },
  {
   "cell_type": "code",
   "execution_count": null,
   "metadata": {
    "collapsed": false
   },
   "outputs": [
    {
     "name": "stderr",
     "output_type": "stream",
     "text": [
      "Using 'data' as value column. Use 'value.var' to override\n"
     ]
    }
   ],
   "source": [
    "### Validation\n",
    "test4 <- melt(test3, id.vars=c(\"iso3\", \"year\", \"variable\"), value.name = \"data\", variable.name = \"draw_num\")\n",
    "test4 <- dcast(test4, iso3 + year + draw_num ~ variable)\n",
    "test4 <- test4[,  GGE_pc := GGE_GDP * GDPpc]\n",
    "head(test4)"
   ]
  },
  {
   "cell_type": "code",
   "execution_count": null,
   "metadata": {
    "collapsed": false
   },
   "outputs": [],
   "source": [
    "test4 <- test4[, GDP_minus_GHES := GDPpc - GHES_pc]\n",
    "test4 <- test4[, GDP_minus_GGE := GDPpc - GGE_pc]\n",
    "test4 <- test4[, GGE_minus_GHES := GGE_pc - GHES_pc]\n",
    "test4 <- test4[, GDP_minus_THE := GDPpc - THE_pc]\n",
    "head(test4)"
   ]
  },
  {
   "cell_type": "code",
   "execution_count": null,
   "metadata": {
    "collapsed": false
   },
   "outputs": [],
   "source": [
    "## Subset out where inequalities break\n",
    "test5 <- test4[GDP_minus_GHES < 0 | GDP_minus_GGE < 0 | GGE_minus_GHES < 0 | GDP_minus_THE < 0,]\n",
    "bads <- unique(test5[,draw_num])"
   ]
  },
  {
   "cell_type": "code",
   "execution_count": null,
   "metadata": {
    "collapsed": false
   },
   "outputs": [],
   "source": [
    "length(bads)"
   ]
  },
  {
   "cell_type": "code",
   "execution_count": null,
   "metadata": {
    "collapsed": false
   },
   "outputs": [],
   "source": [
    "## Drop the bads\n",
    "test4 <- test4[!draw_num %in% bads,]"
   ]
  },
  {
   "cell_type": "code",
   "execution_count": null,
   "metadata": {
    "collapsed": false,
    "scrolled": true
   },
   "outputs": [],
   "source": [
    "## Test!!\n",
    "summary(test4[, GDP_minus_GHES])\n",
    "summary(test4[, GDP_minus_GGE])\n",
    "summary(test4[, GGE_minus_GHES])\n",
    "summary(test4[, GDP_minus_THE])"
   ]
  },
  {
   "cell_type": "code",
   "execution_count": null,
   "metadata": {
    "collapsed": false
   },
   "outputs": [],
   "source": [
    "## Let's melt and cast out and rename and sample 1000\n",
    "test6 <- melt(test4[, .(iso3, year, draw_num, GDPpc, GGE_GDP, GHES_pc, GGE_pc, THE_pc)], id.vars = c(\"iso3\", \"year\", \"draw_num\"), value.name = \"data\")\n",
    "test6 <- dcast(test6, iso3 + year + variable ~ draw_num, value.var = \"data\")\n",
    "dim(test6)\n",
    "head(test6)"
   ]
  },
  {
   "cell_type": "code",
   "execution_count": null,
   "metadata": {
    "collapsed": false
   },
   "outputs": [],
   "source": [
    "## Rename\n",
    "len_draw <- length(grep(\"draw_\", names(test6), value = TRUE))\n",
    "colnames(test6) <- c(\"iso3\", \"year\", \"variable\", paste0(\"draw_\",c(1:len_draw)))\n",
    "# head(test6)\n",
    "test7 <- test6[, .SD , .SDcols = c(\"iso3\", \"year\", \"variable\", paste0(\"draw_\", sample(len_draw, 1000,replace = F)))]\n",
    "colnames(test7) <- c(\"iso3\", \"year\", \"variable\", paste0(\"draw_\",c(1:1000)))\n",
    "head(test7)"
   ]
  },
  {
   "cell_type": "code",
   "execution_count": null,
   "metadata": {
    "collapsed": false
   },
   "outputs": [],
   "source": [
    "GDP_sorted <- test7[variable==\"GDPpc\", .SD, .SDcols = c(\"iso3\",\"year\", paste0(\"draw_\", c(1:1000)))]\n",
    "colnames(GDP_sorted) <- c(\"iso3\",\"year\", paste0(\"draw_\", c(1:1000)))\n",
    "GGE_sorted <- test7[variable==\"GGE_GDP\", .SD, .SDcols = c(\"iso3\",\"year\", paste0(\"draw_\", c(1:1000)))]\n",
    "colnames(GGE_sorted) <- c(\"iso3\",\"year\", paste0(\"draw_\", c(1:1000)))\n",
    "GHES_sorted <- test7[variable==\"GHES_pc\", .SD, .SDcols = c(\"iso3\",\"year\", paste0(\"draw_\", c(1:1000)))]\n",
    "colnames(GHES_sorted) <- c(\"iso3\",\"year\", paste0(\"draw_\", c(1:1000)))\n",
    "THE_sorted <- test7[variable==\"THE_pc\", .SD, .SDcols = c(\"iso3\",\"year\", paste0(\"draw_\", c(1:1000)))]\n",
    "colnames(THE_sorted) <- c(\"iso3\",\"year\", paste0(\"draw_\", c(1:1000)))"
   ]
  },
  {
   "cell_type": "code",
   "execution_count": null,
   "metadata": {
    "collapsed": false
   },
   "outputs": [],
   "source": [
    "head(GDP_sorted)\n",
    "head(GGE_sorted)\n",
    "head(GHES_sorted)\n",
    "head(THE_sorted)"
   ]
  },
  {
   "cell_type": "code",
   "execution_count": null,
   "metadata": {
    "collapsed": false
   },
   "outputs": [],
   "source": [
    "## Save out\n",
    "fwrite(GDP_sorted, \"/home/j/Project/IRH/Forecasting/data_new/GDPpc_sorted.csv\" )\n",
    "fwrite(GGE_sorted, \"/home/j/Project/IRH/Forecasting/data_new/GGE_GDP_sorted.csv\" )\n",
    "fwrite(GHES_sorted, \"/home/j/Project/IRH/Forecasting/data_new/GHES_pc_sorted.csv\" )\n",
    "fwrite(THE_sorted, \"/home/j/Project/IRH/Forecasting/data_new/THE_pc_sorted.csv\" )\n",
    "\n",
    "fwrite(GDP_sorted[year==2014 | year == 2040, ], \"/home/j/Project/IRH/Forecasting/data_new/GDPpc_sorted_2014_2040.csv\" )\n",
    "fwrite(GGE_sorted[year==2014 | year == 2040, ], \"/home/j/Project/IRH/Forecasting/data_new/GGE_GDP_sorted_2014_2040.csv\" )\n",
    "fwrite(GHES_sorted[year==2014 | year == 2040, ], \"/home/j/Project/IRH/Forecasting/data_new/GHES_pc_sorted_2014_2040.csv\" )\n",
    "fwrite(THE_sorted[year==2014 | year == 2040, ], \"/home/j/Project/IRH/Forecasting/data_new/THE_pc_sorted_2014_2040.csv\" )"
   ]
  }
 ],
 "metadata": {
  "anaconda-cloud": {},
  "kernelspec": {
   "display_name": "R",
   "language": "R",
   "name": "ir"
  },
  "language_info": {
   "codemirror_mode": "r",
   "file_extension": ".r",
   "mimetype": "text/x-r-source",
   "name": "R",
   "pygments_lexer": "r",
   "version": "3.3.2"
  }
 },
 "nbformat": 4,
 "nbformat_minor": 1
}
