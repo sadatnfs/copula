{
 "cells": [
  {
   "cell_type": "code",
   "execution_count": 1,
   "metadata": {
    "scrolled": true
   },
   "outputs": [
    {
     "name": "stderr",
     "output_type": "stream",
     "text": [
      "Loading required package: foreign\n",
      "Loading required package: readstata13\n",
      "Loading required package: data.table\n",
      "Loading required package: MASS\n",
      "Loading required package: ggplot2\n",
      "Loading required package: gridExtra\n",
      "Loading required package: stringr\n",
      "Loading required package: matrixStats\n",
      "matrixStats v0.51.0 (2016-10-08) successfully loaded. See ?matrixStats for help.\n",
      "Loading required package: parallel\n",
      "Loading required package: abind\n",
      "Loading required package: rlist\n"
     ]
    },
    {
     "data": {
      "text/html": [
       "40"
      ],
      "text/latex": [
       "40"
      ],
      "text/markdown": [
       "40"
      ],
      "text/plain": [
       "[1] 40"
      ]
     },
     "metadata": {},
     "output_type": "display_data"
    }
   ],
   "source": [
    "# rm(list=ls())\n",
    "require(foreign)\n",
    "require(readstata13)\n",
    "require(data.table)\n",
    "require(MASS)\n",
    "require(ggplot2)\n",
    "# require(foreach)\n",
    "require(gridExtra)\n",
    "require(stringr)\n",
    "require(matrixStats)\n",
    "require(parallel)\n",
    "require(abind)\n",
    "require(rlist)\n",
    "\n",
    "\n",
    "parallel::detectCores()\n",
    "## Resizing notebook plot space\n",
    "options(repr.plot.width=16, repr.plot.height=9)"
   ]
  },
  {
   "cell_type": "code",
   "execution_count": 2,
   "metadata": {},
   "outputs": [],
   "source": [
    "### Bring in location metadata\n",
    "locs <- data.table(read.dta13(\"/home/j/Project/IRH/DAH/RESEARCH/INTEGRATED DATABASES/DATA/FGH_2016/region_data/location_metadata.dta\"))\n",
    "countries <- unique(locs[, location_id])"
   ]
  },
  {
   "cell_type": "markdown",
   "metadata": {},
   "source": [
    "## Bring in LDI, TFR and Education"
   ]
  },
  {
   "cell_type": "code",
   "execution_count": 7,
   "metadata": {
    "scrolled": true
   },
   "outputs": [
    {
     "data": {
      "text/html": [
       "<table>\n",
       "<thead><tr><th scope=col>location_id</th><th scope=col>ihme_loc_id</th><th scope=col>year_id</th><th scope=col>age_group_id</th><th scope=col>sex_id</th><th scope=col>LDIpc_1</th><th scope=col>LDIpc_2</th><th scope=col>LDIpc_3</th><th scope=col>LDIpc_4</th><th scope=col>LDIpc_5</th><th scope=col>⋯</th><th scope=col>LDIpc_994</th><th scope=col>LDIpc_995</th><th scope=col>LDIpc_996</th><th scope=col>LDIpc_997</th><th scope=col>LDIpc_998</th><th scope=col>LDIpc_999</th><th scope=col>LDIpc_1000</th><th scope=col>rt_mean</th><th scope=col>rt_upper</th><th scope=col>rt_lower</th></tr></thead>\n",
       "<tbody>\n",
       "\t<tr><td>6        </td><td>CHN      </td><td>1979     </td><td>22       </td><td>3        </td><td> 908.1071</td><td> 908.1071</td><td> 908.1071</td><td> 908.1071</td><td> 908.1071</td><td>⋯        </td><td> 908.1071</td><td> 908.1071</td><td> 908.1071</td><td> 908.1071</td><td> 908.1071</td><td> 908.1071</td><td> 908.1071</td><td> 908.1071</td><td> 908.1071</td><td> 908.1071</td></tr>\n",
       "\t<tr><td>6        </td><td>CHN      </td><td>1980     </td><td>22       </td><td>3        </td><td> 937.6871</td><td> 937.6871</td><td> 937.6871</td><td> 937.6871</td><td> 937.6871</td><td>⋯        </td><td> 937.6871</td><td> 937.6871</td><td> 937.6871</td><td> 937.6871</td><td> 937.6871</td><td> 937.6871</td><td> 937.6871</td><td> 937.6871</td><td> 937.6871</td><td> 937.6871</td></tr>\n",
       "\t<tr><td>6        </td><td>CHN      </td><td>1981     </td><td>22       </td><td>3        </td><td> 968.6980</td><td> 968.6980</td><td> 968.6980</td><td> 968.6980</td><td> 968.6980</td><td>⋯        </td><td> 968.6980</td><td> 968.6980</td><td> 968.6980</td><td> 968.6980</td><td> 968.6980</td><td> 968.6980</td><td> 968.6980</td><td> 968.6980</td><td> 968.6980</td><td> 968.6980</td></tr>\n",
       "\t<tr><td>6        </td><td>CHN      </td><td>1982     </td><td>22       </td><td>3        </td><td>1009.6752</td><td>1009.6752</td><td>1009.6752</td><td>1009.6752</td><td>1009.6752</td><td>⋯        </td><td>1009.6752</td><td>1009.6752</td><td>1009.6752</td><td>1009.6752</td><td>1009.6752</td><td>1009.6752</td><td>1009.6752</td><td>1009.6752</td><td>1009.6752</td><td>1009.6752</td></tr>\n",
       "\t<tr><td>6        </td><td>CHN      </td><td>1983     </td><td>22       </td><td>3        </td><td>1058.4039</td><td>1058.4039</td><td>1058.4039</td><td>1058.4039</td><td>1058.4039</td><td>⋯        </td><td>1058.4039</td><td>1058.4039</td><td>1058.4039</td><td>1058.4039</td><td>1058.4039</td><td>1058.4039</td><td>1058.4039</td><td>1058.4039</td><td>1058.4039</td><td>1058.4039</td></tr>\n",
       "\t<tr><td>6        </td><td>CHN      </td><td>1984     </td><td>22       </td><td>3        </td><td>1125.3904</td><td>1125.3904</td><td>1125.3904</td><td>1125.3904</td><td>1125.3904</td><td>⋯        </td><td>1125.3904</td><td>1125.3904</td><td>1125.3904</td><td>1125.3904</td><td>1125.3904</td><td>1125.3904</td><td>1125.3904</td><td>1125.3904</td><td>1125.3904</td><td>1125.3904</td></tr>\n",
       "</tbody>\n",
       "</table>\n"
      ],
      "text/latex": [
       "\\begin{tabular}{r|llllllllllllllllllllllllllllllllllllllllllllllllllllllllllllllllllllllllllllllllllllllllllllllllllllllllllllllllllllllllllllllllllllllllllllllllllllllllllllllllllllllllllllllllllllllllllllllllllllllllllllllllllllllllllllllllllllllllllllllllllllllllllllllllllllllllllllllllllllllllllllllllllllllllllllllllllllllllllllllllllllllllllllllllllllllllllllllllllllllllllllllllllllllllllllllllllllllllllllllllllllllllllllllllllllllllllllllllllllllllllllllllllllllllllllllllllllllllllllllllllllllllllllllllllllllllllllllllllllllllllllllllllllllllllllllllllllllllllllllllllllllllllllllllllllllllllllllllllllllllllllllllllllllllllllllllllllllllllllllllllllllllllllllllllllllllllllllllllllllllllllllllllllllllllllllllllllllllllllllllllllllllllllllllllllllllllllllllllllllllllllllllllllllllllllllllllllllllllllllllllllllllllllllllllllllllllllllllllllllllllllllllllllllllllllllllllllllllllllllllllllllllllllllllllllllllllllllllllllllllllllllllllllllllllllllllllllllllllllllllllllllllllllllllllllllllllllllllllllllllllllllll}\n",
       " location\\_id & ihme\\_loc\\_id & year\\_id & age\\_group\\_id & sex\\_id & LDIpc\\_1 & LDIpc\\_2 & LDIpc\\_3 & LDIpc\\_4 & LDIpc\\_5 & ⋯ & LDIpc\\_994 & LDIpc\\_995 & LDIpc\\_996 & LDIpc\\_997 & LDIpc\\_998 & LDIpc\\_999 & LDIpc\\_1000 & rt\\_mean & rt\\_upper & rt\\_lower\\\\\n",
       "\\hline\n",
       "\t 6         & CHN       & 1979      & 22        & 3         &  908.1071 &  908.1071 &  908.1071 &  908.1071 &  908.1071 & ⋯         &  908.1071 &  908.1071 &  908.1071 &  908.1071 &  908.1071 &  908.1071 &  908.1071 &  908.1071 &  908.1071 &  908.1071\\\\\n",
       "\t 6         & CHN       & 1980      & 22        & 3         &  937.6871 &  937.6871 &  937.6871 &  937.6871 &  937.6871 & ⋯         &  937.6871 &  937.6871 &  937.6871 &  937.6871 &  937.6871 &  937.6871 &  937.6871 &  937.6871 &  937.6871 &  937.6871\\\\\n",
       "\t 6         & CHN       & 1981      & 22        & 3         &  968.6980 &  968.6980 &  968.6980 &  968.6980 &  968.6980 & ⋯         &  968.6980 &  968.6980 &  968.6980 &  968.6980 &  968.6980 &  968.6980 &  968.6980 &  968.6980 &  968.6980 &  968.6980\\\\\n",
       "\t 6         & CHN       & 1982      & 22        & 3         & 1009.6752 & 1009.6752 & 1009.6752 & 1009.6752 & 1009.6752 & ⋯         & 1009.6752 & 1009.6752 & 1009.6752 & 1009.6752 & 1009.6752 & 1009.6752 & 1009.6752 & 1009.6752 & 1009.6752 & 1009.6752\\\\\n",
       "\t 6         & CHN       & 1983      & 22        & 3         & 1058.4039 & 1058.4039 & 1058.4039 & 1058.4039 & 1058.4039 & ⋯         & 1058.4039 & 1058.4039 & 1058.4039 & 1058.4039 & 1058.4039 & 1058.4039 & 1058.4039 & 1058.4039 & 1058.4039 & 1058.4039\\\\\n",
       "\t 6         & CHN       & 1984      & 22        & 3         & 1125.3904 & 1125.3904 & 1125.3904 & 1125.3904 & 1125.3904 & ⋯         & 1125.3904 & 1125.3904 & 1125.3904 & 1125.3904 & 1125.3904 & 1125.3904 & 1125.3904 & 1125.3904 & 1125.3904 & 1125.3904\\\\\n",
       "\\end{tabular}\n"
      ],
      "text/markdown": [
       "\n",
       "location_id | ihme_loc_id | year_id | age_group_id | sex_id | LDIpc_1 | LDIpc_2 | LDIpc_3 | LDIpc_4 | LDIpc_5 | ⋯ | LDIpc_994 | LDIpc_995 | LDIpc_996 | LDIpc_997 | LDIpc_998 | LDIpc_999 | LDIpc_1000 | rt_mean | rt_upper | rt_lower | \n",
       "|---|---|---|---|---|---|\n",
       "| 6         | CHN       | 1979      | 22        | 3         |  908.1071 |  908.1071 |  908.1071 |  908.1071 |  908.1071 | ⋯         |  908.1071 |  908.1071 |  908.1071 |  908.1071 |  908.1071 |  908.1071 |  908.1071 |  908.1071 |  908.1071 |  908.1071 | \n",
       "| 6         | CHN       | 1980      | 22        | 3         |  937.6871 |  937.6871 |  937.6871 |  937.6871 |  937.6871 | ⋯         |  937.6871 |  937.6871 |  937.6871 |  937.6871 |  937.6871 |  937.6871 |  937.6871 |  937.6871 |  937.6871 |  937.6871 | \n",
       "| 6         | CHN       | 1981      | 22        | 3         |  968.6980 |  968.6980 |  968.6980 |  968.6980 |  968.6980 | ⋯         |  968.6980 |  968.6980 |  968.6980 |  968.6980 |  968.6980 |  968.6980 |  968.6980 |  968.6980 |  968.6980 |  968.6980 | \n",
       "| 6         | CHN       | 1982      | 22        | 3         | 1009.6752 | 1009.6752 | 1009.6752 | 1009.6752 | 1009.6752 | ⋯         | 1009.6752 | 1009.6752 | 1009.6752 | 1009.6752 | 1009.6752 | 1009.6752 | 1009.6752 | 1009.6752 | 1009.6752 | 1009.6752 | \n",
       "| 6         | CHN       | 1983      | 22        | 3         | 1058.4039 | 1058.4039 | 1058.4039 | 1058.4039 | 1058.4039 | ⋯         | 1058.4039 | 1058.4039 | 1058.4039 | 1058.4039 | 1058.4039 | 1058.4039 | 1058.4039 | 1058.4039 | 1058.4039 | 1058.4039 | \n",
       "| 6         | CHN       | 1984      | 22        | 3         | 1125.3904 | 1125.3904 | 1125.3904 | 1125.3904 | 1125.3904 | ⋯         | 1125.3904 | 1125.3904 | 1125.3904 | 1125.3904 | 1125.3904 | 1125.3904 | 1125.3904 | 1125.3904 | 1125.3904 | 1125.3904 | \n",
       "\n",
       "\n"
      ],
      "text/plain": [
       "  location_id ihme_loc_id year_id age_group_id sex_id LDIpc_1   LDIpc_2  \n",
       "1 6           CHN         1979    22           3       908.1071  908.1071\n",
       "2 6           CHN         1980    22           3       937.6871  937.6871\n",
       "3 6           CHN         1981    22           3       968.6980  968.6980\n",
       "4 6           CHN         1982    22           3      1009.6752 1009.6752\n",
       "5 6           CHN         1983    22           3      1058.4039 1058.4039\n",
       "6 6           CHN         1984    22           3      1125.3904 1125.3904\n",
       "  LDIpc_3   LDIpc_4   LDIpc_5   ⋯ LDIpc_994 LDIpc_995 LDIpc_996 LDIpc_997\n",
       "1  908.1071  908.1071  908.1071 ⋯  908.1071  908.1071  908.1071  908.1071\n",
       "2  937.6871  937.6871  937.6871 ⋯  937.6871  937.6871  937.6871  937.6871\n",
       "3  968.6980  968.6980  968.6980 ⋯  968.6980  968.6980  968.6980  968.6980\n",
       "4 1009.6752 1009.6752 1009.6752 ⋯ 1009.6752 1009.6752 1009.6752 1009.6752\n",
       "5 1058.4039 1058.4039 1058.4039 ⋯ 1058.4039 1058.4039 1058.4039 1058.4039\n",
       "6 1125.3904 1125.3904 1125.3904 ⋯ 1125.3904 1125.3904 1125.3904 1125.3904\n",
       "  LDIpc_998 LDIpc_999 LDIpc_1000 rt_mean   rt_upper  rt_lower \n",
       "1  908.1071  908.1071  908.1071   908.1071  908.1071  908.1071\n",
       "2  937.6871  937.6871  937.6871   937.6871  937.6871  937.6871\n",
       "3  968.6980  968.6980  968.6980   968.6980  968.6980  968.6980\n",
       "4 1009.6752 1009.6752 1009.6752  1009.6752 1009.6752 1009.6752\n",
       "5 1058.4039 1058.4039 1058.4039  1058.4039 1058.4039 1058.4039\n",
       "6 1125.3904 1125.3904 1125.3904  1125.3904 1125.3904 1125.3904"
      ]
     },
     "metadata": {},
     "output_type": "display_data"
    }
   ],
   "source": [
    "ldi <- data.table(fread('/share/forecasting/data/LDIpc/all_LDIpc_prepped_20170110.csv'))\n",
    "ldi <- ldi[location_id %in% countries, ]\n",
    "head(ldi)"
   ]
  },
  {
   "cell_type": "code",
   "execution_count": 8,
   "metadata": {
    "scrolled": false
   },
   "outputs": [
    {
     "data": {
      "text/html": [
       "<table>\n",
       "<thead><tr><th scope=col>age_group_id</th><th scope=col>draw_0</th><th scope=col>draw_1</th><th scope=col>draw_10</th><th scope=col>draw_100</th><th scope=col>draw_101</th><th scope=col>draw_102</th><th scope=col>draw_103</th><th scope=col>draw_104</th><th scope=col>draw_105</th><th scope=col>⋯</th><th scope=col>draw_994</th><th scope=col>draw_995</th><th scope=col>draw_996</th><th scope=col>draw_997</th><th scope=col>draw_998</th><th scope=col>draw_999</th><th scope=col>location_id</th><th scope=col>sex_id</th><th scope=col>year_id</th><th scope=col>mean</th></tr></thead>\n",
       "<tbody>\n",
       "\t<tr><td>22    </td><td>6.8066</td><td>6.8066</td><td>6.8066</td><td>6.8066</td><td>6.8066</td><td>6.8066</td><td>6.8066</td><td>6.8066</td><td>6.8066</td><td>⋯     </td><td>6.8066</td><td>6.8066</td><td>6.8066</td><td>6.8066</td><td>6.8066</td><td>6.8066</td><td>175   </td><td>3     </td><td>1953  </td><td>6.8066</td></tr>\n",
       "\t<tr><td>22    </td><td>6.8178</td><td>6.8178</td><td>6.8178</td><td>6.8178</td><td>6.8178</td><td>6.8178</td><td>6.8178</td><td>6.8178</td><td>6.8178</td><td>⋯     </td><td>6.8178</td><td>6.8178</td><td>6.8178</td><td>6.8178</td><td>6.8178</td><td>6.8178</td><td>175   </td><td>3     </td><td>1954  </td><td>6.8178</td></tr>\n",
       "\t<tr><td>22    </td><td>6.8290</td><td>6.8290</td><td>6.8290</td><td>6.8290</td><td>6.8290</td><td>6.8290</td><td>6.8290</td><td>6.8290</td><td>6.8290</td><td>⋯     </td><td>6.8290</td><td>6.8290</td><td>6.8290</td><td>6.8290</td><td>6.8290</td><td>6.8290</td><td>175   </td><td>3     </td><td>1955  </td><td>6.8290</td></tr>\n",
       "\t<tr><td>22    </td><td>6.8402</td><td>6.8402</td><td>6.8402</td><td>6.8402</td><td>6.8402</td><td>6.8402</td><td>6.8402</td><td>6.8402</td><td>6.8402</td><td>⋯     </td><td>6.8402</td><td>6.8402</td><td>6.8402</td><td>6.8402</td><td>6.8402</td><td>6.8402</td><td>175   </td><td>3     </td><td>1956  </td><td>6.8402</td></tr>\n",
       "\t<tr><td>22    </td><td>6.8514</td><td>6.8514</td><td>6.8514</td><td>6.8514</td><td>6.8514</td><td>6.8514</td><td>6.8514</td><td>6.8514</td><td>6.8514</td><td>⋯     </td><td>6.8514</td><td>6.8514</td><td>6.8514</td><td>6.8514</td><td>6.8514</td><td>6.8514</td><td>175   </td><td>3     </td><td>1957  </td><td>6.8514</td></tr>\n",
       "\t<tr><td>22    </td><td>6.8784</td><td>6.8784</td><td>6.8784</td><td>6.8784</td><td>6.8784</td><td>6.8784</td><td>6.8784</td><td>6.8784</td><td>6.8784</td><td>⋯     </td><td>6.8784</td><td>6.8784</td><td>6.8784</td><td>6.8784</td><td>6.8784</td><td>6.8784</td><td>175   </td><td>3     </td><td>1958  </td><td>6.8784</td></tr>\n",
       "</tbody>\n",
       "</table>\n"
      ],
      "text/latex": [
       "\\begin{tabular}{r|lllllllllllllllllllllllllllllllllllllllllllllllllllllllllllllllllllllllllllllllllllllllllllllllllllllllllllllllllllllllllllllllllllllllllllllllllllllllllllllllllllllllllllllllllllllllllllllllllllllllllllllllllllllllllllllllllllllllllllllllllllllllllllllllllllllllllllllllllllllllllllllllllllllllllllllllllllllllllllllllllllllllllllllllllllllllllllllllllllllllllllllllllllllllllllllllllllllllllllllllllllllllllllllllllllllllllllllllllllllllllllllllllllllllllllllllllllllllllllllllllllllllllllllllllllllllllllllllllllllllllllllllllllllllllllllllllllllllllllllllllllllllllllllllllllllllllllllllllllllllllllllllllllllllllllllllllllllllllllllllllllllllllllllllllllllllllllllllllllllllllllllllllllllllllllllllllllllllllllllllllllllllllllllllllllllllllllllllllllllllllllllllllllllllllllllllllllllllllllllllllllllllllllllllllllllllllllllllllllllllllllllllllllllllllllllllllllllllllllllllllllllllllllllllllllllllllllllllllllllllllllllllllllllllllllllllllllllllllllllllllllllllllllllllllllllllllllllllllllllllllllll}\n",
       " age\\_group\\_id & draw\\_0 & draw\\_1 & draw\\_10 & draw\\_100 & draw\\_101 & draw\\_102 & draw\\_103 & draw\\_104 & draw\\_105 & ⋯ & draw\\_994 & draw\\_995 & draw\\_996 & draw\\_997 & draw\\_998 & draw\\_999 & location\\_id & sex\\_id & year\\_id & mean\\\\\n",
       "\\hline\n",
       "\t 22     & 6.8066 & 6.8066 & 6.8066 & 6.8066 & 6.8066 & 6.8066 & 6.8066 & 6.8066 & 6.8066 & ⋯      & 6.8066 & 6.8066 & 6.8066 & 6.8066 & 6.8066 & 6.8066 & 175    & 3      & 1953   & 6.8066\\\\\n",
       "\t 22     & 6.8178 & 6.8178 & 6.8178 & 6.8178 & 6.8178 & 6.8178 & 6.8178 & 6.8178 & 6.8178 & ⋯      & 6.8178 & 6.8178 & 6.8178 & 6.8178 & 6.8178 & 6.8178 & 175    & 3      & 1954   & 6.8178\\\\\n",
       "\t 22     & 6.8290 & 6.8290 & 6.8290 & 6.8290 & 6.8290 & 6.8290 & 6.8290 & 6.8290 & 6.8290 & ⋯      & 6.8290 & 6.8290 & 6.8290 & 6.8290 & 6.8290 & 6.8290 & 175    & 3      & 1955   & 6.8290\\\\\n",
       "\t 22     & 6.8402 & 6.8402 & 6.8402 & 6.8402 & 6.8402 & 6.8402 & 6.8402 & 6.8402 & 6.8402 & ⋯      & 6.8402 & 6.8402 & 6.8402 & 6.8402 & 6.8402 & 6.8402 & 175    & 3      & 1956   & 6.8402\\\\\n",
       "\t 22     & 6.8514 & 6.8514 & 6.8514 & 6.8514 & 6.8514 & 6.8514 & 6.8514 & 6.8514 & 6.8514 & ⋯      & 6.8514 & 6.8514 & 6.8514 & 6.8514 & 6.8514 & 6.8514 & 175    & 3      & 1957   & 6.8514\\\\\n",
       "\t 22     & 6.8784 & 6.8784 & 6.8784 & 6.8784 & 6.8784 & 6.8784 & 6.8784 & 6.8784 & 6.8784 & ⋯      & 6.8784 & 6.8784 & 6.8784 & 6.8784 & 6.8784 & 6.8784 & 175    & 3      & 1958   & 6.8784\\\\\n",
       "\\end{tabular}\n"
      ],
      "text/markdown": [
       "\n",
       "age_group_id | draw_0 | draw_1 | draw_10 | draw_100 | draw_101 | draw_102 | draw_103 | draw_104 | draw_105 | ⋯ | draw_994 | draw_995 | draw_996 | draw_997 | draw_998 | draw_999 | location_id | sex_id | year_id | mean | \n",
       "|---|---|---|---|---|---|\n",
       "| 22     | 6.8066 | 6.8066 | 6.8066 | 6.8066 | 6.8066 | 6.8066 | 6.8066 | 6.8066 | 6.8066 | ⋯      | 6.8066 | 6.8066 | 6.8066 | 6.8066 | 6.8066 | 6.8066 | 175    | 3      | 1953   | 6.8066 | \n",
       "| 22     | 6.8178 | 6.8178 | 6.8178 | 6.8178 | 6.8178 | 6.8178 | 6.8178 | 6.8178 | 6.8178 | ⋯      | 6.8178 | 6.8178 | 6.8178 | 6.8178 | 6.8178 | 6.8178 | 175    | 3      | 1954   | 6.8178 | \n",
       "| 22     | 6.8290 | 6.8290 | 6.8290 | 6.8290 | 6.8290 | 6.8290 | 6.8290 | 6.8290 | 6.8290 | ⋯      | 6.8290 | 6.8290 | 6.8290 | 6.8290 | 6.8290 | 6.8290 | 175    | 3      | 1955   | 6.8290 | \n",
       "| 22     | 6.8402 | 6.8402 | 6.8402 | 6.8402 | 6.8402 | 6.8402 | 6.8402 | 6.8402 | 6.8402 | ⋯      | 6.8402 | 6.8402 | 6.8402 | 6.8402 | 6.8402 | 6.8402 | 175    | 3      | 1956   | 6.8402 | \n",
       "| 22     | 6.8514 | 6.8514 | 6.8514 | 6.8514 | 6.8514 | 6.8514 | 6.8514 | 6.8514 | 6.8514 | ⋯      | 6.8514 | 6.8514 | 6.8514 | 6.8514 | 6.8514 | 6.8514 | 175    | 3      | 1957   | 6.8514 | \n",
       "| 22     | 6.8784 | 6.8784 | 6.8784 | 6.8784 | 6.8784 | 6.8784 | 6.8784 | 6.8784 | 6.8784 | ⋯      | 6.8784 | 6.8784 | 6.8784 | 6.8784 | 6.8784 | 6.8784 | 175    | 3      | 1958   | 6.8784 | \n",
       "\n",
       "\n"
      ],
      "text/plain": [
       "  age_group_id draw_0 draw_1 draw_10 draw_100 draw_101 draw_102 draw_103\n",
       "1 22           6.8066 6.8066 6.8066  6.8066   6.8066   6.8066   6.8066  \n",
       "2 22           6.8178 6.8178 6.8178  6.8178   6.8178   6.8178   6.8178  \n",
       "3 22           6.8290 6.8290 6.8290  6.8290   6.8290   6.8290   6.8290  \n",
       "4 22           6.8402 6.8402 6.8402  6.8402   6.8402   6.8402   6.8402  \n",
       "5 22           6.8514 6.8514 6.8514  6.8514   6.8514   6.8514   6.8514  \n",
       "6 22           6.8784 6.8784 6.8784  6.8784   6.8784   6.8784   6.8784  \n",
       "  draw_104 draw_105 ⋯ draw_994 draw_995 draw_996 draw_997 draw_998 draw_999\n",
       "1 6.8066   6.8066   ⋯ 6.8066   6.8066   6.8066   6.8066   6.8066   6.8066  \n",
       "2 6.8178   6.8178   ⋯ 6.8178   6.8178   6.8178   6.8178   6.8178   6.8178  \n",
       "3 6.8290   6.8290   ⋯ 6.8290   6.8290   6.8290   6.8290   6.8290   6.8290  \n",
       "4 6.8402   6.8402   ⋯ 6.8402   6.8402   6.8402   6.8402   6.8402   6.8402  \n",
       "5 6.8514   6.8514   ⋯ 6.8514   6.8514   6.8514   6.8514   6.8514   6.8514  \n",
       "6 6.8784   6.8784   ⋯ 6.8784   6.8784   6.8784   6.8784   6.8784   6.8784  \n",
       "  location_id sex_id year_id mean  \n",
       "1 175         3      1953    6.8066\n",
       "2 175         3      1954    6.8178\n",
       "3 175         3      1955    6.8290\n",
       "4 175         3      1956    6.8402\n",
       "5 175         3      1957    6.8514\n",
       "6 175         3      1958    6.8784"
      ]
     },
     "metadata": {},
     "output_type": "display_data"
    }
   ],
   "source": [
    "tfr <- data.table(fread(\"/ihme/forecasting/data/tfr/results/tfr_whole.csv\"))\n",
    "tfr <- tfr[, mean := rowMeans(.SD), .SDcols = paste0(\"draw_\",c(0:999))]\n",
    "tfr <- tfr[location_id %in% countries, ]\n",
    "head(tfr)"
   ]
  },
  {
   "cell_type": "code",
   "execution_count": 10,
   "metadata": {
    "scrolled": false
   },
   "outputs": [
    {
     "name": "stdout",
     "output_type": "stream",
     "text": [
      "\r",
      "Read 57.7% of 17321 rows\r",
      "Read 17321 rows and 1005 (of 1005) columns from 0.274 GB file in 00:00:05\n"
     ]
    },
    {
     "data": {
      "text/html": [
       "<table>\n",
       "<thead><tr><th scope=col>location_id</th><th scope=col>year_id</th><th scope=col>draw0</th><th scope=col>draw1</th><th scope=col>draw2</th><th scope=col>draw3</th><th scope=col>draw4</th><th scope=col>draw5</th><th scope=col>draw6</th><th scope=col>draw7</th><th scope=col>⋯</th><th scope=col>draw993</th><th scope=col>draw994</th><th scope=col>draw995</th><th scope=col>draw996</th><th scope=col>draw997</th><th scope=col>draw998</th><th scope=col>draw999</th><th scope=col>mean</th><th scope=col>lower</th><th scope=col>upper</th></tr></thead>\n",
       "<tbody>\n",
       "\t<tr><td>10      </td><td>1950    </td><td>1.336208</td><td>1.678651</td><td>1.666961</td><td>1.321678</td><td>1.726451</td><td>2.100176</td><td>1.644592</td><td>1.935168</td><td>⋯       </td><td>1.805843</td><td>1.324314</td><td>1.176254</td><td>1.550790</td><td>2.723640</td><td>1.806279</td><td>2.049624</td><td>1.645919</td><td>1.068804</td><td>2.630491</td></tr>\n",
       "\t<tr><td>10      </td><td>1951    </td><td>1.363233</td><td>1.692118</td><td>1.694677</td><td>1.350223</td><td>1.766093</td><td>2.145282</td><td>1.688327</td><td>1.959271</td><td>⋯       </td><td>1.823794</td><td>1.364587</td><td>1.208113</td><td>1.570845</td><td>2.754895</td><td>1.836829</td><td>2.107365</td><td>1.675652</td><td>1.087175</td><td>2.682010</td></tr>\n",
       "\t<tr><td>10      </td><td>1952    </td><td>1.391230</td><td>1.705612</td><td>1.723597</td><td>1.380729</td><td>1.806876</td><td>2.189708</td><td>1.732409</td><td>1.983210</td><td>⋯       </td><td>1.841873</td><td>1.406279</td><td>1.241448</td><td>1.591174</td><td>2.785191</td><td>1.867273</td><td>2.165253</td><td>1.706197</td><td>1.111213</td><td>2.737125</td></tr>\n",
       "\t<tr><td>10      </td><td>1953    </td><td>1.420162</td><td>1.719183</td><td>1.753810</td><td>1.413282</td><td>1.848761</td><td>2.233337</td><td>1.776700</td><td>2.007246</td><td>⋯       </td><td>1.860134</td><td>1.449185</td><td>1.276323</td><td>1.611863</td><td>2.814625</td><td>1.897611</td><td>2.223214</td><td>1.737582</td><td>1.135241</td><td>2.791019</td></tr>\n",
       "\t<tr><td>10      </td><td>1954    </td><td>1.449966</td><td>1.732866</td><td>1.785342</td><td>1.447930</td><td>1.891650</td><td>2.276010</td><td>1.821005</td><td>2.031560</td><td>⋯       </td><td>1.878600</td><td>1.493041</td><td>1.312772</td><td>1.633004</td><td>2.843222</td><td>1.927806</td><td>2.281070</td><td>1.769783</td><td>1.160084</td><td>2.835183</td></tr>\n",
       "\t<tr><td>10      </td><td>1955    </td><td>1.480594</td><td>1.746735</td><td>1.818158</td><td>1.484754</td><td>1.935420</td><td>2.317627</td><td>1.865190</td><td>2.056326</td><td>⋯       </td><td>1.897400</td><td>1.537597</td><td>1.350822</td><td>1.654735</td><td>2.871037</td><td>1.957871</td><td>2.338589</td><td>1.802792</td><td>1.190560</td><td>2.875104</td></tr>\n",
       "</tbody>\n",
       "</table>\n"
      ],
      "text/latex": [
       "\\begin{tabular}{r|lllllllllllllllllllllllllllllllllllllllllllllllllllllllllllllllllllllllllllllllllllllllllllllllllllllllllllllllllllllllllllllllllllllllllllllllllllllllllllllllllllllllllllllllllllllllllllllllllllllllllllllllllllllllllllllllllllllllllllllllllllllllllllllllllllllllllllllllllllllllllllllllllllllllllllllllllllllllllllllllllllllllllllllllllllllllllllllllllllllllllllllllllllllllllllllllllllllllllllllllllllllllllllllllllllllllllllllllllllllllllllllllllllllllllllllllllllllllllllllllllllllllllllllllllllllllllllllllllllllllllllllllllllllllllllllllllllllllllllllllllllllllllllllllllllllllllllllllllllllllllllllllllllllllllllllllllllllllllllllllllllllllllllllllllllllllllllllllllllllllllllllllllllllllllllllllllllllllllllllllllllllllllllllllllllllllllllllllllllllllllllllllllllllllllllllllllllllllllllllllllllllllllllllllllllllllllllllllllllllllllllllllllllllllllllllllllllllllllllllllllllllllllllllllllllllllllllllllllllllllllllllllllllllllllllllllllllllllllllllllllllllllllllllllllllllllllllllllllllllllllllll}\n",
       " location\\_id & year\\_id & draw0 & draw1 & draw2 & draw3 & draw4 & draw5 & draw6 & draw7 & ⋯ & draw993 & draw994 & draw995 & draw996 & draw997 & draw998 & draw999 & mean & lower & upper\\\\\n",
       "\\hline\n",
       "\t 10       & 1950     & 1.336208 & 1.678651 & 1.666961 & 1.321678 & 1.726451 & 2.100176 & 1.644592 & 1.935168 & ⋯        & 1.805843 & 1.324314 & 1.176254 & 1.550790 & 2.723640 & 1.806279 & 2.049624 & 1.645919 & 1.068804 & 2.630491\\\\\n",
       "\t 10       & 1951     & 1.363233 & 1.692118 & 1.694677 & 1.350223 & 1.766093 & 2.145282 & 1.688327 & 1.959271 & ⋯        & 1.823794 & 1.364587 & 1.208113 & 1.570845 & 2.754895 & 1.836829 & 2.107365 & 1.675652 & 1.087175 & 2.682010\\\\\n",
       "\t 10       & 1952     & 1.391230 & 1.705612 & 1.723597 & 1.380729 & 1.806876 & 2.189708 & 1.732409 & 1.983210 & ⋯        & 1.841873 & 1.406279 & 1.241448 & 1.591174 & 2.785191 & 1.867273 & 2.165253 & 1.706197 & 1.111213 & 2.737125\\\\\n",
       "\t 10       & 1953     & 1.420162 & 1.719183 & 1.753810 & 1.413282 & 1.848761 & 2.233337 & 1.776700 & 2.007246 & ⋯        & 1.860134 & 1.449185 & 1.276323 & 1.611863 & 2.814625 & 1.897611 & 2.223214 & 1.737582 & 1.135241 & 2.791019\\\\\n",
       "\t 10       & 1954     & 1.449966 & 1.732866 & 1.785342 & 1.447930 & 1.891650 & 2.276010 & 1.821005 & 2.031560 & ⋯        & 1.878600 & 1.493041 & 1.312772 & 1.633004 & 2.843222 & 1.927806 & 2.281070 & 1.769783 & 1.160084 & 2.835183\\\\\n",
       "\t 10       & 1955     & 1.480594 & 1.746735 & 1.818158 & 1.484754 & 1.935420 & 2.317627 & 1.865190 & 2.056326 & ⋯        & 1.897400 & 1.537597 & 1.350822 & 1.654735 & 2.871037 & 1.957871 & 2.338589 & 1.802792 & 1.190560 & 2.875104\\\\\n",
       "\\end{tabular}\n"
      ],
      "text/markdown": [
       "\n",
       "location_id | year_id | draw0 | draw1 | draw2 | draw3 | draw4 | draw5 | draw6 | draw7 | ⋯ | draw993 | draw994 | draw995 | draw996 | draw997 | draw998 | draw999 | mean | lower | upper | \n",
       "|---|---|---|---|---|---|\n",
       "| 10       | 1950     | 1.336208 | 1.678651 | 1.666961 | 1.321678 | 1.726451 | 2.100176 | 1.644592 | 1.935168 | ⋯        | 1.805843 | 1.324314 | 1.176254 | 1.550790 | 2.723640 | 1.806279 | 2.049624 | 1.645919 | 1.068804 | 2.630491 | \n",
       "| 10       | 1951     | 1.363233 | 1.692118 | 1.694677 | 1.350223 | 1.766093 | 2.145282 | 1.688327 | 1.959271 | ⋯        | 1.823794 | 1.364587 | 1.208113 | 1.570845 | 2.754895 | 1.836829 | 2.107365 | 1.675652 | 1.087175 | 2.682010 | \n",
       "| 10       | 1952     | 1.391230 | 1.705612 | 1.723597 | 1.380729 | 1.806876 | 2.189708 | 1.732409 | 1.983210 | ⋯        | 1.841873 | 1.406279 | 1.241448 | 1.591174 | 2.785191 | 1.867273 | 2.165253 | 1.706197 | 1.111213 | 2.737125 | \n",
       "| 10       | 1953     | 1.420162 | 1.719183 | 1.753810 | 1.413282 | 1.848761 | 2.233337 | 1.776700 | 2.007246 | ⋯        | 1.860134 | 1.449185 | 1.276323 | 1.611863 | 2.814625 | 1.897611 | 2.223214 | 1.737582 | 1.135241 | 2.791019 | \n",
       "| 10       | 1954     | 1.449966 | 1.732866 | 1.785342 | 1.447930 | 1.891650 | 2.276010 | 1.821005 | 2.031560 | ⋯        | 1.878600 | 1.493041 | 1.312772 | 1.633004 | 2.843222 | 1.927806 | 2.281070 | 1.769783 | 1.160084 | 2.835183 | \n",
       "| 10       | 1955     | 1.480594 | 1.746735 | 1.818158 | 1.484754 | 1.935420 | 2.317627 | 1.865190 | 2.056326 | ⋯        | 1.897400 | 1.537597 | 1.350822 | 1.654735 | 2.871037 | 1.957871 | 2.338589 | 1.802792 | 1.190560 | 2.875104 | \n",
       "\n",
       "\n"
      ],
      "text/plain": [
       "  location_id year_id draw0    draw1    draw2    draw3    draw4    draw5   \n",
       "1 10          1950    1.336208 1.678651 1.666961 1.321678 1.726451 2.100176\n",
       "2 10          1951    1.363233 1.692118 1.694677 1.350223 1.766093 2.145282\n",
       "3 10          1952    1.391230 1.705612 1.723597 1.380729 1.806876 2.189708\n",
       "4 10          1953    1.420162 1.719183 1.753810 1.413282 1.848761 2.233337\n",
       "5 10          1954    1.449966 1.732866 1.785342 1.447930 1.891650 2.276010\n",
       "6 10          1955    1.480594 1.746735 1.818158 1.484754 1.935420 2.317627\n",
       "  draw6    draw7    ⋯ draw993  draw994  draw995  draw996  draw997  draw998 \n",
       "1 1.644592 1.935168 ⋯ 1.805843 1.324314 1.176254 1.550790 2.723640 1.806279\n",
       "2 1.688327 1.959271 ⋯ 1.823794 1.364587 1.208113 1.570845 2.754895 1.836829\n",
       "3 1.732409 1.983210 ⋯ 1.841873 1.406279 1.241448 1.591174 2.785191 1.867273\n",
       "4 1.776700 2.007246 ⋯ 1.860134 1.449185 1.276323 1.611863 2.814625 1.897611\n",
       "5 1.821005 2.031560 ⋯ 1.878600 1.493041 1.312772 1.633004 2.843222 1.927806\n",
       "6 1.865190 2.056326 ⋯ 1.897400 1.537597 1.350822 1.654735 2.871037 1.957871\n",
       "  draw999  mean     lower    upper   \n",
       "1 2.049624 1.645919 1.068804 2.630491\n",
       "2 2.107365 1.675652 1.087175 2.682010\n",
       "3 2.165253 1.706197 1.111213 2.737125\n",
       "4 2.223214 1.737582 1.135241 2.791019\n",
       "5 2.281070 1.769783 1.160084 2.835183\n",
       "6 2.338589 1.802792 1.190560 2.875104"
      ]
     },
     "metadata": {},
     "output_type": "display_data"
    }
   ],
   "source": [
    "edu <- data.table(fread(\"/home/j/WORK/01_covariates/02_inputs/education/update_2017/data/output_data/20161121_GBD2016prelim_95+_raked_2/country_year_A_S_T_collapsed.csv\"))\n",
    "edu <- edu[location_id %in% countries, ]\n",
    "head(edu)"
   ]
  },
  {
   "cell_type": "markdown",
   "metadata": {},
   "source": [
    "### The first step is to compute the correlation of in-sample data. Let's subset those out first"
   ]
  },
  {
   "cell_type": "code",
   "execution_count": 11,
   "metadata": {},
   "outputs": [],
   "source": [
    "ldi_insample <- ldi[year_id<=2015 , .SD, .SDcols = c(\"location_id\", \"year_id\", \"rt_mean\")]\n",
    "colnames(ldi_insample) <- c(\"location_id\", \"year_id\", \"mean.ldi\")\n",
    "edu_insample <- edu[year_id<=2015 & year_id>=1979 , .SD, .SDcols = c(\"location_id\", \"year_id\", \"mean\")]\n",
    "colnames(edu_insample) <- c(\"location_id\", \"year_id\", \"mean.edu\")\n",
    "tfr_insample <- tfr[year_id<=2015 & year_id>=1979 , .SD, .SDcols = c(\"location_id\", \"year_id\", \"mean\")]\n",
    "colnames(tfr_insample) <- c(\"location_id\", \"year_id\", \"mean.tfr\")"
   ]
  },
  {
   "cell_type": "markdown",
   "metadata": {},
   "source": [
    "### Merge and compute correlation"
   ]
  },
  {
   "cell_type": "code",
   "execution_count": 12,
   "metadata": {},
   "outputs": [
    {
     "data": {
      "text/html": [
       "<table>\n",
       "<thead><tr><th scope=col>location_id</th><th scope=col>year_id</th><th scope=col>mean.ldi</th><th scope=col>mean.edu</th><th scope=col>mean.tfr</th></tr></thead>\n",
       "<tbody>\n",
       "\t<tr><td>6        </td><td>1979     </td><td> 908.1071</td><td>5.776690 </td><td>2.86566  </td></tr>\n",
       "\t<tr><td>6        </td><td>1980     </td><td> 937.6871</td><td>5.893375 </td><td>2.76690  </td></tr>\n",
       "\t<tr><td>6        </td><td>1981     </td><td> 968.6980</td><td>6.013282 </td><td>2.66814  </td></tr>\n",
       "\t<tr><td>6        </td><td>1982     </td><td>1009.6752</td><td>6.133414 </td><td>2.56938  </td></tr>\n",
       "\t<tr><td>6        </td><td>1983     </td><td>1058.4039</td><td>6.252339 </td><td>2.54300  </td></tr>\n",
       "\t<tr><td>6        </td><td>1984     </td><td>1125.3904</td><td>6.368205 </td><td>2.58900  </td></tr>\n",
       "</tbody>\n",
       "</table>\n"
      ],
      "text/latex": [
       "\\begin{tabular}{r|lllll}\n",
       " location\\_id & year\\_id & mean.ldi & mean.edu & mean.tfr\\\\\n",
       "\\hline\n",
       "\t 6         & 1979      &  908.1071 & 5.776690  & 2.86566  \\\\\n",
       "\t 6         & 1980      &  937.6871 & 5.893375  & 2.76690  \\\\\n",
       "\t 6         & 1981      &  968.6980 & 6.013282  & 2.66814  \\\\\n",
       "\t 6         & 1982      & 1009.6752 & 6.133414  & 2.56938  \\\\\n",
       "\t 6         & 1983      & 1058.4039 & 6.252339  & 2.54300  \\\\\n",
       "\t 6         & 1984      & 1125.3904 & 6.368205  & 2.58900  \\\\\n",
       "\\end{tabular}\n"
      ],
      "text/markdown": [
       "\n",
       "location_id | year_id | mean.ldi | mean.edu | mean.tfr | \n",
       "|---|---|---|---|---|---|\n",
       "| 6         | 1979      |  908.1071 | 5.776690  | 2.86566   | \n",
       "| 6         | 1980      |  937.6871 | 5.893375  | 2.76690   | \n",
       "| 6         | 1981      |  968.6980 | 6.013282  | 2.66814   | \n",
       "| 6         | 1982      | 1009.6752 | 6.133414  | 2.56938   | \n",
       "| 6         | 1983      | 1058.4039 | 6.252339  | 2.54300   | \n",
       "| 6         | 1984      | 1125.3904 | 6.368205  | 2.58900   | \n",
       "\n",
       "\n"
      ],
      "text/plain": [
       "  location_id year_id mean.ldi  mean.edu mean.tfr\n",
       "1 6           1979     908.1071 5.776690 2.86566 \n",
       "2 6           1980     937.6871 5.893375 2.76690 \n",
       "3 6           1981     968.6980 6.013282 2.66814 \n",
       "4 6           1982    1009.6752 6.133414 2.56938 \n",
       "5 6           1983    1058.4039 6.252339 2.54300 \n",
       "6 6           1984    1125.3904 6.368205 2.58900 "
      ]
     },
     "metadata": {},
     "output_type": "display_data"
    }
   ],
   "source": [
    "insample_data_merged <- merge(x=ldi_insample, y=edu_insample, by=c(\"location_id\", \"year_id\" ))\n",
    "insample_data_merged <- merge(x=insample_data_merged, y=tfr_insample, by=c(\"location_id\", \"year_id\" ))\n",
    "head(insample_data_merged)"
   ]
  },
  {
   "cell_type": "markdown",
   "metadata": {},
   "source": [
    "### Compute the correlation"
   ]
  },
  {
   "cell_type": "code",
   "execution_count": 15,
   "metadata": {},
   "outputs": [
    {
     "name": "stdout",
     "output_type": "stream",
     "text": [
      "           mean.edu   mean.ldi   mean.tfr\n",
      "mean.edu  1.0000000  0.7268848 -0.8285551\n",
      "mean.ldi  0.7268848  1.0000000 -0.7396163\n",
      "mean.tfr -0.8285551 -0.7396163  1.0000000\n"
     ]
    }
   ],
   "source": [
    "print(corr_mat<-cor(insample_data_merged[, .( mean.edu, mean.ldi,mean.tfr)], method = \"spearman\"))"
   ]
  },
  {
   "cell_type": "markdown",
   "metadata": {},
   "source": [
    "### Neal's multivariate copula function"
   ]
  },
  {
   "cell_type": "code",
   "execution_count": 16,
   "metadata": {
    "collapsed": true
   },
   "outputs": [],
   "source": [
    "draw2Dcopula <- function(X, cor_mat, df_return = F){\n",
    "  L <- dim(X)[2]\n",
    "  D <- dim(X)[3]\n",
    "  Xsum <- apply(X, c(2, 3), sum)\n",
    "  mvdat <- mvrnorm(n=D, mu=0 * 1:L, Sigma=cor_mat, empirical=TRUE)\n",
    "  ranks <- apply(mvdat, 2, rank, ties.method=\"first\")\n",
    "  sortedXsim <- apply(Xsum, 1, function(x) sort(x, index.return=TRUE)$ix)\n",
    "  sortedX <- X\n",
    "  for(i in 1:L){\n",
    "    sortedX[,i,] <- X[,i,sortedXsim[,i]]\n",
    "  }\n",
    "  Xcorr <- sortedX\n",
    "  for(i in 1:L){\n",
    "    Xcorr[,i,] <- sortedX[,i,ranks[,i]]\n",
    "  }\n",
    "  if (df_return==T) {\n",
    "    return(data.frame(reshape2::melt(Xcorr)))\n",
    "    }\n",
    "      else {\n",
    "          Xcorr\n",
    "      }\n",
    "}"
   ]
  },
  {
   "cell_type": "markdown",
   "metadata": {},
   "source": [
    "### Merge the draws of LDI and Education, reshape super long and convert to arrays"
   ]
  },
  {
   "cell_type": "code",
   "execution_count": 17,
   "metadata": {},
   "outputs": [
    {
     "data": {
      "text/html": [
       "<table>\n",
       "<thead><tr><th scope=col>location_id</th><th scope=col>year_id</th><th scope=col>variable</th><th scope=col>draw_num</th><th scope=col>data</th></tr></thead>\n",
       "<tbody>\n",
       "\t<tr><td>6        </td><td>1979     </td><td>LDIpc    </td><td>draw_1   </td><td> 908.1071</td></tr>\n",
       "\t<tr><td>6        </td><td>1980     </td><td>LDIpc    </td><td>draw_1   </td><td> 937.6871</td></tr>\n",
       "\t<tr><td>6        </td><td>1981     </td><td>LDIpc    </td><td>draw_1   </td><td> 968.6980</td></tr>\n",
       "\t<tr><td>6        </td><td>1982     </td><td>LDIpc    </td><td>draw_1   </td><td>1009.6752</td></tr>\n",
       "\t<tr><td>6        </td><td>1983     </td><td>LDIpc    </td><td>draw_1   </td><td>1058.4039</td></tr>\n",
       "\t<tr><td>6        </td><td>1984     </td><td>LDIpc    </td><td>draw_1   </td><td>1125.3904</td></tr>\n",
       "</tbody>\n",
       "</table>\n"
      ],
      "text/latex": [
       "\\begin{tabular}{r|lllll}\n",
       " location\\_id & year\\_id & variable & draw\\_num & data\\\\\n",
       "\\hline\n",
       "\t 6         & 1979      & LDIpc     & draw\\_1  &  908.1071\\\\\n",
       "\t 6         & 1980      & LDIpc     & draw\\_1  &  937.6871\\\\\n",
       "\t 6         & 1981      & LDIpc     & draw\\_1  &  968.6980\\\\\n",
       "\t 6         & 1982      & LDIpc     & draw\\_1  & 1009.6752\\\\\n",
       "\t 6         & 1983      & LDIpc     & draw\\_1  & 1058.4039\\\\\n",
       "\t 6         & 1984      & LDIpc     & draw\\_1  & 1125.3904\\\\\n",
       "\\end{tabular}\n"
      ],
      "text/markdown": [
       "\n",
       "location_id | year_id | variable | draw_num | data | \n",
       "|---|---|---|---|---|---|\n",
       "| 6         | 1979      | LDIpc     | draw_1    |  908.1071 | \n",
       "| 6         | 1980      | LDIpc     | draw_1    |  937.6871 | \n",
       "| 6         | 1981      | LDIpc     | draw_1    |  968.6980 | \n",
       "| 6         | 1982      | LDIpc     | draw_1    | 1009.6752 | \n",
       "| 6         | 1983      | LDIpc     | draw_1    | 1058.4039 | \n",
       "| 6         | 1984      | LDIpc     | draw_1    | 1125.3904 | \n",
       "\n",
       "\n"
      ],
      "text/plain": [
       "  location_id year_id variable draw_num data     \n",
       "1 6           1979    LDIpc    draw_1    908.1071\n",
       "2 6           1980    LDIpc    draw_1    937.6871\n",
       "3 6           1981    LDIpc    draw_1    968.6980\n",
       "4 6           1982    LDIpc    draw_1   1009.6752\n",
       "5 6           1983    LDIpc    draw_1   1058.4039\n",
       "6 6           1984    LDIpc    draw_1   1125.3904"
      ]
     },
     "metadata": {},
     "output_type": "display_data"
    }
   ],
   "source": [
    "ldi_fc <- ldi[, .SD, .SDcols = c(\"location_id\", \"year_id\", paste0(\"LDIpc_\", c(1:1000)))]\n",
    "ldi_fc <- ldi_fc[, variable := \"LDIpc\"]\n",
    "ldi_fc <- setcolorder(ldi_fc, c(\"location_id\", \"year_id\", \"variable\", paste0(\"LDIpc_\", c(1:1000))) )\n",
    "colnames(ldi_fc) <-  c(\"location_id\", \"year_id\", \"variable\", paste0(\"draw_\", c(1:1000)))\n",
    "ldi_fc <- melt(ldi_fc, id.vars=c(\"location_id\",\"year_id\", \"variable\"), variable.name = \"draw_num\", value.name = \"data\")\n",
    "head(ldi_fc)"
   ]
  },
  {
   "cell_type": "code",
   "execution_count": 18,
   "metadata": {},
   "outputs": [
    {
     "data": {
      "text/html": [
       "<table>\n",
       "<thead><tr><th scope=col>location_id</th><th scope=col>year_id</th><th scope=col>variable</th><th scope=col>draw_num</th><th scope=col>data</th></tr></thead>\n",
       "<tbody>\n",
       "\t<tr><td>10      </td><td>1979    </td><td>EDU     </td><td>draw_1  </td><td>2.534496</td></tr>\n",
       "\t<tr><td>10      </td><td>1980    </td><td>EDU     </td><td>draw_1  </td><td>2.588469</td></tr>\n",
       "\t<tr><td>10      </td><td>1981    </td><td>EDU     </td><td>draw_1  </td><td>2.655124</td></tr>\n",
       "\t<tr><td>10      </td><td>1982    </td><td>EDU     </td><td>draw_1  </td><td>2.725430</td></tr>\n",
       "\t<tr><td>10      </td><td>1983    </td><td>EDU     </td><td>draw_1  </td><td>2.798605</td></tr>\n",
       "\t<tr><td>10      </td><td>1984    </td><td>EDU     </td><td>draw_1  </td><td>2.873696</td></tr>\n",
       "</tbody>\n",
       "</table>\n"
      ],
      "text/latex": [
       "\\begin{tabular}{r|lllll}\n",
       " location\\_id & year\\_id & variable & draw\\_num & data\\\\\n",
       "\\hline\n",
       "\t 10       & 1979     & EDU      & draw\\_1 & 2.534496\\\\\n",
       "\t 10       & 1980     & EDU      & draw\\_1 & 2.588469\\\\\n",
       "\t 10       & 1981     & EDU      & draw\\_1 & 2.655124\\\\\n",
       "\t 10       & 1982     & EDU      & draw\\_1 & 2.725430\\\\\n",
       "\t 10       & 1983     & EDU      & draw\\_1 & 2.798605\\\\\n",
       "\t 10       & 1984     & EDU      & draw\\_1 & 2.873696\\\\\n",
       "\\end{tabular}\n"
      ],
      "text/markdown": [
       "\n",
       "location_id | year_id | variable | draw_num | data | \n",
       "|---|---|---|---|---|---|\n",
       "| 10       | 1979     | EDU      | draw_1   | 2.534496 | \n",
       "| 10       | 1980     | EDU      | draw_1   | 2.588469 | \n",
       "| 10       | 1981     | EDU      | draw_1   | 2.655124 | \n",
       "| 10       | 1982     | EDU      | draw_1   | 2.725430 | \n",
       "| 10       | 1983     | EDU      | draw_1   | 2.798605 | \n",
       "| 10       | 1984     | EDU      | draw_1   | 2.873696 | \n",
       "\n",
       "\n"
      ],
      "text/plain": [
       "  location_id year_id variable draw_num data    \n",
       "1 10          1979    EDU      draw_1   2.534496\n",
       "2 10          1980    EDU      draw_1   2.588469\n",
       "3 10          1981    EDU      draw_1   2.655124\n",
       "4 10          1982    EDU      draw_1   2.725430\n",
       "5 10          1983    EDU      draw_1   2.798605\n",
       "6 10          1984    EDU      draw_1   2.873696"
      ]
     },
     "metadata": {},
     "output_type": "display_data"
    }
   ],
   "source": [
    "edu_fc <- edu[year_id>=1979, .SD, .SDcols = c(\"location_id\", \"year_id\", paste0(\"draw\", c(0:999)))]\n",
    "edu_fc <- edu_fc[, variable := \"EDU\"]\n",
    "edu_fc <- setcolorder(edu_fc, c(\"location_id\", \"year_id\", \"variable\", paste0(\"draw\", c(0:999))) )\n",
    "colnames(edu_fc) <-  c(\"location_id\", \"year_id\", \"variable\", paste0(\"draw_\", c(1:1000)))\n",
    "edu_fc <- melt(edu_fc, id.vars=c(\"location_id\",\"year_id\", \"variable\"), variable.name = \"draw_num\", value.name = \"data\")\n",
    "head(edu_fc)"
   ]
  },
  {
   "cell_type": "code",
   "execution_count": 19,
   "metadata": {
    "scrolled": true
   },
   "outputs": [
    {
     "data": {
      "text/html": [
       "<table>\n",
       "<thead><tr><th scope=col>location_id</th><th scope=col>year_id</th><th scope=col>variable</th><th scope=col>draw_num</th><th scope=col>data</th></tr></thead>\n",
       "<tbody>\n",
       "\t<tr><td>175   </td><td>1979  </td><td>TFR   </td><td>draw_1</td><td>7.4616</td></tr>\n",
       "\t<tr><td>175   </td><td>1980  </td><td>TFR   </td><td>draw_1</td><td>7.4520</td></tr>\n",
       "\t<tr><td>175   </td><td>1981  </td><td>TFR   </td><td>draw_1</td><td>7.4424</td></tr>\n",
       "\t<tr><td>175   </td><td>1982  </td><td>TFR   </td><td>draw_1</td><td>7.4328</td></tr>\n",
       "\t<tr><td>175   </td><td>1983  </td><td>TFR   </td><td>draw_1</td><td>7.4444</td></tr>\n",
       "\t<tr><td>175   </td><td>1984  </td><td>TFR   </td><td>draw_1</td><td>7.4772</td></tr>\n",
       "</tbody>\n",
       "</table>\n"
      ],
      "text/latex": [
       "\\begin{tabular}{r|lllll}\n",
       " location\\_id & year\\_id & variable & draw\\_num & data\\\\\n",
       "\\hline\n",
       "\t 175      & 1979     & TFR      & draw\\_1 & 7.4616  \\\\\n",
       "\t 175      & 1980     & TFR      & draw\\_1 & 7.4520  \\\\\n",
       "\t 175      & 1981     & TFR      & draw\\_1 & 7.4424  \\\\\n",
       "\t 175      & 1982     & TFR      & draw\\_1 & 7.4328  \\\\\n",
       "\t 175      & 1983     & TFR      & draw\\_1 & 7.4444  \\\\\n",
       "\t 175      & 1984     & TFR      & draw\\_1 & 7.4772  \\\\\n",
       "\\end{tabular}\n"
      ],
      "text/markdown": [
       "\n",
       "location_id | year_id | variable | draw_num | data | \n",
       "|---|---|---|---|---|---|\n",
       "| 175    | 1979   | TFR    | draw_1 | 7.4616 | \n",
       "| 175    | 1980   | TFR    | draw_1 | 7.4520 | \n",
       "| 175    | 1981   | TFR    | draw_1 | 7.4424 | \n",
       "| 175    | 1982   | TFR    | draw_1 | 7.4328 | \n",
       "| 175    | 1983   | TFR    | draw_1 | 7.4444 | \n",
       "| 175    | 1984   | TFR    | draw_1 | 7.4772 | \n",
       "\n",
       "\n"
      ],
      "text/plain": [
       "  location_id year_id variable draw_num data  \n",
       "1 175         1979    TFR      draw_1   7.4616\n",
       "2 175         1980    TFR      draw_1   7.4520\n",
       "3 175         1981    TFR      draw_1   7.4424\n",
       "4 175         1982    TFR      draw_1   7.4328\n",
       "5 175         1983    TFR      draw_1   7.4444\n",
       "6 175         1984    TFR      draw_1   7.4772"
      ]
     },
     "metadata": {},
     "output_type": "display_data"
    }
   ],
   "source": [
    "tfr_fc <- tfr[year_id>=1979, .SD, .SDcols = c(\"location_id\", \"year_id\", paste0(\"draw_\", c(0:999)))]\n",
    "tfr_fc <- tfr_fc[, variable := \"TFR\"]\n",
    "tfr_fc <- setcolorder(tfr_fc, c(\"location_id\", \"year_id\", \"variable\", paste0(\"draw_\", c(0:999))) )\n",
    "colnames(tfr_fc) <-  c(\"location_id\", \"year_id\", \"variable\", paste0(\"draw_\", c(1:1000)))\n",
    "tfr_fc <- melt(tfr_fc, id.vars=c(\"location_id\",\"year_id\", \"variable\"), variable.name = \"draw_num\", value.name = \"data\")\n",
    "head(tfr_fc)"
   ]
  },
  {
   "cell_type": "code",
   "execution_count": null,
   "metadata": {},
   "outputs": [],
   "source": [
    "all_data_binded <- rbind(ldi_fc, edu_fc, tfr_fc)\n",
    "\n",
    "system.time(myarray2<- lapply(countries, \n",
    "                                function(x) reshape2::acast(all_data_binded[location_id == x,], \n",
    "                                                      location_id ~  year_id ~ variable ~ draw_num, \n",
    "                                                      value.var = \"data\")))\n",
    "myarray2 <- abind(myarray2, along=1)\n",
    "str(myarray2)"
   ]
  },
  {
   "cell_type": "markdown",
   "metadata": {},
   "source": [
    "### Copula'in time"
   ]
  },
  {
   "cell_type": "code",
   "execution_count": 21,
   "metadata": {},
   "outputs": [
    {
     "data": {
      "text/plain": [
       "   user  system elapsed \n",
       " 16.475   0.003  16.476 "
      ]
     },
     "metadata": {},
     "output_type": "display_data"
    },
    {
     "data": {
      "text/html": [
       "<table>\n",
       "<thead><tr><th scope=col>location_id</th><th scope=col>year_id</th><th scope=col>variable</th><th scope=col>draw_num</th><th scope=col>data</th></tr></thead>\n",
       "<tbody>\n",
       "\t<tr><td>198      </td><td>2035     </td><td>TFR      </td><td>draw_1000</td><td>2.75927  </td></tr>\n",
       "\t<tr><td>198      </td><td>2036     </td><td>TFR      </td><td>draw_1000</td><td>2.66840  </td></tr>\n",
       "\t<tr><td>198      </td><td>2037     </td><td>TFR      </td><td>draw_1000</td><td>2.58057  </td></tr>\n",
       "\t<tr><td>198      </td><td>2038     </td><td>TFR      </td><td>draw_1000</td><td>2.49567  </td></tr>\n",
       "\t<tr><td>198      </td><td>2039     </td><td>TFR      </td><td>draw_1000</td><td>2.48211  </td></tr>\n",
       "\t<tr><td>198      </td><td>2040     </td><td>TFR      </td><td>draw_1000</td><td>2.46863  </td></tr>\n",
       "</tbody>\n",
       "</table>\n"
      ],
      "text/latex": [
       "\\begin{tabular}{r|lllll}\n",
       " location\\_id & year\\_id & variable & draw\\_num & data\\\\\n",
       "\\hline\n",
       "\t 198         & 2035        & TFR         & draw\\_1000 & 2.75927    \\\\\n",
       "\t 198         & 2036        & TFR         & draw\\_1000 & 2.66840    \\\\\n",
       "\t 198         & 2037        & TFR         & draw\\_1000 & 2.58057    \\\\\n",
       "\t 198         & 2038        & TFR         & draw\\_1000 & 2.49567    \\\\\n",
       "\t 198         & 2039        & TFR         & draw\\_1000 & 2.48211    \\\\\n",
       "\t 198         & 2040        & TFR         & draw\\_1000 & 2.46863    \\\\\n",
       "\\end{tabular}\n"
      ],
      "text/markdown": [
       "\n",
       "location_id | year_id | variable | draw_num | data | \n",
       "|---|---|---|---|---|---|\n",
       "| 198       | 2035      | TFR       | draw_1000 | 2.75927   | \n",
       "| 198       | 2036      | TFR       | draw_1000 | 2.66840   | \n",
       "| 198       | 2037      | TFR       | draw_1000 | 2.58057   | \n",
       "| 198       | 2038      | TFR       | draw_1000 | 2.49567   | \n",
       "| 198       | 2039      | TFR       | draw_1000 | 2.48211   | \n",
       "| 198       | 2040      | TFR       | draw_1000 | 2.46863   | \n",
       "\n",
       "\n"
      ],
      "text/plain": [
       "  location_id year_id variable draw_num  data   \n",
       "1 198         2035    TFR      draw_1000 2.75927\n",
       "2 198         2036    TFR      draw_1000 2.66840\n",
       "3 198         2037    TFR      draw_1000 2.58057\n",
       "4 198         2038    TFR      draw_1000 2.49567\n",
       "5 198         2039    TFR      draw_1000 2.48211\n",
       "6 198         2040    TFR      draw_1000 2.46863"
      ]
     },
     "metadata": {},
     "output_type": "display_data"
    }
   ],
   "source": [
    "system.time(Xcorr_array <- lapply(countries , \n",
    "                                     function(x) cbind(x, draw2Dcopula(myarray2[paste0(x),,,], corr_mat , df_return = T)) ))\n",
    "                                        \n",
    "test2 <- list.stack(Xcorr_array, data.table=T)\n",
    "colnames(test2) <- c(\"location_id\", \"year_id\", \"variable\", \"draw_num\", \"data\")\n",
    "tail(test2)                  "
   ]
  },
  {
   "cell_type": "code",
   "execution_count": 22,
   "metadata": {},
   "outputs": [
    {
     "data": {
      "text/html": [
       "<table>\n",
       "<thead><tr><th scope=col>location_id</th><th scope=col>year_id</th><th scope=col>variable</th><th scope=col>draw_1</th><th scope=col>draw_2</th><th scope=col>draw_3</th><th scope=col>draw_4</th><th scope=col>draw_5</th><th scope=col>draw_6</th><th scope=col>draw_7</th><th scope=col>⋯</th><th scope=col>draw_991</th><th scope=col>draw_992</th><th scope=col>draw_993</th><th scope=col>draw_994</th><th scope=col>draw_995</th><th scope=col>draw_996</th><th scope=col>draw_997</th><th scope=col>draw_998</th><th scope=col>draw_999</th><th scope=col>draw_1000</th></tr></thead>\n",
       "<tbody>\n",
       "\t<tr><td>6          </td><td>1979       </td><td>EDU        </td><td>   5.281507</td><td>   5.691998</td><td>   5.981159</td><td>   5.228214</td><td>   5.402339</td><td>   5.933942</td><td>   5.480035</td><td>⋯          </td><td>   6.622086</td><td>   5.974635</td><td>   5.863802</td><td>   5.994738</td><td>   5.596356</td><td>   5.199357</td><td>   6.273481</td><td>   5.436187</td><td>   5.878156</td><td>   5.481549</td></tr>\n",
       "\t<tr><td>6          </td><td>1979       </td><td>LDIpc      </td><td>1015.736700</td><td>1015.736700</td><td>1015.736700</td><td>1015.736700</td><td>1015.736700</td><td>1015.736700</td><td>1015.736700</td><td>⋯          </td><td>1015.736700</td><td>1015.736700</td><td>1015.736700</td><td>1015.736700</td><td>1015.736700</td><td>1015.736700</td><td>1015.736700</td><td>1015.736700</td><td>1015.736700</td><td>1015.736700</td></tr>\n",
       "\t<tr><td>6          </td><td>1979       </td><td>TFR        </td><td>   2.865660</td><td>   2.865660</td><td>   2.865660</td><td>   2.865660</td><td>   2.865660</td><td>   2.865660</td><td>   2.865660</td><td>⋯          </td><td>   2.865660</td><td>   2.865660</td><td>   2.865660</td><td>   2.865660</td><td>   2.865660</td><td>   2.865660</td><td>   2.865660</td><td>   2.865660</td><td>   2.865660</td><td>   2.865660</td></tr>\n",
       "\t<tr><td>6          </td><td>1980       </td><td>EDU        </td><td>   5.409671</td><td>   5.800328</td><td>   6.055033</td><td>   5.357602</td><td>   5.535630</td><td>   6.035072</td><td>   5.610173</td><td>⋯          </td><td>   6.692808</td><td>   6.101372</td><td>   6.004011</td><td>   6.069328</td><td>   5.712001</td><td>   5.352301</td><td>   6.361074</td><td>   5.587738</td><td>   5.978882</td><td>   5.615926</td></tr>\n",
       "\t<tr><td>6          </td><td>1980       </td><td>LDIpc      </td><td>1028.146400</td><td>1028.146400</td><td>1028.146400</td><td>1028.146400</td><td>1028.146400</td><td>1028.146400</td><td>1028.146400</td><td>⋯          </td><td>1028.146400</td><td>1028.146400</td><td>1028.146400</td><td>1028.146400</td><td>1028.146400</td><td>1028.146400</td><td>1028.146400</td><td>1028.146400</td><td>1028.146400</td><td>1028.146400</td></tr>\n",
       "\t<tr><td>6          </td><td>1980       </td><td>TFR        </td><td>   2.766900</td><td>   2.766900</td><td>   2.766900</td><td>   2.766900</td><td>   2.766900</td><td>   2.766900</td><td>   2.766900</td><td>⋯          </td><td>   2.766900</td><td>   2.766900</td><td>   2.766900</td><td>   2.766900</td><td>   2.766900</td><td>   2.766900</td><td>   2.766900</td><td>   2.766900</td><td>   2.766900</td><td>   2.766900</td></tr>\n",
       "</tbody>\n",
       "</table>\n"
      ],
      "text/latex": [
       "\\begin{tabular}{r|lllllllllllllllllllllllllllllllllllllllllllllllllllllllllllllllllllllllllllllllllllllllllllllllllllllllllllllllllllllllllllllllllllllllllllllllllllllllllllllllllllllllllllllllllllllllllllllllllllllllllllllllllllllllllllllllllllllllllllllllllllllllllllllllllllllllllllllllllllllllllllllllllllllllllllllllllllllllllllllllllllllllllllllllllllllllllllllllllllllllllllllllllllllllllllllllllllllllllllllllllllllllllllllllllllllllllllllllllllllllllllllllllllllllllllllllllllllllllllllllllllllllllllllllllllllllllllllllllllllllllllllllllllllllllllllllllllllllllllllllllllllllllllllllllllllllllllllllllllllllllllllllllllllllllllllllllllllllllllllllllllllllllllllllllllllllllllllllllllllllllllllllllllllllllllllllllllllllllllllllllllllllllllllllllllllllllllllllllllllllllllllllllllllllllllllllllllllllllllllllllllllllllllllllllllllllllllllllllllllllllllllllllllllllllllllllllllllllllllllllllllllllllllllllllllllllllllllllllllllllllllllllllllllllllllllllllllllllllllllllllllllllllllllllllllllllllllllllllllllllllll}\n",
       " location\\_id & year\\_id & variable & draw\\_1 & draw\\_2 & draw\\_3 & draw\\_4 & draw\\_5 & draw\\_6 & draw\\_7 & ⋯ & draw\\_991 & draw\\_992 & draw\\_993 & draw\\_994 & draw\\_995 & draw\\_996 & draw\\_997 & draw\\_998 & draw\\_999 & draw\\_1000\\\\\n",
       "\\hline\n",
       "\t 6           & 1979        & EDU         &    5.281507 &    5.691998 &    5.981159 &    5.228214 &    5.402339 &    5.933942 &    5.480035 & ⋯           &    6.622086 &    5.974635 &    5.863802 &    5.994738 &    5.596356 &    5.199357 &    6.273481 &    5.436187 &    5.878156 &    5.481549\\\\\n",
       "\t 6           & 1979        & LDIpc       & 1015.736700 & 1015.736700 & 1015.736700 & 1015.736700 & 1015.736700 & 1015.736700 & 1015.736700 & ⋯           & 1015.736700 & 1015.736700 & 1015.736700 & 1015.736700 & 1015.736700 & 1015.736700 & 1015.736700 & 1015.736700 & 1015.736700 & 1015.736700\\\\\n",
       "\t 6           & 1979        & TFR         &    2.865660 &    2.865660 &    2.865660 &    2.865660 &    2.865660 &    2.865660 &    2.865660 & ⋯           &    2.865660 &    2.865660 &    2.865660 &    2.865660 &    2.865660 &    2.865660 &    2.865660 &    2.865660 &    2.865660 &    2.865660\\\\\n",
       "\t 6           & 1980        & EDU         &    5.409671 &    5.800328 &    6.055033 &    5.357602 &    5.535630 &    6.035072 &    5.610173 & ⋯           &    6.692808 &    6.101372 &    6.004011 &    6.069328 &    5.712001 &    5.352301 &    6.361074 &    5.587738 &    5.978882 &    5.615926\\\\\n",
       "\t 6           & 1980        & LDIpc       & 1028.146400 & 1028.146400 & 1028.146400 & 1028.146400 & 1028.146400 & 1028.146400 & 1028.146400 & ⋯           & 1028.146400 & 1028.146400 & 1028.146400 & 1028.146400 & 1028.146400 & 1028.146400 & 1028.146400 & 1028.146400 & 1028.146400 & 1028.146400\\\\\n",
       "\t 6           & 1980        & TFR         &    2.766900 &    2.766900 &    2.766900 &    2.766900 &    2.766900 &    2.766900 &    2.766900 & ⋯           &    2.766900 &    2.766900 &    2.766900 &    2.766900 &    2.766900 &    2.766900 &    2.766900 &    2.766900 &    2.766900 &    2.766900\\\\\n",
       "\\end{tabular}\n"
      ],
      "text/markdown": [
       "\n",
       "location_id | year_id | variable | draw_1 | draw_2 | draw_3 | draw_4 | draw_5 | draw_6 | draw_7 | ⋯ | draw_991 | draw_992 | draw_993 | draw_994 | draw_995 | draw_996 | draw_997 | draw_998 | draw_999 | draw_1000 | \n",
       "|---|---|---|---|---|---|\n",
       "| 6           | 1979        | EDU         |    5.281507 |    5.691998 |    5.981159 |    5.228214 |    5.402339 |    5.933942 |    5.480035 | ⋯           |    6.622086 |    5.974635 |    5.863802 |    5.994738 |    5.596356 |    5.199357 |    6.273481 |    5.436187 |    5.878156 |    5.481549 | \n",
       "| 6           | 1979        | LDIpc       | 1015.736700 | 1015.736700 | 1015.736700 | 1015.736700 | 1015.736700 | 1015.736700 | 1015.736700 | ⋯           | 1015.736700 | 1015.736700 | 1015.736700 | 1015.736700 | 1015.736700 | 1015.736700 | 1015.736700 | 1015.736700 | 1015.736700 | 1015.736700 | \n",
       "| 6           | 1979        | TFR         |    2.865660 |    2.865660 |    2.865660 |    2.865660 |    2.865660 |    2.865660 |    2.865660 | ⋯           |    2.865660 |    2.865660 |    2.865660 |    2.865660 |    2.865660 |    2.865660 |    2.865660 |    2.865660 |    2.865660 |    2.865660 | \n",
       "| 6           | 1980        | EDU         |    5.409671 |    5.800328 |    6.055033 |    5.357602 |    5.535630 |    6.035072 |    5.610173 | ⋯           |    6.692808 |    6.101372 |    6.004011 |    6.069328 |    5.712001 |    5.352301 |    6.361074 |    5.587738 |    5.978882 |    5.615926 | \n",
       "| 6           | 1980        | LDIpc       | 1028.146400 | 1028.146400 | 1028.146400 | 1028.146400 | 1028.146400 | 1028.146400 | 1028.146400 | ⋯           | 1028.146400 | 1028.146400 | 1028.146400 | 1028.146400 | 1028.146400 | 1028.146400 | 1028.146400 | 1028.146400 | 1028.146400 | 1028.146400 | \n",
       "| 6           | 1980        | TFR         |    2.766900 |    2.766900 |    2.766900 |    2.766900 |    2.766900 |    2.766900 |    2.766900 | ⋯           |    2.766900 |    2.766900 |    2.766900 |    2.766900 |    2.766900 |    2.766900 |    2.766900 |    2.766900 |    2.766900 |    2.766900 | \n",
       "\n",
       "\n"
      ],
      "text/plain": [
       "  location_id year_id variable draw_1      draw_2      draw_3      draw_4     \n",
       "1 6           1979    EDU         5.281507    5.691998    5.981159    5.228214\n",
       "2 6           1979    LDIpc    1015.736700 1015.736700 1015.736700 1015.736700\n",
       "3 6           1979    TFR         2.865660    2.865660    2.865660    2.865660\n",
       "4 6           1980    EDU         5.409671    5.800328    6.055033    5.357602\n",
       "5 6           1980    LDIpc    1028.146400 1028.146400 1028.146400 1028.146400\n",
       "6 6           1980    TFR         2.766900    2.766900    2.766900    2.766900\n",
       "  draw_5      draw_6      draw_7      ⋯ draw_991    draw_992    draw_993   \n",
       "1    5.402339    5.933942    5.480035 ⋯    6.622086    5.974635    5.863802\n",
       "2 1015.736700 1015.736700 1015.736700 ⋯ 1015.736700 1015.736700 1015.736700\n",
       "3    2.865660    2.865660    2.865660 ⋯    2.865660    2.865660    2.865660\n",
       "4    5.535630    6.035072    5.610173 ⋯    6.692808    6.101372    6.004011\n",
       "5 1028.146400 1028.146400 1028.146400 ⋯ 1028.146400 1028.146400 1028.146400\n",
       "6    2.766900    2.766900    2.766900 ⋯    2.766900    2.766900    2.766900\n",
       "  draw_994    draw_995    draw_996    draw_997    draw_998    draw_999   \n",
       "1    5.994738    5.596356    5.199357    6.273481    5.436187    5.878156\n",
       "2 1015.736700 1015.736700 1015.736700 1015.736700 1015.736700 1015.736700\n",
       "3    2.865660    2.865660    2.865660    2.865660    2.865660    2.865660\n",
       "4    6.069328    5.712001    5.352301    6.361074    5.587738    5.978882\n",
       "5 1028.146400 1028.146400 1028.146400 1028.146400 1028.146400 1028.146400\n",
       "6    2.766900    2.766900    2.766900    2.766900    2.766900    2.766900\n",
       "  draw_1000  \n",
       "1    5.481549\n",
       "2 1015.736700\n",
       "3    2.865660\n",
       "4    5.615926\n",
       "5 1028.146400\n",
       "6    2.766900"
      ]
     },
     "metadata": {},
     "output_type": "display_data"
    }
   ],
   "source": [
    "### Stack into a DT\n",
    "test3 <- dcast(test2, location_id + year_id + variable ~ draw_num, value.var = c(\"data\"))\n",
    "head(test3)"
   ]
  },
  {
   "cell_type": "code",
   "execution_count": 24,
   "metadata": {
    "collapsed": true
   },
   "outputs": [],
   "source": [
    "LDI_sorted <- test3[variable==\"LDIpc\", .SD, .SDcols = c(\"location_id\", \"year_id\", paste0(\"draw_\", c(1:1000)))]\n",
    "colnames(LDI_sorted) <- c(\"location_id\", \"year_id\", paste0(\"LDIpc_\", c(1:1000)))\n",
    "EDU_sorted <- test3[variable==\"EDU\", .SD, .SDcols = c(\"location_id\", \"year_id\", paste0(\"draw_\", c(1:1000)))]\n",
    "colnames(EDU_sorted) <- c(\"location_id\", \"year_id\", paste0(\"draw\", c(0:999)))\n",
    "TFR_sorted <- test3[variable==\"TFR\", .SD, .SDcols = c(\"location_id\", \"year_id\", paste0(\"draw_\", c(1:1000)))]\n",
    "colnames(TFR_sorted) <- c(\"location_id\", \"year_id\", paste0(\"draw\", c(0:999)))"
   ]
  },
  {
   "cell_type": "code",
   "execution_count": 25,
   "metadata": {},
   "outputs": [
    {
     "name": "stdout",
     "output_type": "stream",
     "text": [
      "\r",
      "Written 25.2% of 11656 rows in 2 secs using 28 threads. anyBufferGrown=no; maxBuffUsed=49%. Finished in 5 secs.      \r",
      "                                                                                                                                     \r"
     ]
    }
   ],
   "source": [
    "## Save out\n",
    "fwrite(LDI_sorted, \"/ihme/forecasting/data/covariates/ldi_per_capita/national_LDIpc_corrd_with_EDU_20170501.csv\")\n",
    "fwrite(EDU_sorted, \"/ihme/forecasting/data/covariates/education/national_EDU_corrd_with_LDIpc_20170501.csv\")\n",
    "fwrite(TFR_sorted, \"/ihme/forecasting/data/covariates/TFR/national_TFR_corrd_with_LDIpc_EDU_20170501.csv\")"
   ]
  }
 ],
 "metadata": {
  "anaconda-cloud": {},
  "kernelspec": {
   "display_name": "R 3.4.1",
   "language": "R",
   "name": "ir341"
  },
  "language_info": {
   "codemirror_mode": "r",
   "file_extension": ".r",
   "mimetype": "text/x-r-source",
   "name": "R",
   "pygments_lexer": "r",
   "version": "3.3.2"
  }
 },
 "nbformat": 4,
 "nbformat_minor": 1
}
