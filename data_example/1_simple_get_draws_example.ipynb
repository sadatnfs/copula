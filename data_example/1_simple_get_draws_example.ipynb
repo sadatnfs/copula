{
 "cells": [
  {
   "cell_type": "code",
   "execution_count": 1,
   "metadata": {
    "collapsed": false,
    "scrolled": true
   },
   "outputs": [
    {
     "name": "stderr",
     "output_type": "stream",
     "text": [
      "Loading required package: data.table\n",
      "Loading required package: MASS\n",
      "Loading required package: ggplot2\n",
      "Loading required package: gridExtra\n",
      "Loading required package: stringr\n",
      "Loading required package: doParallel\n",
      "Loading required package: foreach\n",
      "Loading required package: iterators\n",
      "Loading required package: parallel\n",
      "Loading required package: abind\n",
      "Loading required package: Matrix\n"
     ]
    }
   ],
   "source": [
    "# rm(list=ls())\n",
    "require(data.table)\n",
    "require(MASS)\n",
    "require(ggplot2)\n",
    "require(gridExtra)\n",
    "require(stringr)\n",
    "require(doParallel)\n",
    "require(abind)\n",
    "require(Matrix)\n",
    "set.seed(123)\n",
    "\n",
    "## Resizing notebook plot space\n",
    "options(repr.plot.width=16, repr.plot.height=9)"
   ]
  },
  {
   "cell_type": "markdown",
   "metadata": {},
   "source": [
    "## (0) Some functions"
   ]
  },
  {
   "cell_type": "code",
   "execution_count": 2,
   "metadata": {
    "collapsed": true
   },
   "outputs": [],
   "source": [
    "## Load in the R functions\n",
    "source(\"/home/j/temp/central_comp/libraries/current/r/get_draws.R\")"
   ]
  },
  {
   "cell_type": "code",
   "execution_count": 3,
   "metadata": {
    "collapsed": true
   },
   "outputs": [],
   "source": [
    "## Neal's multivariate copula function\n",
    "draw2Dcopula <- function(X, cor_mat, df_return = F){\n",
    "    \n",
    "    ## If X is a df, convert to array; else continue\n",
    "    \n",
    "  L <- dim(X)[2]\n",
    "  D <- dim(X)[3]\n",
    "  Xsum <- apply(X, c(2, 3), sum)\n",
    "  mvdat <- mvrnorm(n=D, mu=0 * 1:L, Sigma=cor_mat, empirical=TRUE)\n",
    "  ranks <- apply(mvdat, 2, rank, ties.method=\"first\")\n",
    "  sortedXsim <- apply(Xsum, 1, function(x) sort(x, index.return=TRUE)$ix)\n",
    "  sortedX <- X\n",
    "  for(i in 1:L){\n",
    "    sortedX[,i,] <- X[,i,sortedXsim[,i]]\n",
    "  }\n",
    "  Xcorr <- sortedX\n",
    "  for(i in 1:L){\n",
    "    Xcorr[,i,] <- sortedX[,i,ranks[,i]]\n",
    "  }\n",
    "  if (df_return==T) {\n",
    "    return(data.table(melt(Xcorr)))\n",
    "    }\n",
    "      else {\n",
    "          Xcorr\n",
    "      }\n",
    "}\n"
   ]
  },
  {
   "cell_type": "code",
   "execution_count": 4,
   "metadata": {
    "collapsed": true
   },
   "outputs": [],
   "source": [
    "## Stacking function: stack the names of the ones that matter and ones that don't\n",
    "stacking_df <- function(data, to_stack,no_stack) {\n",
    "    \n",
    "    to_stack_name <- paste(to_stack, collapse=\"__\")\n",
    "    no_stack_name <- paste(no_stack, collapse=\"__\")\n",
    "    \n",
    "    data[,paste0(to_stack_name) := do.call(paste, c(data[, .SD, .SDcols = to_stack], sep = \"__\")) ]\n",
    "    data[, paste0(no_stack_name) := do.call(paste, c(data[, .SD, .SDcols = no_stack], sep = \"__\"))]\n",
    "    \n",
    "    return(data)\n",
    "}"
   ]
  },
  {
   "cell_type": "code",
   "execution_count": 3,
   "metadata": {
    "collapsed": true
   },
   "outputs": [],
   "source": [
    "## Unstacking function: le opposite\n",
    "unstack_df <- function(data, corr_unstack, no_corr_unstack, draw_name = \"draw_num\", data_col_name = \"data\",\n",
    "                      wide_on_draws = F) {\n",
    "    \n",
    "    ## Input needs to be long on errything\n",
    "    \n",
    "    ## Split the variables according to the length of the corring_over and not_corring_over vectors\n",
    "    ### This is much faster than explicitly defining the LHS var names because we're using 'set'\n",
    "\n",
    "    cols_of_data <- ncol(data)    \n",
    "    dalys_binded_long_splitters <- data[,1:cols_of_data]\n",
    "    \n",
    "    ##### NOTE: Why is it that I have to define the columns of 'data', or else it just doesn't work?? ####\n",
    "    \n",
    "    setDT(dalys_binded_long_splitters)[, paste0(\"not_corr\", 1:length(no_corr_unstack)) := \n",
    "                                       tstrsplit(get(var_melters[1]), \"__\", type.convert = TRUE, fixed = TRUE)]\n",
    "    setDT(dalys_binded_long_splitters)[, paste0(\"to_corr\", 1:length(corr_unstack)) := \n",
    "                                       tstrsplit(get(var_melters[2]), \"__\", type.convert = TRUE, fixed = TRUE)]\n",
    "\n",
    "\n",
    "    ## Keep what we need:\n",
    "    dalys_keeperz <- dalys_binded_long_splitters[, .SD, \n",
    "                                                 .SDcols = c(paste0(\"not_corr\", 1:length(no_corr_unstack)),\n",
    "                                                             paste0(\"to_corr\", 1:length(corr_unstack)),\n",
    "                                                             \"draw_num\", \"data\")]\n",
    "    \n",
    "    ## Cast the draws out wide?\n",
    "    if(wide_on_draws) {\n",
    "        dalys_keeperz <- dcast(dalys_keeperz, )\n",
    "    }\n",
    "    \n",
    "    ## Rename columns back\n",
    "    for(i in 1:length(c(no_corr_unstack, corr_unstack))) {\n",
    "        colnames(dalys_keeperz)[i] <- c(no_corr_unstack, corr_unstack)[i] \n",
    "    }\n",
    "    return(dalys_keeperz)\n",
    "}"
   ]
  },
  {
   "cell_type": "markdown",
   "metadata": {},
   "source": [
    "## (1) Prepping the data to be into the array we want"
   ]
  },
  {
   "cell_type": "code",
   "execution_count": 5,
   "metadata": {
    "collapsed": false
   },
   "outputs": [],
   "source": [
    "## Get some example draws (causes 587 and 495)\n",
    "dalys_diabetes <- get_draws(gbd_id_field = \"cause_id\", gbd_id = 587, source = 'dalynator', metric_id = 1,\n",
    "                            measure_ids = 2, location_id = c(6,7,8), \n",
    "                            age_group_ids = c(6,7,8,9,10), sex_ids = c(1,2))\n",
    "\n",
    "dalys_ihd <- get_draws(gbd_id_field = \"cause_id\", gbd_id = 495, source = 'dalynator', metric_id = 1,\n",
    "                            measure_ids = 2, location_id = c(6,7,8), \n",
    "                            age_group_ids = c(6,7,8,9,10), sex_ids = c(1,2))"
   ]
  },
  {
   "cell_type": "code",
   "execution_count": null,
   "metadata": {
    "collapsed": false
   },
   "outputs": [],
   "source": [
    "head(dalys_ihd)"
   ]
  },
  {
   "cell_type": "code",
   "execution_count": 7,
   "metadata": {
    "collapsed": true
   },
   "outputs": [],
   "source": [
    "## Clean up and only what we need (loc, year, age, sex, draws):\n",
    "dalys_ihd <- dalys_ihd[, .SD, .SDcols = c(\"location_id\", \"year_id\", \"age_group_id\", \"sex_id\", \"cause_id\", paste0(\"draw_\",c(0:999)) )]\n",
    "dalys_diabetes <- dalys_diabetes[, .SD, .SDcols = c(\"location_id\", \"year_id\", \"age_group_id\", \"sex_id\", \"cause_id\", paste0(\"draw_\",c(0:999)) )]"
   ]
  },
  {
   "cell_type": "code",
   "execution_count": 8,
   "metadata": {
    "collapsed": false
   },
   "outputs": [
    {
     "data": {},
     "metadata": {},
     "output_type": "display_data"
    },
    {
     "data": {},
     "metadata": {},
     "output_type": "display_data"
    }
   ],
   "source": [
    "## Convert age group to a string with leading zeroes, so that the sorting is maintained in the arrays\n",
    "dalys_ihd[, age_group_id:= formatC(age_group_id, width = 3, format = \"d\", flag = \"0\")]\n",
    "dalys_diabetes[, age_group_id:= formatC(age_group_id, width = 3, format = \"d\", flag = \"0\")]"
   ]
  },
  {
   "cell_type": "code",
   "execution_count": 9,
   "metadata": {
    "collapsed": true
   },
   "outputs": [],
   "source": [
    "## Stack age_sex and loc_year for each of the data tables by the variable we want to correlate over or not\n",
    "corring_over <- c(\"age_group_id\", \"sex_id\", \"cause_id\")\n",
    "not_corring_over <- c(\"location_id\", \"year_id\")\n",
    "\n",
    "dalys_ihd <- stacking_df(dalys_ihd, to_stack =  corring_over, no_stack = not_corring_over)\n",
    "dalys_diabetes <- stacking_df(dalys_diabetes, to_stack =  corring_over, no_stack = not_corring_over)"
   ]
  },
  {
   "cell_type": "code",
   "execution_count": 10,
   "metadata": {
    "collapsed": false
   },
   "outputs": [
    {
     "data": {
      "text/html": [
       "<table>\n",
       "<thead><tr><th scope=col>location_id</th><th scope=col>year_id</th><th scope=col>age_group_id</th><th scope=col>sex_id</th><th scope=col>cause_id</th><th scope=col>draw_0</th><th scope=col>draw_1</th><th scope=col>draw_2</th><th scope=col>draw_3</th><th scope=col>draw_4</th><th scope=col>⋯</th><th scope=col>draw_992</th><th scope=col>draw_993</th><th scope=col>draw_994</th><th scope=col>draw_995</th><th scope=col>draw_996</th><th scope=col>draw_997</th><th scope=col>draw_998</th><th scope=col>draw_999</th><th scope=col>age_group_id__sex_id__cause_id</th><th scope=col>location_id__year_id</th></tr></thead>\n",
       "<tbody>\n",
       "\t<tr><td>6          </td><td>1990       </td><td>006        </td><td>1          </td><td>587        </td><td> 5551.28707</td><td> 5011.35001</td><td> 5230.27951</td><td> 5159.20116</td><td> 4929.13923</td><td>⋯          </td><td> 4998.58775</td><td> 5237.57671</td><td> 5637.10652</td><td> 5552.47410</td><td> 5192.48345</td><td> 4791.53376</td><td> 5112.86431</td><td>4748.82328 </td><td>006__1__587</td><td>6__1990    </td></tr>\n",
       "\t<tr><td>7          </td><td>1990       </td><td>006        </td><td>1          </td><td>587        </td><td>   35.05237</td><td>   39.75230</td><td>   22.31576</td><td>   31.36539</td><td>   21.13766</td><td>⋯          </td><td>   28.35600</td><td>   51.33843</td><td>   35.90585</td><td>   40.73370</td><td>   40.78756</td><td>   47.48124</td><td>   52.00294</td><td>  45.74394 </td><td>006__1__587</td><td>7__1990    </td></tr>\n",
       "\t<tr><td>8          </td><td>1990       </td><td>006        </td><td>1          </td><td>587        </td><td>   85.09490</td><td>   84.98729</td><td>   72.09881</td><td>  107.28607</td><td>   79.32551</td><td>⋯          </td><td>   55.39497</td><td>   76.87085</td><td>   51.15128</td><td>   58.55369</td><td>   47.29480</td><td>   42.98546</td><td>   57.92655</td><td>  39.45834 </td><td>006__1__587</td><td>8__1990    </td></tr>\n",
       "\t<tr><td>6          </td><td>1990       </td><td>007        </td><td>1          </td><td>587        </td><td>15998.24064</td><td>11584.10129</td><td>11630.16977</td><td>12598.39286</td><td>10725.20921</td><td>⋯          </td><td>10528.19276</td><td>11964.77253</td><td>11981.37321</td><td>11900.08308</td><td>10474.10660</td><td>12320.29350</td><td>10956.66726</td><td>9727.47450 </td><td>007__1__587</td><td>6__1990    </td></tr>\n",
       "\t<tr><td>7          </td><td>1990       </td><td>007        </td><td>1          </td><td>587        </td><td>  113.51948</td><td>   89.13242</td><td>  108.93392</td><td>  124.96546</td><td>   93.38775</td><td>⋯          </td><td>   84.91567</td><td>  120.01612</td><td>   82.66760</td><td>  119.78845</td><td>  103.57053</td><td>  106.14606</td><td>  109.97217</td><td>  88.41428 </td><td>007__1__587</td><td>7__1990    </td></tr>\n",
       "\t<tr><td>8          </td><td>1990       </td><td>007        </td><td>1          </td><td>587        </td><td>  219.56580</td><td>  144.88023</td><td>  268.23797</td><td>  179.55307</td><td>  163.26509</td><td>⋯          </td><td>  238.10002</td><td>  172.62521</td><td>  157.83982</td><td>  173.48822</td><td>  156.35254</td><td>  192.37304</td><td>  157.26231</td><td> 126.48048 </td><td>007__1__587</td><td>8__1990    </td></tr>\n",
       "</tbody>\n",
       "</table>\n"
      ],
      "text/latex": [
       "\\begin{tabular}{r|lllllllllllllllllllllllllllllllllllllllllllllllllllllllllllllllllllllllllllllllllllllllllllllllllllllllllllllllllllllllllllllllllllllllllllllllllllllllllllllllllllllllllllllllllllllllllllllllllllllllllllllllllllllllllllllllllllllllllllllllllllllllllllllllllllllllllllllllllllllllllllllllllllllllllllllllllllllllllllllllllllllllllllllllllllllllllllllllllllllllllllllllllllllllllllllllllllllllllllllllllllllllllllllllllllllllllllllllllllllllllllllllllllllllllllllllllllllllllllllllllllllllllllllllllllllllllllllllllllllllllllllllllllllllllllllllllllllllllllllllllllllllllllllllllllllllllllllllllllllllllllllllllllllllllllllllllllllllllllllllllllllllllllllllllllllllllllllllllllllllllllllllllllllllllllllllllllllllllllllllllllllllllllllllllllllllllllllllllllllllllllllllllllllllllllllllllllllllllllllllllllllllllllllllllllllllllllllllllllllllllllllllllllllllllllllllllllllllllllllllllllllllllllllllllllllllllllllllllllllllllllllllllllllllllllllllllllllllllllllllllllllllllllllllllllllllllllllllllllllllllllllll}\n",
       " location\\_id & year\\_id & age\\_group\\_id & sex\\_id & cause\\_id & draw\\_0 & draw\\_1 & draw\\_2 & draw\\_3 & draw\\_4 & ⋯ & draw\\_992 & draw\\_993 & draw\\_994 & draw\\_995 & draw\\_996 & draw\\_997 & draw\\_998 & draw\\_999 & age\\_group\\_id\\_\\_sex\\_id\\_\\_cause\\_id & location\\_id\\_\\_year\\_id\\\\\n",
       "\\hline\n",
       "\t 6                   & 1990                & 006                 & 1                   & 587                 &  5551.28707         &  5011.35001         &  5230.27951         &  5159.20116         &  4929.13923         & ⋯                   &  4998.58775         &  5237.57671         &  5637.10652         &  5552.47410         &  5192.48345         &  4791.53376         &  5112.86431         & 4748.82328          & 006\\_\\_1\\_\\_587 & 6\\_\\_1990        \\\\\n",
       "\t 7                   & 1990                & 006                 & 1                   & 587                 &    35.05237         &    39.75230         &    22.31576         &    31.36539         &    21.13766         & ⋯                   &    28.35600         &    51.33843         &    35.90585         &    40.73370         &    40.78756         &    47.48124         &    52.00294         &   45.74394          & 006\\_\\_1\\_\\_587 & 7\\_\\_1990        \\\\\n",
       "\t 8                   & 1990                & 006                 & 1                   & 587                 &    85.09490         &    84.98729         &    72.09881         &   107.28607         &    79.32551         & ⋯                   &    55.39497         &    76.87085         &    51.15128         &    58.55369         &    47.29480         &    42.98546         &    57.92655         &   39.45834          & 006\\_\\_1\\_\\_587 & 8\\_\\_1990        \\\\\n",
       "\t 6                   & 1990                & 007                 & 1                   & 587                 & 15998.24064         & 11584.10129         & 11630.16977         & 12598.39286         & 10725.20921         & ⋯                   & 10528.19276         & 11964.77253         & 11981.37321         & 11900.08308         & 10474.10660         & 12320.29350         & 10956.66726         & 9727.47450          & 007\\_\\_1\\_\\_587 & 6\\_\\_1990        \\\\\n",
       "\t 7                   & 1990                & 007                 & 1                   & 587                 &   113.51948         &    89.13242         &   108.93392         &   124.96546         &    93.38775         & ⋯                   &    84.91567         &   120.01612         &    82.66760         &   119.78845         &   103.57053         &   106.14606         &   109.97217         &   88.41428          & 007\\_\\_1\\_\\_587 & 7\\_\\_1990        \\\\\n",
       "\t 8                   & 1990                & 007                 & 1                   & 587                 &   219.56580         &   144.88023         &   268.23797         &   179.55307         &   163.26509         & ⋯                   &   238.10002         &   172.62521         &   157.83982         &   173.48822         &   156.35254         &   192.37304         &   157.26231         &  126.48048          & 007\\_\\_1\\_\\_587 & 8\\_\\_1990        \\\\\n",
       "\\end{tabular}\n"
      ],
      "text/markdown": [
       "\n",
       "location_id | year_id | age_group_id | sex_id | cause_id | draw_0 | draw_1 | draw_2 | draw_3 | draw_4 | ⋯ | draw_992 | draw_993 | draw_994 | draw_995 | draw_996 | draw_997 | draw_998 | draw_999 | age_group_id__sex_id__cause_id | location_id__year_id | \n",
       "|---|---|---|---|---|---|\n",
       "| 6           | 1990        | 006         | 1           | 587         |  5551.28707 |  5011.35001 |  5230.27951 |  5159.20116 |  4929.13923 | ⋯           |  4998.58775 |  5237.57671 |  5637.10652 |  5552.47410 |  5192.48345 |  4791.53376 |  5112.86431 | 4748.82328  | 006__1__587 | 6__1990     | \n",
       "| 7           | 1990        | 006         | 1           | 587         |    35.05237 |    39.75230 |    22.31576 |    31.36539 |    21.13766 | ⋯           |    28.35600 |    51.33843 |    35.90585 |    40.73370 |    40.78756 |    47.48124 |    52.00294 |   45.74394  | 006__1__587 | 7__1990     | \n",
       "| 8           | 1990        | 006         | 1           | 587         |    85.09490 |    84.98729 |    72.09881 |   107.28607 |    79.32551 | ⋯           |    55.39497 |    76.87085 |    51.15128 |    58.55369 |    47.29480 |    42.98546 |    57.92655 |   39.45834  | 006__1__587 | 8__1990     | \n",
       "| 6           | 1990        | 007         | 1           | 587         | 15998.24064 | 11584.10129 | 11630.16977 | 12598.39286 | 10725.20921 | ⋯           | 10528.19276 | 11964.77253 | 11981.37321 | 11900.08308 | 10474.10660 | 12320.29350 | 10956.66726 | 9727.47450  | 007__1__587 | 6__1990     | \n",
       "| 7           | 1990        | 007         | 1           | 587         |   113.51948 |    89.13242 |   108.93392 |   124.96546 |    93.38775 | ⋯           |    84.91567 |   120.01612 |    82.66760 |   119.78845 |   103.57053 |   106.14606 |   109.97217 |   88.41428  | 007__1__587 | 7__1990     | \n",
       "| 8           | 1990        | 007         | 1           | 587         |   219.56580 |   144.88023 |   268.23797 |   179.55307 |   163.26509 | ⋯           |   238.10002 |   172.62521 |   157.83982 |   173.48822 |   156.35254 |   192.37304 |   157.26231 |  126.48048  | 007__1__587 | 8__1990     | \n",
       "\n",
       "\n"
      ],
      "text/plain": [
       "  location_id year_id age_group_id sex_id cause_id draw_0      draw_1     \n",
       "1 6           1990    006          1      587       5551.28707  5011.35001\n",
       "2 7           1990    006          1      587         35.05237    39.75230\n",
       "3 8           1990    006          1      587         85.09490    84.98729\n",
       "4 6           1990    007          1      587      15998.24064 11584.10129\n",
       "5 7           1990    007          1      587        113.51948    89.13242\n",
       "6 8           1990    007          1      587        219.56580   144.88023\n",
       "  draw_2      draw_3      draw_4      ⋯ draw_992    draw_993    draw_994   \n",
       "1  5230.27951  5159.20116  4929.13923 ⋯  4998.58775  5237.57671  5637.10652\n",
       "2    22.31576    31.36539    21.13766 ⋯    28.35600    51.33843    35.90585\n",
       "3    72.09881   107.28607    79.32551 ⋯    55.39497    76.87085    51.15128\n",
       "4 11630.16977 12598.39286 10725.20921 ⋯ 10528.19276 11964.77253 11981.37321\n",
       "5   108.93392   124.96546    93.38775 ⋯    84.91567   120.01612    82.66760\n",
       "6   268.23797   179.55307   163.26509 ⋯   238.10002   172.62521   157.83982\n",
       "  draw_995    draw_996    draw_997    draw_998    draw_999  \n",
       "1  5552.47410  5192.48345  4791.53376  5112.86431 4748.82328\n",
       "2    40.73370    40.78756    47.48124    52.00294   45.74394\n",
       "3    58.55369    47.29480    42.98546    57.92655   39.45834\n",
       "4 11900.08308 10474.10660 12320.29350 10956.66726 9727.47450\n",
       "5   119.78845   103.57053   106.14606   109.97217   88.41428\n",
       "6   173.48822   156.35254   192.37304   157.26231  126.48048\n",
       "  age_group_id__sex_id__cause_id location_id__year_id\n",
       "1 006__1__587                    6__1990             \n",
       "2 006__1__587                    7__1990             \n",
       "3 006__1__587                    8__1990             \n",
       "4 007__1__587                    6__1990             \n",
       "5 007__1__587                    7__1990             \n",
       "6 007__1__587                    8__1990             "
      ]
     },
     "metadata": {},
     "output_type": "display_data"
    },
    {
     "data": {
      "text/html": [
       "<table>\n",
       "<thead><tr><th scope=col>location_id</th><th scope=col>year_id</th><th scope=col>age_group_id</th><th scope=col>sex_id</th><th scope=col>cause_id</th><th scope=col>draw_0</th><th scope=col>draw_1</th><th scope=col>draw_2</th><th scope=col>draw_3</th><th scope=col>draw_4</th><th scope=col>⋯</th><th scope=col>draw_992</th><th scope=col>draw_993</th><th scope=col>draw_994</th><th scope=col>draw_995</th><th scope=col>draw_996</th><th scope=col>draw_997</th><th scope=col>draw_998</th><th scope=col>draw_999</th><th scope=col>age_group_id__sex_id__cause_id</th><th scope=col>location_id__year_id</th></tr></thead>\n",
       "<tbody>\n",
       "\t<tr><td>6          </td><td>2016       </td><td>009        </td><td>2          </td><td>495        </td><td>27897.3516 </td><td>20812.0221 </td><td>20069.5434 </td><td>16749.4740 </td><td>16041.2950 </td><td>⋯          </td><td>26350.1724 </td><td>19655.6477 </td><td>28564.5037 </td><td>24999.9394 </td><td>14590.0069 </td><td>21843.9686 </td><td>19873.9897 </td><td>25697.2138 </td><td>009__2__495</td><td>6__2016    </td></tr>\n",
       "\t<tr><td>7          </td><td>2016       </td><td>009        </td><td>2          </td><td>495        </td><td>  481.9214 </td><td>  570.2783 </td><td>  526.6523 </td><td>  322.3324 </td><td>  467.0658 </td><td>⋯          </td><td>  744.0661 </td><td>  507.4481 </td><td>  469.7620 </td><td>  624.8477 </td><td>  434.9746 </td><td>  357.6581 </td><td>  674.6591 </td><td>  485.6137 </td><td>009__2__495</td><td>7__2016    </td></tr>\n",
       "\t<tr><td>8          </td><td>2016       </td><td>009        </td><td>2          </td><td>495        </td><td>  300.1430 </td><td>  310.0502 </td><td>  222.3963 </td><td>  172.2356 </td><td>  203.1352 </td><td>⋯          </td><td>  209.6567 </td><td>  258.2191 </td><td>  218.2689 </td><td>  147.0546 </td><td>  127.4533 </td><td>  275.3076 </td><td>  310.5383 </td><td>  245.7551 </td><td>009__2__495</td><td>8__2016    </td></tr>\n",
       "\t<tr><td>6          </td><td>2016       </td><td>010        </td><td>2          </td><td>495        </td><td>52477.3520 </td><td>36470.9531 </td><td>37612.5839 </td><td>31001.7163 </td><td>28577.4171 </td><td>⋯          </td><td>49563.1946 </td><td>37982.5034 </td><td>55510.9617 </td><td>44398.8307 </td><td>32484.5081 </td><td>37905.9025 </td><td>38919.1104 </td><td>47850.1981 </td><td>010__2__495</td><td>6__2016    </td></tr>\n",
       "\t<tr><td>7          </td><td>2016       </td><td>010        </td><td>2          </td><td>495        </td><td>  642.6258 </td><td>  488.3443 </td><td>  899.0803 </td><td>  429.0197 </td><td>  349.5420 </td><td>⋯          </td><td>  657.8713 </td><td>  670.5887 </td><td>  697.3044 </td><td>  840.3402 </td><td>  688.7687 </td><td>  401.1185 </td><td>  570.9033 </td><td>  857.5402 </td><td>010__2__495</td><td>7__2016    </td></tr>\n",
       "\t<tr><td>8          </td><td>2016       </td><td>010        </td><td>2          </td><td>495        </td><td>  676.3947 </td><td>  360.4272 </td><td>  155.5763 </td><td>  157.4829 </td><td>  183.5319 </td><td>⋯          </td><td>  351.1151 </td><td>  263.3309 </td><td>  386.3082 </td><td>  318.1149 </td><td>  189.6787 </td><td>  194.9978 </td><td>  166.5396 </td><td>  251.0664 </td><td>010__2__495</td><td>8__2016    </td></tr>\n",
       "</tbody>\n",
       "</table>\n"
      ],
      "text/latex": [
       "\\begin{tabular}{r|lllllllllllllllllllllllllllllllllllllllllllllllllllllllllllllllllllllllllllllllllllllllllllllllllllllllllllllllllllllllllllllllllllllllllllllllllllllllllllllllllllllllllllllllllllllllllllllllllllllllllllllllllllllllllllllllllllllllllllllllllllllllllllllllllllllllllllllllllllllllllllllllllllllllllllllllllllllllllllllllllllllllllllllllllllllllllllllllllllllllllllllllllllllllllllllllllllllllllllllllllllllllllllllllllllllllllllllllllllllllllllllllllllllllllllllllllllllllllllllllllllllllllllllllllllllllllllllllllllllllllllllllllllllllllllllllllllllllllllllllllllllllllllllllllllllllllllllllllllllllllllllllllllllllllllllllllllllllllllllllllllllllllllllllllllllllllllllllllllllllllllllllllllllllllllllllllllllllllllllllllllllllllllllllllllllllllllllllllllllllllllllllllllllllllllllllllllllllllllllllllllllllllllllllllllllllllllllllllllllllllllllllllllllllllllllllllllllllllllllllllllllllllllllllllllllllllllllllllllllllllllllllllllllllllllllllllllllllllllllllllllllllllllllllllllllllllllllllllllllllllllllll}\n",
       " location\\_id & year\\_id & age\\_group\\_id & sex\\_id & cause\\_id & draw\\_0 & draw\\_1 & draw\\_2 & draw\\_3 & draw\\_4 & ⋯ & draw\\_992 & draw\\_993 & draw\\_994 & draw\\_995 & draw\\_996 & draw\\_997 & draw\\_998 & draw\\_999 & age\\_group\\_id\\_\\_sex\\_id\\_\\_cause\\_id & location\\_id\\_\\_year\\_id\\\\\n",
       "\\hline\n",
       "\t 6                   & 2016                & 009                 & 2                   & 495                 & 27897.3516          & 20812.0221          & 20069.5434          & 16749.4740          & 16041.2950          & ⋯                   & 26350.1724          & 19655.6477          & 28564.5037          & 24999.9394          & 14590.0069          & 21843.9686          & 19873.9897          & 25697.2138          & 009\\_\\_2\\_\\_495 & 6\\_\\_2016        \\\\\n",
       "\t 7                   & 2016                & 009                 & 2                   & 495                 &   481.9214          &   570.2783          &   526.6523          &   322.3324          &   467.0658          & ⋯                   &   744.0661          &   507.4481          &   469.7620          &   624.8477          &   434.9746          &   357.6581          &   674.6591          &   485.6137          & 009\\_\\_2\\_\\_495 & 7\\_\\_2016        \\\\\n",
       "\t 8                   & 2016                & 009                 & 2                   & 495                 &   300.1430          &   310.0502          &   222.3963          &   172.2356          &   203.1352          & ⋯                   &   209.6567          &   258.2191          &   218.2689          &   147.0546          &   127.4533          &   275.3076          &   310.5383          &   245.7551          & 009\\_\\_2\\_\\_495 & 8\\_\\_2016        \\\\\n",
       "\t 6                   & 2016                & 010                 & 2                   & 495                 & 52477.3520          & 36470.9531          & 37612.5839          & 31001.7163          & 28577.4171          & ⋯                   & 49563.1946          & 37982.5034          & 55510.9617          & 44398.8307          & 32484.5081          & 37905.9025          & 38919.1104          & 47850.1981          & 010\\_\\_2\\_\\_495 & 6\\_\\_2016        \\\\\n",
       "\t 7                   & 2016                & 010                 & 2                   & 495                 &   642.6258          &   488.3443          &   899.0803          &   429.0197          &   349.5420          & ⋯                   &   657.8713          &   670.5887          &   697.3044          &   840.3402          &   688.7687          &   401.1185          &   570.9033          &   857.5402          & 010\\_\\_2\\_\\_495 & 7\\_\\_2016        \\\\\n",
       "\t 8                   & 2016                & 010                 & 2                   & 495                 &   676.3947          &   360.4272          &   155.5763          &   157.4829          &   183.5319          & ⋯                   &   351.1151          &   263.3309          &   386.3082          &   318.1149          &   189.6787          &   194.9978          &   166.5396          &   251.0664          & 010\\_\\_2\\_\\_495 & 8\\_\\_2016        \\\\\n",
       "\\end{tabular}\n"
      ],
      "text/markdown": [
       "\n",
       "location_id | year_id | age_group_id | sex_id | cause_id | draw_0 | draw_1 | draw_2 | draw_3 | draw_4 | ⋯ | draw_992 | draw_993 | draw_994 | draw_995 | draw_996 | draw_997 | draw_998 | draw_999 | age_group_id__sex_id__cause_id | location_id__year_id | \n",
       "|---|---|---|---|---|---|\n",
       "| 6           | 2016        | 009         | 2           | 495         | 27897.3516  | 20812.0221  | 20069.5434  | 16749.4740  | 16041.2950  | ⋯           | 26350.1724  | 19655.6477  | 28564.5037  | 24999.9394  | 14590.0069  | 21843.9686  | 19873.9897  | 25697.2138  | 009__2__495 | 6__2016     | \n",
       "| 7           | 2016        | 009         | 2           | 495         |   481.9214  |   570.2783  |   526.6523  |   322.3324  |   467.0658  | ⋯           |   744.0661  |   507.4481  |   469.7620  |   624.8477  |   434.9746  |   357.6581  |   674.6591  |   485.6137  | 009__2__495 | 7__2016     | \n",
       "| 8           | 2016        | 009         | 2           | 495         |   300.1430  |   310.0502  |   222.3963  |   172.2356  |   203.1352  | ⋯           |   209.6567  |   258.2191  |   218.2689  |   147.0546  |   127.4533  |   275.3076  |   310.5383  |   245.7551  | 009__2__495 | 8__2016     | \n",
       "| 6           | 2016        | 010         | 2           | 495         | 52477.3520  | 36470.9531  | 37612.5839  | 31001.7163  | 28577.4171  | ⋯           | 49563.1946  | 37982.5034  | 55510.9617  | 44398.8307  | 32484.5081  | 37905.9025  | 38919.1104  | 47850.1981  | 010__2__495 | 6__2016     | \n",
       "| 7           | 2016        | 010         | 2           | 495         |   642.6258  |   488.3443  |   899.0803  |   429.0197  |   349.5420  | ⋯           |   657.8713  |   670.5887  |   697.3044  |   840.3402  |   688.7687  |   401.1185  |   570.9033  |   857.5402  | 010__2__495 | 7__2016     | \n",
       "| 8           | 2016        | 010         | 2           | 495         |   676.3947  |   360.4272  |   155.5763  |   157.4829  |   183.5319  | ⋯           |   351.1151  |   263.3309  |   386.3082  |   318.1149  |   189.6787  |   194.9978  |   166.5396  |   251.0664  | 010__2__495 | 8__2016     | \n",
       "\n",
       "\n"
      ],
      "text/plain": [
       "  location_id year_id age_group_id sex_id cause_id draw_0     draw_1    \n",
       "1 6           2016    009          2      495      27897.3516 20812.0221\n",
       "2 7           2016    009          2      495        481.9214   570.2783\n",
       "3 8           2016    009          2      495        300.1430   310.0502\n",
       "4 6           2016    010          2      495      52477.3520 36470.9531\n",
       "5 7           2016    010          2      495        642.6258   488.3443\n",
       "6 8           2016    010          2      495        676.3947   360.4272\n",
       "  draw_2     draw_3     draw_4     ⋯ draw_992   draw_993   draw_994  \n",
       "1 20069.5434 16749.4740 16041.2950 ⋯ 26350.1724 19655.6477 28564.5037\n",
       "2   526.6523   322.3324   467.0658 ⋯   744.0661   507.4481   469.7620\n",
       "3   222.3963   172.2356   203.1352 ⋯   209.6567   258.2191   218.2689\n",
       "4 37612.5839 31001.7163 28577.4171 ⋯ 49563.1946 37982.5034 55510.9617\n",
       "5   899.0803   429.0197   349.5420 ⋯   657.8713   670.5887   697.3044\n",
       "6   155.5763   157.4829   183.5319 ⋯   351.1151   263.3309   386.3082\n",
       "  draw_995   draw_996   draw_997   draw_998   draw_999  \n",
       "1 24999.9394 14590.0069 21843.9686 19873.9897 25697.2138\n",
       "2   624.8477   434.9746   357.6581   674.6591   485.6137\n",
       "3   147.0546   127.4533   275.3076   310.5383   245.7551\n",
       "4 44398.8307 32484.5081 37905.9025 38919.1104 47850.1981\n",
       "5   840.3402   688.7687   401.1185   570.9033   857.5402\n",
       "6   318.1149   189.6787   194.9978   166.5396   251.0664\n",
       "  age_group_id__sex_id__cause_id location_id__year_id\n",
       "1 009__2__495                    6__2016             \n",
       "2 009__2__495                    7__2016             \n",
       "3 009__2__495                    8__2016             \n",
       "4 010__2__495                    6__2016             \n",
       "5 010__2__495                    7__2016             \n",
       "6 010__2__495                    8__2016             "
      ]
     },
     "metadata": {},
     "output_type": "display_data"
    }
   ],
   "source": [
    "head(dalys_diabetes); tail(dalys_ihd)"
   ]
  },
  {
   "cell_type": "code",
   "execution_count": 11,
   "metadata": {
    "collapsed": true
   },
   "outputs": [],
   "source": [
    "## Get the var names to be able to melt later on\n",
    "var_melters <- c(paste(not_corring_over, collapse= \"__\"), paste(corring_over, collapse= \"__\"))"
   ]
  },
  {
   "cell_type": "code",
   "execution_count": 12,
   "metadata": {
    "collapsed": true
   },
   "outputs": [],
   "source": [
    "## Melt the draws and add a column called \"var_name\"\n",
    "dalys_ihd_long <- melt(dalys_ihd, id.vars = c(var_melters), \n",
    "                       measure.vars = paste0(\"draw_\", c(0:999)),\n",
    "                      value.name = \"data\", variable.name = \"draw_num\")\n",
    "\n",
    "dalys_diabetes_long <- melt(dalys_diabetes, id.vars =c(var_melters), \n",
    "                            measure.vars = paste0(\"draw_\", c(0:999)),\n",
    "                            value.name = \"data\", variable.name = \"draw_num\")"
   ]
  },
  {
   "cell_type": "code",
   "execution_count": 13,
   "metadata": {
    "collapsed": true
   },
   "outputs": [],
   "source": [
    "## Bind the dataframes\n",
    "dalys_binded_long <- rbind(dalys_diabetes_long, dalys_ihd_long)"
   ]
  },
  {
   "cell_type": "markdown",
   "metadata": {},
   "source": [
    "## (2) Devising AR correlation matrix for each unique corring variable (age, sex and cause) and then combine... maybe?"
   ]
  },
  {
   "cell_type": "markdown",
   "metadata": {},
   "source": [
    "#### TO DO: Find a way to parse the variables and groups into default kron matrices. I think Maddie's function already does that..?"
   ]
  },
  {
   "cell_type": "code",
   "execution_count": 14,
   "metadata": {
    "collapsed": true
   },
   "outputs": [],
   "source": [
    "## Number of groups\n",
    "age_groups <- unique(dalys_ihd[year_id == 2016, age_group_id])\n",
    "sex_groups <- unique(dalys_ihd[year_id == 2016, sex_id])\n",
    "year_groups <- unique(dalys_ihd[year_id == 2016, year_id])\n",
    "loc_groups <- unique(dalys_ihd[year_id == 2016, location_id])\n",
    "var_groups <- unique(c(\"heart_stuff\", \"diabeetus\"))"
   ]
  },
  {
   "cell_type": "code",
   "execution_count": 15,
   "metadata": {
    "collapsed": true
   },
   "outputs": [],
   "source": [
    "## Matrices within each group first (2x2 matrices do not follow AR processes)\n",
    "age_corr_mat <- 0.75**abs(outer(1:length(age_groups), 1:length(age_groups), \"-\"))\n",
    "colnames(age_corr_mat) = rownames(age_corr_mat) = age_groups\n",
    "\n",
    "sex_corr_mat <- 0.4**abs(outer(1:length(sex_groups), 1:length(sex_groups), \"-\"))\n",
    "colnames(sex_corr_mat) = rownames(sex_corr_mat) = sex_groups\n",
    "\n",
    "var_corr_mat <- 0.6**abs(outer(1:length(var_groups), 1:length(var_groups), \"-\"))\n",
    "colnames(var_corr_mat) = rownames(var_corr_mat) = var_groups"
   ]
  },
  {
   "cell_type": "code",
   "execution_count": 16,
   "metadata": {
    "collapsed": true
   },
   "outputs": [],
   "source": [
    "## Create the ultimate correlation matrix: the Kronecker product (IN THE REVERSE ORDER OF age_sex_var)\n",
    "k1 <- kronecker(var_corr_mat, sex_corr_mat, make.dimnames = T)\n",
    "k2 <- kronecker(k1, age_corr_mat, make.dimnames = T)"
   ]
  },
  {
   "cell_type": "code",
   "execution_count": 17,
   "metadata": {
    "collapsed": false,
    "scrolled": true
   },
   "outputs": [
    {
     "data": {
      "text/plain": [
       "   user  system elapsed \n",
       "  0.849   0.091   1.026 "
      ]
     },
     "metadata": {},
     "output_type": "display_data"
    },
    {
     "name": "stdout",
     "output_type": "stream",
     "text": [
      " num [1:21, 1:20, 1:1000] 10356 13329 11209 6807 6566 ...\n",
      " - attr(*, \"dimnames\")=List of 3\n",
      "  ..$ : chr [1:21] \"6__1990\" \"6__1995\" \"6__2000\" \"6__2005\" ...\n",
      "  ..$ : chr [1:20] \"006__1__495\" \"006__1__587\" \"006__2__495\" \"006__2__587\" ...\n",
      "  ..$ : chr [1:1000] \"draw_0\" \"draw_1\" \"draw_2\" \"draw_3\" ...\n"
     ]
    }
   ],
   "source": [
    "## The time has come: make the data.table into a multi dimensional array!\n",
    "system.time(dalys_array <- reshape2::acast(dalys_binded_long, get(var_melters[1]) ~ get(var_melters[2]) ~ draw_num, \n",
    "                                           value.var = \"data\"))\n",
    "str(dalys_array)"
   ]
  },
  {
   "cell_type": "code",
   "execution_count": 18,
   "metadata": {
    "collapsed": false
   },
   "outputs": [
    {
     "data": {
      "text/plain": [
       "   user  system elapsed \n",
       "  0.655   0.028   0.735 "
      ]
     },
     "metadata": {},
     "output_type": "display_data"
    },
    {
     "name": "stdout",
     "output_type": "stream",
     "text": [
      "Classes ‘data.table’ and 'data.frame':\t420000 obs. of  4 variables:\n",
      " $ location_id__year_id          : Factor w/ 21 levels \"6__1990\",\"6__1995\",..: 1 2 3 4 5 6 7 8 9 10 ...\n",
      " $ age_group_id__sex_id__cause_id: Factor w/ 20 levels \"006__1__495\",..: 1 1 1 1 1 1 1 1 1 1 ...\n",
      " $ draw_num                      : Factor w/ 1000 levels \"draw_0\",\"draw_1\",..: 1 1 1 1 1 1 1 1 1 1 ...\n",
      " $ data                          : num  8120 10103 8308 5012 4740 ...\n",
      " - attr(*, \".internal.selfref\")=<externalptr> \n"
     ]
    }
   ],
   "source": [
    "## Copulate all over my body\n",
    "system.time(dalys_corr <- draw2Dcopula(X = dalys_array, cor_mat = k2, df_return = T))\n",
    "names(dalys_corr) <- colnames(dalys_binded_long)\n",
    "str(dalys_corr)"
   ]
  },
  {
   "cell_type": "markdown",
   "metadata": {},
   "source": [
    "### Splitting the stacked variables"
   ]
  },
  {
   "cell_type": "code",
   "execution_count": 20,
   "metadata": {
    "collapsed": true
   },
   "outputs": [],
   "source": [
    "dalys_correlated <- unstack_df(data = dalys_corr, corr_unstack = corring_over, no_corr_unstack = not_corring_over)"
   ]
  },
  {
   "cell_type": "code",
   "execution_count": 22,
   "metadata": {
    "collapsed": false,
    "scrolled": true
   },
   "outputs": [
    {
     "data": {
      "text/html": [
       "<table>\n",
       "<thead><tr><th scope=col>location_id</th><th scope=col>year_id</th><th scope=col>age_group_id</th><th scope=col>sex_id</th><th scope=col>cause_id</th><th scope=col>draw_num</th><th scope=col>data</th></tr></thead>\n",
       "<tbody>\n",
       "\t<tr><td>6        </td><td>1990     </td><td>6        </td><td>1        </td><td>495      </td><td>draw_0   </td><td> 8119.710</td></tr>\n",
       "\t<tr><td>6        </td><td>1995     </td><td>6        </td><td>1        </td><td>495      </td><td>draw_0   </td><td>10102.812</td></tr>\n",
       "\t<tr><td>6        </td><td>2000     </td><td>6        </td><td>1        </td><td>495      </td><td>draw_0   </td><td> 8307.640</td></tr>\n",
       "\t<tr><td>6        </td><td>2005     </td><td>6        </td><td>1        </td><td>495      </td><td>draw_0   </td><td> 5012.243</td></tr>\n",
       "\t<tr><td>6        </td><td>2006     </td><td>6        </td><td>1        </td><td>495      </td><td>draw_0   </td><td> 4739.611</td></tr>\n",
       "\t<tr><td>6        </td><td>2010     </td><td>6        </td><td>1        </td><td>495      </td><td>draw_0   </td><td> 4789.414</td></tr>\n",
       "</tbody>\n",
       "</table>\n"
      ],
      "text/latex": [
       "\\begin{tabular}{r|lllllll}\n",
       " location\\_id & year\\_id & age\\_group\\_id & sex\\_id & cause\\_id & draw\\_num & data\\\\\n",
       "\\hline\n",
       "\t 6         & 1990      & 6         & 1         & 495       & draw\\_0  &  8119.710\\\\\n",
       "\t 6         & 1995      & 6         & 1         & 495       & draw\\_0  & 10102.812\\\\\n",
       "\t 6         & 2000      & 6         & 1         & 495       & draw\\_0  &  8307.640\\\\\n",
       "\t 6         & 2005      & 6         & 1         & 495       & draw\\_0  &  5012.243\\\\\n",
       "\t 6         & 2006      & 6         & 1         & 495       & draw\\_0  &  4739.611\\\\\n",
       "\t 6         & 2010      & 6         & 1         & 495       & draw\\_0  &  4789.414\\\\\n",
       "\\end{tabular}\n"
      ],
      "text/markdown": [
       "\n",
       "location_id | year_id | age_group_id | sex_id | cause_id | draw_num | data | \n",
       "|---|---|---|---|---|---|\n",
       "| 6         | 1990      | 6         | 1         | 495       | draw_0    |  8119.710 | \n",
       "| 6         | 1995      | 6         | 1         | 495       | draw_0    | 10102.812 | \n",
       "| 6         | 2000      | 6         | 1         | 495       | draw_0    |  8307.640 | \n",
       "| 6         | 2005      | 6         | 1         | 495       | draw_0    |  5012.243 | \n",
       "| 6         | 2006      | 6         | 1         | 495       | draw_0    |  4739.611 | \n",
       "| 6         | 2010      | 6         | 1         | 495       | draw_0    |  4789.414 | \n",
       "\n",
       "\n"
      ],
      "text/plain": [
       "  location_id year_id age_group_id sex_id cause_id draw_num data     \n",
       "1 6           1990    6            1      495      draw_0    8119.710\n",
       "2 6           1995    6            1      495      draw_0   10102.812\n",
       "3 6           2000    6            1      495      draw_0    8307.640\n",
       "4 6           2005    6            1      495      draw_0    5012.243\n",
       "5 6           2006    6            1      495      draw_0    4739.611\n",
       "6 6           2010    6            1      495      draw_0    4789.414"
      ]
     },
     "metadata": {},
     "output_type": "display_data"
    }
   ],
   "source": [
    "head(dalys_correlated)"
   ]
  },
  {
   "cell_type": "code",
   "execution_count": 24,
   "metadata": {
    "collapsed": false
   },
   "outputs": [
    {
     "name": "stderr",
     "output_type": "stream",
     "text": [
      "Loading required package: rhdf5\n"
     ]
    }
   ],
   "source": [
    "## Save out for viz stuff\n",
    "setwd(\"/home/j/temp/sadatnfs\"); "
   ]
  },
  {
   "cell_type": "code",
   "execution_count": 39,
   "metadata": {
    "collapsed": false
   },
   "outputs": [
    {
     "data": {
      "text/html": [
       "TRUE"
      ],
      "text/latex": [
       "TRUE"
      ],
      "text/markdown": [
       "TRUE"
      ],
      "text/plain": [
       "[1] TRUE"
      ]
     },
     "metadata": {},
     "output_type": "display_data"
    }
   ],
   "source": [
    "# Save hdf5\n",
    "require(rhdf5)\n",
    "h5createFile(file = \"sample_corr.h5\")\n",
    "h5createGroup(\"sample_corr.h5\", \"sample_dalys\")\n",
    "h5write(dalys_binded_long, \"sample_corr.h5\", name = \"sample_dalys/uncorrelated\")\n",
    "h5write(dalys_correlated, \"sample_corr.h5\", name = \"sample_dalys/correlated\")\n",
    "H5close()"
   ]
  },
  {
   "cell_type": "code",
   "execution_count": 56,
   "metadata": {
    "collapsed": true
   },
   "outputs": [],
   "source": [
    "# Save Rdata\n",
    "save(list = c(\"dalys_binded_long\", \"dalys_correlated\"), file = \"sample_corr.Rdata\")"
   ]
  }
 ],
 "metadata": {
  "kernelspec": {
   "display_name": "R 3.4.1",
   "language": "R",
   "name": "ir341"
  },
  "language_info": {
   "codemirror_mode": "r",
   "file_extension": ".r",
   "mimetype": "text/x-r-source",
   "name": "R",
   "pygments_lexer": "r",
   "version": "3.4.1"
  }
 },
 "nbformat": 4,
 "nbformat_minor": 1
}
