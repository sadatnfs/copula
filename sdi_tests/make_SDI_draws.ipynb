{
 "cells": [
  {
   "cell_type": "code",
   "execution_count": 3,
   "metadata": {
    "collapsed": false,
    "scrolled": true
   },
   "outputs": [
    {
     "name": "stdout",
     "output_type": "stream",
     "text": [
      "Seaborn is busted\n"
     ]
    },
    {
     "name": "stderr",
     "output_type": "stream",
     "text": [
      "/usr/local/codem/public_use_anaconda/lib/python2.7/site-packages/matplotlib/__init__.py:1357: UserWarning:  This call to matplotlib.use() has no effect\n",
      "because the backend has already been chosen;\n",
      "matplotlib.use() must be called *before* pylab, matplotlib.pyplot,\n",
      "or matplotlib.backends is imported for the first time.\n",
      "\n",
      "  warnings.warn(_use_error_msg)\n"
     ]
    },
    {
     "name": "stdout",
     "output_type": "stream",
     "text": [
      "Seaborn is busted\n",
      "Import Error: No module named ggplot. You will not be able to use this package's functionality, but the rest of fbd should work\n",
      "Import Error: No module named pystan. You will not be able to use this package's functionality, but the rest of fbd should work\n",
      "Import Error: No module named ggplot. You will not be able to use this package's functionality, but the rest of fbd should work\n",
      "Seaborn is busted\n",
      "PyPDF2 is busted\n"
     ]
    },
    {
     "ename": "ImportError",
     "evalue": "No module named seaborn",
     "output_type": "error",
     "traceback": [
      "\u001b[0;31m---------------------------------------------------------------------------\u001b[0m",
      "\u001b[0;31mImportError\u001b[0m                               Traceback (most recent call last)",
      "\u001b[0;32m<ipython-input-3-c852b1c57748>\u001b[0m in \u001b[0;36m<module>\u001b[0;34m()\u001b[0m\n\u001b[1;32m      3\u001b[0m \u001b[0;32mimport\u001b[0m \u001b[0mgetpass\u001b[0m\u001b[0;34m,\u001b[0m \u001b[0msys\u001b[0m\u001b[0;34m\u001b[0m\u001b[0m\n\u001b[1;32m      4\u001b[0m \u001b[0msys\u001b[0m\u001b[0;34m.\u001b[0m\u001b[0mpath\u001b[0m\u001b[0;34m.\u001b[0m\u001b[0mappend\u001b[0m\u001b[0;34m(\u001b[0m\u001b[0;34m'/homes/sadatnfs/notebooks'\u001b[0m\u001b[0;34m)\u001b[0m\u001b[0;34m\u001b[0m\u001b[0m\n\u001b[0;32m----> 5\u001b[0;31m \u001b[0;32mimport\u001b[0m \u001b[0mfbd\u001b[0m\u001b[0;34m\u001b[0m\u001b[0m\n\u001b[0m\u001b[1;32m      6\u001b[0m \u001b[0;32mimport\u001b[0m \u001b[0mPyMB\u001b[0m\u001b[0;34m\u001b[0m\u001b[0m\n\u001b[1;32m      7\u001b[0m \u001b[0;32mfrom\u001b[0m \u001b[0mPyMB\u001b[0m \u001b[0;32mimport\u001b[0m \u001b[0mmagic\u001b[0m\u001b[0;34m\u001b[0m\u001b[0m\n",
      "\u001b[0;32m/homes/sadatnfs/notebooks/fbd/__init__.pyc\u001b[0m in \u001b[0;36m<module>\u001b[0;34m()\u001b[0m\n\u001b[1;32m     14\u001b[0m \u001b[0;32mimport\u001b[0m \u001b[0mstan\u001b[0m\u001b[0;34m\u001b[0m\u001b[0m\n\u001b[1;32m     15\u001b[0m \u001b[0;32mimport\u001b[0m \u001b[0mMAGIK\u001b[0m\u001b[0;34m\u001b[0m\u001b[0m\n\u001b[0;32m---> 16\u001b[0;31m \u001b[0;32mimport\u001b[0m \u001b[0mplots\u001b[0m\u001b[0;34m\u001b[0m\u001b[0m\n\u001b[0m\u001b[1;32m     17\u001b[0m \u001b[0;32mimport\u001b[0m \u001b[0msev\u001b[0m\u001b[0;34m\u001b[0m\u001b[0m\n\u001b[1;32m     18\u001b[0m \u001b[0;32mimport\u001b[0m \u001b[0mspark\u001b[0m\u001b[0;34m\u001b[0m\u001b[0m\n",
      "\u001b[0;32m/homes/sadatnfs/notebooks/fbd/plots/__init__.py\u001b[0m in \u001b[0;36m<module>\u001b[0;34m()\u001b[0m\n\u001b[1;32m      1\u001b[0m \u001b[0;32mfrom\u001b[0m \u001b[0mbasic_plots\u001b[0m \u001b[0;32mimport\u001b[0m \u001b[0;34m*\u001b[0m\u001b[0;34m\u001b[0m\u001b[0m\n\u001b[1;32m      2\u001b[0m \u001b[0;32mfrom\u001b[0m \u001b[0mall_agg_plots\u001b[0m \u001b[0;32mimport\u001b[0m \u001b[0;34m*\u001b[0m\u001b[0;34m\u001b[0m\u001b[0m\n\u001b[0;32m----> 3\u001b[0;31m \u001b[0;32mimport\u001b[0m \u001b[0mle_decomp\u001b[0m\u001b[0;34m\u001b[0m\u001b[0m\n\u001b[0m\u001b[1;32m      4\u001b[0m \u001b[0;32mfrom\u001b[0m \u001b[0mex_graph\u001b[0m \u001b[0;32mimport\u001b[0m \u001b[0;34m*\u001b[0m\u001b[0;34m\u001b[0m\u001b[0m\n\u001b[1;32m      5\u001b[0m \u001b[0;32mfrom\u001b[0m \u001b[0mage_time_plot\u001b[0m \u001b[0;32mimport\u001b[0m \u001b[0;34m*\u001b[0m\u001b[0;34m\u001b[0m\u001b[0m\n",
      "\u001b[0;32m/homes/sadatnfs/notebooks/fbd/plots/le_decomp.py\u001b[0m in \u001b[0;36m<module>\u001b[0;34m()\u001b[0m\n\u001b[1;32m     10\u001b[0m \u001b[0;32mimport\u001b[0m \u001b[0mmatplotlib\u001b[0m\u001b[0;34m.\u001b[0m\u001b[0mpyplot\u001b[0m \u001b[0;32mas\u001b[0m \u001b[0mplt\u001b[0m\u001b[0;34m\u001b[0m\u001b[0m\n\u001b[1;32m     11\u001b[0m \u001b[0;32mfrom\u001b[0m \u001b[0mmatplotlib\u001b[0m\u001b[0;34m.\u001b[0m\u001b[0mbackends\u001b[0m\u001b[0;34m.\u001b[0m\u001b[0mbackend_pdf\u001b[0m \u001b[0;32mimport\u001b[0m \u001b[0mPdfPages\u001b[0m\u001b[0;34m\u001b[0m\u001b[0m\n\u001b[0;32m---> 12\u001b[0;31m \u001b[0;32mimport\u001b[0m \u001b[0mseaborn\u001b[0m \u001b[0;32mas\u001b[0m \u001b[0msns\u001b[0m\u001b[0;34m\u001b[0m\u001b[0m\n\u001b[0m\u001b[1;32m     13\u001b[0m \u001b[0;32mimport\u001b[0m \u001b[0msqlalchemy\u001b[0m \u001b[0;32mas\u001b[0m \u001b[0msql\u001b[0m\u001b[0;34m\u001b[0m\u001b[0m\n\u001b[1;32m     14\u001b[0m \u001b[0;32mimport\u001b[0m \u001b[0mos\u001b[0m\u001b[0;34m\u001b[0m\u001b[0m\n",
      "\u001b[0;31mImportError\u001b[0m: No module named seaborn"
     ]
    }
   ],
   "source": [
    "#Set-Up Environment\n",
    "#Import Needed Libraries\n",
    "import getpass, sys\n",
    "sys.path.append('/homes/sadatnfs/notebooks')\n",
    "import fbd\n",
    "import PyMB\n",
    "from PyMB import magic\n",
    "import numpy as np\n",
    "import pandas as pd\n",
    "import scipy as sc\n",
    "import sqlalchemy as sql\n",
    "import pdb\n",
    "import matplotlib \n",
    "from matplotlib import pyplot as plt\n",
    "import seaborn as sns\n",
    "import multiprocessing as mp\n",
    "from ggplot import *\n",
    "from matplotlib.backends.backend_pdf import PdfPages\n",
    "import os\n",
    "import re\n",
    "import time\n",
    "idx =pd.IndexSlice"
   ]
  },
  {
   "cell_type": "code",
   "execution_count": 10,
   "metadata": {
    "collapsed": true
   },
   "outputs": [],
   "source": [
    "import pandas as pd\n",
    "import numpy as np"
   ]
  },
  {
   "cell_type": "code",
   "execution_count": 6,
   "metadata": {
    "collapsed": true
   },
   "outputs": [],
   "source": [
    "#Set min year \n",
    "min_year = 1980"
   ]
  },
  {
   "cell_type": "markdown",
   "metadata": {},
   "source": [
    "### Load LDI"
   ]
  },
  {
   "cell_type": "code",
   "execution_count": 10,
   "metadata": {
    "collapsed": false,
    "scrolled": true
   },
   "outputs": [
    {
     "ename": "KeyboardInterrupt",
     "evalue": "",
     "output_type": "error",
     "traceback": [
      "\u001b[1;31m---------------------------------------------------------------------------\u001b[0m",
      "\u001b[1;31mKeyboardInterrupt\u001b[0m                         Traceback (most recent call last)",
      "\u001b[1;32m<ipython-input-10-1d31eefef6e9>\u001b[0m in \u001b[0;36m<module>\u001b[1;34m()\u001b[0m\n\u001b[0;32m      2\u001b[0m \u001b[1;31m#ldi = pd.read_hdf(fbd.uploaders.get_directory('ldi_per_capita'), key = 'data')\u001b[0m\u001b[1;33m\u001b[0m\u001b[1;33m\u001b[0m\u001b[0m\n\u001b[0;32m      3\u001b[0m \u001b[0mldi\u001b[0m\u001b[1;33m[\u001b[0m\u001b[1;34m'LDIpc_0'\u001b[0m\u001b[1;33m]\u001b[0m \u001b[1;33m=\u001b[0m \u001b[0mldi\u001b[0m\u001b[1;33m[\u001b[0m\u001b[1;34m'LDIpc_1000'\u001b[0m\u001b[1;33m]\u001b[0m\u001b[1;33m\u001b[0m\u001b[0m\n\u001b[1;32m----> 4\u001b[1;33m \u001b[0mldi\u001b[0m\u001b[1;33m[\u001b[0m\u001b[1;33m[\u001b[0m\u001b[1;34m'ldipc_{}'\u001b[0m\u001b[1;33m.\u001b[0m\u001b[0mformat\u001b[0m\u001b[1;33m(\u001b[0m\u001b[0mi\u001b[0m\u001b[1;33m)\u001b[0m \u001b[1;32mfor\u001b[0m \u001b[0mi\u001b[0m \u001b[1;32min\u001b[0m \u001b[0mrange\u001b[0m\u001b[1;33m(\u001b[0m\u001b[1;36m1000\u001b[0m\u001b[1;33m)\u001b[0m\u001b[1;33m]\u001b[0m\u001b[1;33m]\u001b[0m \u001b[1;33m=\u001b[0m \u001b[0mldi\u001b[0m\u001b[1;33m[\u001b[0m\u001b[1;33m[\u001b[0m\u001b[1;34m'LDIpc_{}'\u001b[0m\u001b[1;33m.\u001b[0m\u001b[0mformat\u001b[0m\u001b[1;33m(\u001b[0m\u001b[0mi\u001b[0m\u001b[1;33m)\u001b[0m \u001b[1;32mfor\u001b[0m \u001b[0mi\u001b[0m \u001b[1;32min\u001b[0m \u001b[0mrange\u001b[0m\u001b[1;33m(\u001b[0m\u001b[1;36m1000\u001b[0m\u001b[1;33m)\u001b[0m\u001b[1;33m]\u001b[0m\u001b[1;33m]\u001b[0m\u001b[1;33m\u001b[0m\u001b[0m\n\u001b[0m\u001b[0;32m      5\u001b[0m \u001b[0mldi\u001b[0m \u001b[1;33m=\u001b[0m \u001b[0mldi\u001b[0m\u001b[1;33m[\u001b[0m\u001b[1;33m[\u001b[0m\u001b[1;34m'ldipc_{}'\u001b[0m\u001b[1;33m.\u001b[0m\u001b[0mformat\u001b[0m\u001b[1;33m(\u001b[0m\u001b[0mi\u001b[0m\u001b[1;33m)\u001b[0m \u001b[1;32mfor\u001b[0m \u001b[0mi\u001b[0m \u001b[1;32min\u001b[0m \u001b[0mrange\u001b[0m\u001b[1;33m(\u001b[0m\u001b[1;36m1000\u001b[0m\u001b[1;33m)\u001b[0m\u001b[1;33m]\u001b[0m \u001b[1;33m+\u001b[0m \u001b[1;33m[\u001b[0m\u001b[1;34m'location_id'\u001b[0m\u001b[1;33m,\u001b[0m \u001b[1;34m'year_id'\u001b[0m\u001b[1;33m]\u001b[0m\u001b[1;33m]\u001b[0m\u001b[1;33m\u001b[0m\u001b[0m\n\u001b[0;32m      6\u001b[0m \u001b[1;31m#Cap LDI draws at $60,000\u001b[0m\u001b[1;33m\u001b[0m\u001b[1;33m\u001b[0m\u001b[0m\n",
      "\u001b[1;32m/usr/local/software/anaconda/lib/python2.7/site-packages/pandas/core/frame.py\u001b[0m in \u001b[0;36m__setitem__\u001b[1;34m(self, key, value)\u001b[0m\n\u001b[0;32m   2350\u001b[0m \u001b[1;33m\u001b[0m\u001b[0m\n\u001b[0;32m   2351\u001b[0m         \u001b[1;32mif\u001b[0m \u001b[0misinstance\u001b[0m\u001b[1;33m(\u001b[0m\u001b[0mkey\u001b[0m\u001b[1;33m,\u001b[0m \u001b[1;33m(\u001b[0m\u001b[0mSeries\u001b[0m\u001b[1;33m,\u001b[0m \u001b[0mnp\u001b[0m\u001b[1;33m.\u001b[0m\u001b[0mndarray\u001b[0m\u001b[1;33m,\u001b[0m \u001b[0mlist\u001b[0m\u001b[1;33m,\u001b[0m \u001b[0mIndex\u001b[0m\u001b[1;33m)\u001b[0m\u001b[1;33m)\u001b[0m\u001b[1;33m:\u001b[0m\u001b[1;33m\u001b[0m\u001b[0m\n\u001b[1;32m-> 2352\u001b[1;33m             \u001b[0mself\u001b[0m\u001b[1;33m.\u001b[0m\u001b[0m_setitem_array\u001b[0m\u001b[1;33m(\u001b[0m\u001b[0mkey\u001b[0m\u001b[1;33m,\u001b[0m \u001b[0mvalue\u001b[0m\u001b[1;33m)\u001b[0m\u001b[1;33m\u001b[0m\u001b[0m\n\u001b[0m\u001b[0;32m   2353\u001b[0m         \u001b[1;32melif\u001b[0m \u001b[0misinstance\u001b[0m\u001b[1;33m(\u001b[0m\u001b[0mkey\u001b[0m\u001b[1;33m,\u001b[0m \u001b[0mDataFrame\u001b[0m\u001b[1;33m)\u001b[0m\u001b[1;33m:\u001b[0m\u001b[1;33m\u001b[0m\u001b[0m\n\u001b[0;32m   2354\u001b[0m             \u001b[0mself\u001b[0m\u001b[1;33m.\u001b[0m\u001b[0m_setitem_frame\u001b[0m\u001b[1;33m(\u001b[0m\u001b[0mkey\u001b[0m\u001b[1;33m,\u001b[0m \u001b[0mvalue\u001b[0m\u001b[1;33m)\u001b[0m\u001b[1;33m\u001b[0m\u001b[0m\n",
      "\u001b[1;32m/usr/local/software/anaconda/lib/python2.7/site-packages/pandas/core/frame.py\u001b[0m in \u001b[0;36m_setitem_array\u001b[1;34m(self, key, value)\u001b[0m\n\u001b[0;32m   2376\u001b[0m                     \u001b[1;32mraise\u001b[0m \u001b[0mValueError\u001b[0m\u001b[1;33m(\u001b[0m\u001b[1;34m'Columns must be same length as key'\u001b[0m\u001b[1;33m)\u001b[0m\u001b[1;33m\u001b[0m\u001b[0m\n\u001b[0;32m   2377\u001b[0m                 \u001b[1;32mfor\u001b[0m \u001b[0mk1\u001b[0m\u001b[1;33m,\u001b[0m \u001b[0mk2\u001b[0m \u001b[1;32min\u001b[0m \u001b[0mzip\u001b[0m\u001b[1;33m(\u001b[0m\u001b[0mkey\u001b[0m\u001b[1;33m,\u001b[0m \u001b[0mvalue\u001b[0m\u001b[1;33m.\u001b[0m\u001b[0mcolumns\u001b[0m\u001b[1;33m)\u001b[0m\u001b[1;33m:\u001b[0m\u001b[1;33m\u001b[0m\u001b[0m\n\u001b[1;32m-> 2378\u001b[1;33m                     \u001b[0mself\u001b[0m\u001b[1;33m[\u001b[0m\u001b[0mk1\u001b[0m\u001b[1;33m]\u001b[0m \u001b[1;33m=\u001b[0m \u001b[0mvalue\u001b[0m\u001b[1;33m[\u001b[0m\u001b[0mk2\u001b[0m\u001b[1;33m]\u001b[0m\u001b[1;33m\u001b[0m\u001b[0m\n\u001b[0m\u001b[0;32m   2379\u001b[0m             \u001b[1;32melse\u001b[0m\u001b[1;33m:\u001b[0m\u001b[1;33m\u001b[0m\u001b[0m\n\u001b[0;32m   2380\u001b[0m                 \u001b[0mindexer\u001b[0m \u001b[1;33m=\u001b[0m \u001b[0mself\u001b[0m\u001b[1;33m.\u001b[0m\u001b[0mix\u001b[0m\u001b[1;33m.\u001b[0m\u001b[0m_convert_to_indexer\u001b[0m\u001b[1;33m(\u001b[0m\u001b[0mkey\u001b[0m\u001b[1;33m,\u001b[0m \u001b[0maxis\u001b[0m\u001b[1;33m=\u001b[0m\u001b[1;36m1\u001b[0m\u001b[1;33m)\u001b[0m\u001b[1;33m\u001b[0m\u001b[0m\n",
      "\u001b[1;32m/usr/local/software/anaconda/lib/python2.7/site-packages/pandas/core/frame.py\u001b[0m in \u001b[0;36m__setitem__\u001b[1;34m(self, key, value)\u001b[0m\n\u001b[0;32m   2355\u001b[0m         \u001b[1;32melse\u001b[0m\u001b[1;33m:\u001b[0m\u001b[1;33m\u001b[0m\u001b[0m\n\u001b[0;32m   2356\u001b[0m             \u001b[1;31m# set column\u001b[0m\u001b[1;33m\u001b[0m\u001b[1;33m\u001b[0m\u001b[0m\n\u001b[1;32m-> 2357\u001b[1;33m             \u001b[0mself\u001b[0m\u001b[1;33m.\u001b[0m\u001b[0m_set_item\u001b[0m\u001b[1;33m(\u001b[0m\u001b[0mkey\u001b[0m\u001b[1;33m,\u001b[0m \u001b[0mvalue\u001b[0m\u001b[1;33m)\u001b[0m\u001b[1;33m\u001b[0m\u001b[0m\n\u001b[0m\u001b[0;32m   2358\u001b[0m \u001b[1;33m\u001b[0m\u001b[0m\n\u001b[0;32m   2359\u001b[0m     \u001b[1;32mdef\u001b[0m \u001b[0m_setitem_slice\u001b[0m\u001b[1;33m(\u001b[0m\u001b[0mself\u001b[0m\u001b[1;33m,\u001b[0m \u001b[0mkey\u001b[0m\u001b[1;33m,\u001b[0m \u001b[0mvalue\u001b[0m\u001b[1;33m)\u001b[0m\u001b[1;33m:\u001b[0m\u001b[1;33m\u001b[0m\u001b[0m\n",
      "\u001b[1;32m/usr/local/software/anaconda/lib/python2.7/site-packages/pandas/core/frame.py\u001b[0m in \u001b[0;36m_set_item\u001b[1;34m(self, key, value)\u001b[0m\n\u001b[0;32m   2422\u001b[0m         \u001b[0mself\u001b[0m\u001b[1;33m.\u001b[0m\u001b[0m_ensure_valid_index\u001b[0m\u001b[1;33m(\u001b[0m\u001b[0mvalue\u001b[0m\u001b[1;33m)\u001b[0m\u001b[1;33m\u001b[0m\u001b[0m\n\u001b[0;32m   2423\u001b[0m         \u001b[0mvalue\u001b[0m \u001b[1;33m=\u001b[0m \u001b[0mself\u001b[0m\u001b[1;33m.\u001b[0m\u001b[0m_sanitize_column\u001b[0m\u001b[1;33m(\u001b[0m\u001b[0mkey\u001b[0m\u001b[1;33m,\u001b[0m \u001b[0mvalue\u001b[0m\u001b[1;33m)\u001b[0m\u001b[1;33m\u001b[0m\u001b[0m\n\u001b[1;32m-> 2424\u001b[1;33m         \u001b[0mNDFrame\u001b[0m\u001b[1;33m.\u001b[0m\u001b[0m_set_item\u001b[0m\u001b[1;33m(\u001b[0m\u001b[0mself\u001b[0m\u001b[1;33m,\u001b[0m \u001b[0mkey\u001b[0m\u001b[1;33m,\u001b[0m \u001b[0mvalue\u001b[0m\u001b[1;33m)\u001b[0m\u001b[1;33m\u001b[0m\u001b[0m\n\u001b[0m\u001b[0;32m   2425\u001b[0m \u001b[1;33m\u001b[0m\u001b[0m\n\u001b[0;32m   2426\u001b[0m         \u001b[1;31m# check if we are modifying a copy\u001b[0m\u001b[1;33m\u001b[0m\u001b[1;33m\u001b[0m\u001b[0m\n",
      "\u001b[1;32m/usr/local/software/anaconda/lib/python2.7/site-packages/pandas/core/generic.py\u001b[0m in \u001b[0;36m_set_item\u001b[1;34m(self, key, value)\u001b[0m\n\u001b[0;32m   1462\u001b[0m \u001b[1;33m\u001b[0m\u001b[0m\n\u001b[0;32m   1463\u001b[0m     \u001b[1;32mdef\u001b[0m \u001b[0m_set_item\u001b[0m\u001b[1;33m(\u001b[0m\u001b[0mself\u001b[0m\u001b[1;33m,\u001b[0m \u001b[0mkey\u001b[0m\u001b[1;33m,\u001b[0m \u001b[0mvalue\u001b[0m\u001b[1;33m)\u001b[0m\u001b[1;33m:\u001b[0m\u001b[1;33m\u001b[0m\u001b[0m\n\u001b[1;32m-> 1464\u001b[1;33m         \u001b[0mself\u001b[0m\u001b[1;33m.\u001b[0m\u001b[0m_data\u001b[0m\u001b[1;33m.\u001b[0m\u001b[0mset\u001b[0m\u001b[1;33m(\u001b[0m\u001b[0mkey\u001b[0m\u001b[1;33m,\u001b[0m \u001b[0mvalue\u001b[0m\u001b[1;33m)\u001b[0m\u001b[1;33m\u001b[0m\u001b[0m\n\u001b[0m\u001b[0;32m   1465\u001b[0m         \u001b[0mself\u001b[0m\u001b[1;33m.\u001b[0m\u001b[0m_clear_item_cache\u001b[0m\u001b[1;33m(\u001b[0m\u001b[1;33m)\u001b[0m\u001b[1;33m\u001b[0m\u001b[0m\n\u001b[0;32m   1466\u001b[0m \u001b[1;33m\u001b[0m\u001b[0m\n",
      "\u001b[1;32m/usr/local/software/anaconda/lib/python2.7/site-packages/pandas/core/internals.py\u001b[0m in \u001b[0;36mset\u001b[1;34m(self, item, value, check)\u001b[0m\n\u001b[0;32m   3416\u001b[0m         \u001b[1;32mexcept\u001b[0m \u001b[0mKeyError\u001b[0m\u001b[1;33m:\u001b[0m\u001b[1;33m\u001b[0m\u001b[0m\n\u001b[0;32m   3417\u001b[0m             \u001b[1;31m# This item wasn't present, just insert at end\u001b[0m\u001b[1;33m\u001b[0m\u001b[1;33m\u001b[0m\u001b[0m\n\u001b[1;32m-> 3418\u001b[1;33m             \u001b[0mself\u001b[0m\u001b[1;33m.\u001b[0m\u001b[0minsert\u001b[0m\u001b[1;33m(\u001b[0m\u001b[0mlen\u001b[0m\u001b[1;33m(\u001b[0m\u001b[0mself\u001b[0m\u001b[1;33m.\u001b[0m\u001b[0mitems\u001b[0m\u001b[1;33m)\u001b[0m\u001b[1;33m,\u001b[0m \u001b[0mitem\u001b[0m\u001b[1;33m,\u001b[0m \u001b[0mvalue\u001b[0m\u001b[1;33m)\u001b[0m\u001b[1;33m\u001b[0m\u001b[0m\n\u001b[0m\u001b[0;32m   3419\u001b[0m             \u001b[1;32mreturn\u001b[0m\u001b[1;33m\u001b[0m\u001b[0m\n\u001b[0;32m   3420\u001b[0m \u001b[1;33m\u001b[0m\u001b[0m\n",
      "\u001b[1;32m/usr/local/software/anaconda/lib/python2.7/site-packages/pandas/core/internals.py\u001b[0m in \u001b[0;36minsert\u001b[1;34m(self, loc, item, value, allow_duplicates)\u001b[0m\n\u001b[0;32m   3544\u001b[0m \u001b[1;33m\u001b[0m\u001b[0m\n\u001b[0;32m   3545\u001b[0m         \u001b[1;32mif\u001b[0m \u001b[0mlen\u001b[0m\u001b[1;33m(\u001b[0m\u001b[0mself\u001b[0m\u001b[1;33m.\u001b[0m\u001b[0mblocks\u001b[0m\u001b[1;33m)\u001b[0m \u001b[1;33m>\u001b[0m \u001b[1;36m100\u001b[0m\u001b[1;33m:\u001b[0m\u001b[1;33m\u001b[0m\u001b[0m\n\u001b[1;32m-> 3546\u001b[1;33m             \u001b[0mself\u001b[0m\u001b[1;33m.\u001b[0m\u001b[0m_consolidate_inplace\u001b[0m\u001b[1;33m(\u001b[0m\u001b[1;33m)\u001b[0m\u001b[1;33m\u001b[0m\u001b[0m\n\u001b[0m\u001b[0;32m   3547\u001b[0m \u001b[1;33m\u001b[0m\u001b[0m\n\u001b[0;32m   3548\u001b[0m     def reindex_axis(self, new_index, axis, method=None, limit=None,\n",
      "\u001b[1;32m/usr/local/software/anaconda/lib/python2.7/site-packages/pandas/core/internals.py\u001b[0m in \u001b[0;36m_consolidate_inplace\u001b[1;34m(self)\u001b[0m\n\u001b[0;32m   3276\u001b[0m     \u001b[1;32mdef\u001b[0m \u001b[0m_consolidate_inplace\u001b[0m\u001b[1;33m(\u001b[0m\u001b[0mself\u001b[0m\u001b[1;33m)\u001b[0m\u001b[1;33m:\u001b[0m\u001b[1;33m\u001b[0m\u001b[0m\n\u001b[0;32m   3277\u001b[0m         \u001b[1;32mif\u001b[0m \u001b[1;32mnot\u001b[0m \u001b[0mself\u001b[0m\u001b[1;33m.\u001b[0m\u001b[0mis_consolidated\u001b[0m\u001b[1;33m(\u001b[0m\u001b[1;33m)\u001b[0m\u001b[1;33m:\u001b[0m\u001b[1;33m\u001b[0m\u001b[0m\n\u001b[1;32m-> 3278\u001b[1;33m             \u001b[0mself\u001b[0m\u001b[1;33m.\u001b[0m\u001b[0mblocks\u001b[0m \u001b[1;33m=\u001b[0m \u001b[0mtuple\u001b[0m\u001b[1;33m(\u001b[0m\u001b[0m_consolidate\u001b[0m\u001b[1;33m(\u001b[0m\u001b[0mself\u001b[0m\u001b[1;33m.\u001b[0m\u001b[0mblocks\u001b[0m\u001b[1;33m)\u001b[0m\u001b[1;33m)\u001b[0m\u001b[1;33m\u001b[0m\u001b[0m\n\u001b[0m\u001b[0;32m   3279\u001b[0m             \u001b[0mself\u001b[0m\u001b[1;33m.\u001b[0m\u001b[0m_is_consolidated\u001b[0m \u001b[1;33m=\u001b[0m \u001b[0mTrue\u001b[0m\u001b[1;33m\u001b[0m\u001b[0m\n\u001b[0;32m   3280\u001b[0m             \u001b[0mself\u001b[0m\u001b[1;33m.\u001b[0m\u001b[0m_known_consolidated\u001b[0m \u001b[1;33m=\u001b[0m \u001b[0mTrue\u001b[0m\u001b[1;33m\u001b[0m\u001b[0m\n",
      "\u001b[1;32m/usr/local/software/anaconda/lib/python2.7/site-packages/pandas/core/internals.py\u001b[0m in \u001b[0;36m_consolidate\u001b[1;34m(blocks)\u001b[0m\n\u001b[0;32m   4267\u001b[0m     \u001b[1;32mfor\u001b[0m \u001b[1;33m(\u001b[0m\u001b[0m_can_consolidate\u001b[0m\u001b[1;33m,\u001b[0m \u001b[0mdtype\u001b[0m\u001b[1;33m)\u001b[0m\u001b[1;33m,\u001b[0m \u001b[0mgroup_blocks\u001b[0m \u001b[1;32min\u001b[0m \u001b[0mgrouper\u001b[0m\u001b[1;33m:\u001b[0m\u001b[1;33m\u001b[0m\u001b[0m\n\u001b[0;32m   4268\u001b[0m         merged_blocks = _merge_blocks(list(group_blocks), dtype=dtype,\n\u001b[1;32m-> 4269\u001b[1;33m                                       _can_consolidate=_can_consolidate)\n\u001b[0m\u001b[0;32m   4270\u001b[0m         \u001b[0mnew_blocks\u001b[0m \u001b[1;33m=\u001b[0m \u001b[0m_extend_blocks\u001b[0m\u001b[1;33m(\u001b[0m\u001b[0mmerged_blocks\u001b[0m\u001b[1;33m,\u001b[0m \u001b[0mnew_blocks\u001b[0m\u001b[1;33m)\u001b[0m\u001b[1;33m\u001b[0m\u001b[0m\n\u001b[0;32m   4271\u001b[0m     \u001b[1;32mreturn\u001b[0m \u001b[0mnew_blocks\u001b[0m\u001b[1;33m\u001b[0m\u001b[0m\n",
      "\u001b[1;32m/usr/local/software/anaconda/lib/python2.7/site-packages/pandas/core/internals.py\u001b[0m in \u001b[0;36m_merge_blocks\u001b[1;34m(blocks, dtype, _can_consolidate)\u001b[0m\n\u001b[0;32m   4290\u001b[0m \u001b[1;33m\u001b[0m\u001b[0m\n\u001b[0;32m   4291\u001b[0m         \u001b[0margsort\u001b[0m \u001b[1;33m=\u001b[0m \u001b[0mnp\u001b[0m\u001b[1;33m.\u001b[0m\u001b[0margsort\u001b[0m\u001b[1;33m(\u001b[0m\u001b[0mnew_mgr_locs\u001b[0m\u001b[1;33m)\u001b[0m\u001b[1;33m\u001b[0m\u001b[0m\n\u001b[1;32m-> 4292\u001b[1;33m         \u001b[0mnew_values\u001b[0m \u001b[1;33m=\u001b[0m \u001b[0mnew_values\u001b[0m\u001b[1;33m[\u001b[0m\u001b[0margsort\u001b[0m\u001b[1;33m]\u001b[0m\u001b[1;33m\u001b[0m\u001b[0m\n\u001b[0m\u001b[0;32m   4293\u001b[0m         \u001b[0mnew_mgr_locs\u001b[0m \u001b[1;33m=\u001b[0m \u001b[0mnew_mgr_locs\u001b[0m\u001b[1;33m[\u001b[0m\u001b[0margsort\u001b[0m\u001b[1;33m]\u001b[0m\u001b[1;33m\u001b[0m\u001b[0m\n\u001b[0;32m   4294\u001b[0m \u001b[1;33m\u001b[0m\u001b[0m\n",
      "\u001b[1;31mKeyboardInterrupt\u001b[0m: "
     ]
    }
   ],
   "source": [
    "ldi = pd.read_csv('/share/forecasting/data/LDIpc/national_LDIpc_prepped_20161207.csv')\n",
    "#ldi = pd.read_hdf(fbd.uploaders.get_directory('ldi_per_capita'), key = 'data')\n",
    "ldi['LDIpc_0'] = ldi['LDIpc_1000']\n",
    "ldi[['ldipc_{}'.format(i) for i in range(1000)]] = ldi[['LDIpc_{}'.format(i) for i in range(1000)]]\n",
    "ldi = ldi[['ldipc_{}'.format(i) for i in range(1000)] + ['location_id', 'year_id']]\n",
    "#Cap LDI draws at $60,000\n",
    "ldi[['ldipc_{}'.format(i) for i in range(1000)]] = np.min(np.dstack([ldi[['ldipc_{}'.format(i) for i in range(1000)]],np.ones_like(ldi[['ldipc_{}'.format(i) for i in range(1000)]]) *60000 ]),axis=2)\n",
    "ldi['ldi'] = np.log(ldi[['ldipc_{}'.format(i) for i in range(1000)]].values).mean(axis = 1)\n",
    "ldi[['ldipc_{}'.format(i) for i in range(1000)]] = np.log(ldi[['ldipc_{}'.format(i) for i in range(1000)]])\n",
    "ldi_cols = ['location_id', 'year_id', 'ldi']\n",
    "ldi_cols = ldi_cols +['ldipc_{}'.format(i) for i in range(1000)]\n",
    "ldi = ldi[ldi_cols]\n",
    "ldi.head()"
   ]
  },
  {
   "cell_type": "code",
   "execution_count": 7,
   "metadata": {
    "collapsed": false
   },
   "outputs": [
    {
     "data": {
      "text/html": [
       "<div>\n",
       "<table border=\"1\" class=\"dataframe\">\n",
       "  <thead>\n",
       "    <tr style=\"text-align: right;\">\n",
       "      <th></th>\n",
       "      <th>location_id</th>\n",
       "      <th>ihme_loc_id</th>\n",
       "      <th>year_id</th>\n",
       "      <th>age_group_id</th>\n",
       "      <th>sex_id</th>\n",
       "      <th>LDIpc_1</th>\n",
       "      <th>LDIpc_2</th>\n",
       "      <th>LDIpc_3</th>\n",
       "      <th>LDIpc_4</th>\n",
       "      <th>LDIpc_5</th>\n",
       "      <th>...</th>\n",
       "      <th>LDIpc_994</th>\n",
       "      <th>LDIpc_995</th>\n",
       "      <th>LDIpc_996</th>\n",
       "      <th>LDIpc_997</th>\n",
       "      <th>LDIpc_998</th>\n",
       "      <th>LDIpc_999</th>\n",
       "      <th>LDIpc_1000</th>\n",
       "      <th>rt_mean</th>\n",
       "      <th>rt_upper</th>\n",
       "      <th>rt_lower</th>\n",
       "    </tr>\n",
       "  </thead>\n",
       "  <tbody>\n",
       "    <tr>\n",
       "      <th>0</th>\n",
       "      <td>6</td>\n",
       "      <td>CHN</td>\n",
       "      <td>1979</td>\n",
       "      <td>22</td>\n",
       "      <td>3</td>\n",
       "      <td>1015.7367</td>\n",
       "      <td>1015.7367</td>\n",
       "      <td>1015.7367</td>\n",
       "      <td>1015.7367</td>\n",
       "      <td>1015.7367</td>\n",
       "      <td>...</td>\n",
       "      <td>1015.7367</td>\n",
       "      <td>1015.7367</td>\n",
       "      <td>1015.7367</td>\n",
       "      <td>1015.7367</td>\n",
       "      <td>1015.7367</td>\n",
       "      <td>1015.7367</td>\n",
       "      <td>1015.7367</td>\n",
       "      <td>1015.736694</td>\n",
       "      <td>1015.736694</td>\n",
       "      <td>1015.736694</td>\n",
       "    </tr>\n",
       "    <tr>\n",
       "      <th>1</th>\n",
       "      <td>6</td>\n",
       "      <td>CHN</td>\n",
       "      <td>1980</td>\n",
       "      <td>22</td>\n",
       "      <td>3</td>\n",
       "      <td>1028.1464</td>\n",
       "      <td>1028.1464</td>\n",
       "      <td>1028.1464</td>\n",
       "      <td>1028.1464</td>\n",
       "      <td>1028.1464</td>\n",
       "      <td>...</td>\n",
       "      <td>1028.1464</td>\n",
       "      <td>1028.1464</td>\n",
       "      <td>1028.1464</td>\n",
       "      <td>1028.1464</td>\n",
       "      <td>1028.1464</td>\n",
       "      <td>1028.1464</td>\n",
       "      <td>1028.1464</td>\n",
       "      <td>1028.146362</td>\n",
       "      <td>1028.146362</td>\n",
       "      <td>1028.146362</td>\n",
       "    </tr>\n",
       "    <tr>\n",
       "      <th>2</th>\n",
       "      <td>6</td>\n",
       "      <td>CHN</td>\n",
       "      <td>1981</td>\n",
       "      <td>22</td>\n",
       "      <td>3</td>\n",
       "      <td>1044.3159</td>\n",
       "      <td>1044.3159</td>\n",
       "      <td>1044.3159</td>\n",
       "      <td>1044.3159</td>\n",
       "      <td>1044.3159</td>\n",
       "      <td>...</td>\n",
       "      <td>1044.3159</td>\n",
       "      <td>1044.3159</td>\n",
       "      <td>1044.3159</td>\n",
       "      <td>1044.3159</td>\n",
       "      <td>1044.3159</td>\n",
       "      <td>1044.3159</td>\n",
       "      <td>1044.3159</td>\n",
       "      <td>1044.315918</td>\n",
       "      <td>1044.315918</td>\n",
       "      <td>1044.315918</td>\n",
       "    </tr>\n",
       "    <tr>\n",
       "      <th>3</th>\n",
       "      <td>6</td>\n",
       "      <td>CHN</td>\n",
       "      <td>1982</td>\n",
       "      <td>22</td>\n",
       "      <td>3</td>\n",
       "      <td>1075.9132</td>\n",
       "      <td>1075.9132</td>\n",
       "      <td>1075.9130</td>\n",
       "      <td>1075.9130</td>\n",
       "      <td>1075.9130</td>\n",
       "      <td>...</td>\n",
       "      <td>1075.9130</td>\n",
       "      <td>1075.9130</td>\n",
       "      <td>1075.9132</td>\n",
       "      <td>1075.9130</td>\n",
       "      <td>1075.9130</td>\n",
       "      <td>1075.9130</td>\n",
       "      <td>1075.9130</td>\n",
       "      <td>1075.913011</td>\n",
       "      <td>1075.913208</td>\n",
       "      <td>1075.912964</td>\n",
       "    </tr>\n",
       "    <tr>\n",
       "      <th>4</th>\n",
       "      <td>6</td>\n",
       "      <td>CHN</td>\n",
       "      <td>1983</td>\n",
       "      <td>22</td>\n",
       "      <td>3</td>\n",
       "      <td>1114.3564</td>\n",
       "      <td>1114.3564</td>\n",
       "      <td>1114.3561</td>\n",
       "      <td>1114.3561</td>\n",
       "      <td>1114.3561</td>\n",
       "      <td>...</td>\n",
       "      <td>1114.3561</td>\n",
       "      <td>1114.3561</td>\n",
       "      <td>1114.3564</td>\n",
       "      <td>1114.3561</td>\n",
       "      <td>1114.3561</td>\n",
       "      <td>1114.3561</td>\n",
       "      <td>1114.3561</td>\n",
       "      <td>1114.356149</td>\n",
       "      <td>1114.356445</td>\n",
       "      <td>1114.356079</td>\n",
       "    </tr>\n",
       "  </tbody>\n",
       "</table>\n",
       "<p>5 rows × 1008 columns</p>\n",
       "</div>"
      ],
      "text/plain": [
       "   location_id ihme_loc_id  year_id  age_group_id  sex_id    LDIpc_1  \\\n",
       "0            6         CHN     1979            22       3  1015.7367   \n",
       "1            6         CHN     1980            22       3  1028.1464   \n",
       "2            6         CHN     1981            22       3  1044.3159   \n",
       "3            6         CHN     1982            22       3  1075.9132   \n",
       "4            6         CHN     1983            22       3  1114.3564   \n",
       "\n",
       "     LDIpc_2    LDIpc_3    LDIpc_4    LDIpc_5     ...       LDIpc_994  \\\n",
       "0  1015.7367  1015.7367  1015.7367  1015.7367     ...       1015.7367   \n",
       "1  1028.1464  1028.1464  1028.1464  1028.1464     ...       1028.1464   \n",
       "2  1044.3159  1044.3159  1044.3159  1044.3159     ...       1044.3159   \n",
       "3  1075.9132  1075.9130  1075.9130  1075.9130     ...       1075.9130   \n",
       "4  1114.3564  1114.3561  1114.3561  1114.3561     ...       1114.3561   \n",
       "\n",
       "   LDIpc_995  LDIpc_996  LDIpc_997  LDIpc_998  LDIpc_999  LDIpc_1000  \\\n",
       "0  1015.7367  1015.7367  1015.7367  1015.7367  1015.7367   1015.7367   \n",
       "1  1028.1464  1028.1464  1028.1464  1028.1464  1028.1464   1028.1464   \n",
       "2  1044.3159  1044.3159  1044.3159  1044.3159  1044.3159   1044.3159   \n",
       "3  1075.9130  1075.9132  1075.9130  1075.9130  1075.9130   1075.9130   \n",
       "4  1114.3561  1114.3564  1114.3561  1114.3561  1114.3561   1114.3561   \n",
       "\n",
       "       rt_mean     rt_upper     rt_lower  \n",
       "0  1015.736694  1015.736694  1015.736694  \n",
       "1  1028.146362  1028.146362  1028.146362  \n",
       "2  1044.315918  1044.315918  1044.315918  \n",
       "3  1075.913011  1075.913208  1075.912964  \n",
       "4  1114.356149  1114.356445  1114.356079  \n",
       "\n",
       "[5 rows x 1008 columns]"
      ]
     },
     "execution_count": 7,
     "metadata": {},
     "output_type": "execute_result"
    }
   ],
   "source": [
    "#save LDI for \n",
    "ldi = pd.read_csv('/share/forecasting/data/LDIpc/national_LDIpc_prepped_20161207.csv')\n",
    "#ldi['LDIpc_0'] = ldi['LDIpc_1000']\n",
    "\n",
    "ldi.head()"
   ]
  },
  {
   "cell_type": "code",
   "execution_count": 8,
   "metadata": {
    "collapsed": false
   },
   "outputs": [],
   "source": [
    "ldi_cols = ['location_id','ihme_loc_id', 'year_id', 'rt_mean']\n",
    "ldi[ldi_cols].to_csv('/home/j/Project/forecasting/hiv/ref/ldi_forecasts_20161210.csv')"
   ]
  },
  {
   "cell_type": "markdown",
   "metadata": {},
   "source": [
    "### Load education, Pop-Weight to All Adult"
   ]
  },
  {
   "cell_type": "code",
   "execution_count": 11,
   "metadata": {
    "collapsed": false
   },
   "outputs": [
    {
     "data": {
      "text/html": [
       "<div>\n",
       "<table border=\"1\" class=\"dataframe\">\n",
       "  <thead>\n",
       "    <tr style=\"text-align: right;\">\n",
       "      <th></th>\n",
       "      <th>location_id</th>\n",
       "      <th>year_id</th>\n",
       "      <th>edu</th>\n",
       "      <th>edu_forecast_draw0</th>\n",
       "      <th>edu_forecast_draw1</th>\n",
       "      <th>edu_forecast_draw2</th>\n",
       "      <th>edu_forecast_draw3</th>\n",
       "      <th>edu_forecast_draw4</th>\n",
       "      <th>edu_forecast_draw5</th>\n",
       "      <th>edu_forecast_draw6</th>\n",
       "      <th>...</th>\n",
       "      <th>edu_forecast_draw990</th>\n",
       "      <th>edu_forecast_draw991</th>\n",
       "      <th>edu_forecast_draw992</th>\n",
       "      <th>edu_forecast_draw993</th>\n",
       "      <th>edu_forecast_draw994</th>\n",
       "      <th>edu_forecast_draw995</th>\n",
       "      <th>edu_forecast_draw996</th>\n",
       "      <th>edu_forecast_draw997</th>\n",
       "      <th>edu_forecast_draw998</th>\n",
       "      <th>edu_forecast_draw999</th>\n",
       "    </tr>\n",
       "  </thead>\n",
       "  <tbody>\n",
       "    <tr>\n",
       "      <th>0</th>\n",
       "      <td>6</td>\n",
       "      <td>1950</td>\n",
       "      <td>2.635495</td>\n",
       "      <td>2.432078</td>\n",
       "      <td>2.713488</td>\n",
       "      <td>2.444265</td>\n",
       "      <td>2.684126</td>\n",
       "      <td>2.419469</td>\n",
       "      <td>2.592997</td>\n",
       "      <td>2.535412</td>\n",
       "      <td>...</td>\n",
       "      <td>2.448978</td>\n",
       "      <td>2.456569</td>\n",
       "      <td>2.534935</td>\n",
       "      <td>2.890653</td>\n",
       "      <td>2.466241</td>\n",
       "      <td>2.551215</td>\n",
       "      <td>3.288327</td>\n",
       "      <td>2.176167</td>\n",
       "      <td>2.639432</td>\n",
       "      <td>2.735019</td>\n",
       "    </tr>\n",
       "    <tr>\n",
       "      <th>1</th>\n",
       "      <td>6</td>\n",
       "      <td>1951</td>\n",
       "      <td>2.716177</td>\n",
       "      <td>2.510957</td>\n",
       "      <td>2.804991</td>\n",
       "      <td>2.535165</td>\n",
       "      <td>2.754107</td>\n",
       "      <td>2.496789</td>\n",
       "      <td>2.665202</td>\n",
       "      <td>2.624748</td>\n",
       "      <td>...</td>\n",
       "      <td>2.533595</td>\n",
       "      <td>2.525153</td>\n",
       "      <td>2.629635</td>\n",
       "      <td>2.963955</td>\n",
       "      <td>2.546576</td>\n",
       "      <td>2.622928</td>\n",
       "      <td>3.380717</td>\n",
       "      <td>2.242943</td>\n",
       "      <td>2.730847</td>\n",
       "      <td>2.831496</td>\n",
       "    </tr>\n",
       "    <tr>\n",
       "      <th>2</th>\n",
       "      <td>6</td>\n",
       "      <td>1952</td>\n",
       "      <td>2.799702</td>\n",
       "      <td>2.595274</td>\n",
       "      <td>2.899303</td>\n",
       "      <td>2.629450</td>\n",
       "      <td>2.825219</td>\n",
       "      <td>2.577961</td>\n",
       "      <td>2.739777</td>\n",
       "      <td>2.717568</td>\n",
       "      <td>...</td>\n",
       "      <td>2.622422</td>\n",
       "      <td>2.598117</td>\n",
       "      <td>2.728182</td>\n",
       "      <td>3.039806</td>\n",
       "      <td>2.631755</td>\n",
       "      <td>2.697830</td>\n",
       "      <td>3.471224</td>\n",
       "      <td>2.312788</td>\n",
       "      <td>2.826638</td>\n",
       "      <td>2.931058</td>\n",
       "    </tr>\n",
       "    <tr>\n",
       "      <th>3</th>\n",
       "      <td>6</td>\n",
       "      <td>1953</td>\n",
       "      <td>2.885641</td>\n",
       "      <td>2.683937</td>\n",
       "      <td>2.996656</td>\n",
       "      <td>2.726524</td>\n",
       "      <td>2.896823</td>\n",
       "      <td>2.663117</td>\n",
       "      <td>2.816964</td>\n",
       "      <td>2.813468</td>\n",
       "      <td>...</td>\n",
       "      <td>2.714910</td>\n",
       "      <td>2.675040</td>\n",
       "      <td>2.829992</td>\n",
       "      <td>3.117165</td>\n",
       "      <td>2.721595</td>\n",
       "      <td>2.775853</td>\n",
       "      <td>3.558953</td>\n",
       "      <td>2.385391</td>\n",
       "      <td>2.925752</td>\n",
       "      <td>3.032577</td>\n",
       "    </tr>\n",
       "    <tr>\n",
       "      <th>4</th>\n",
       "      <td>6</td>\n",
       "      <td>1954</td>\n",
       "      <td>2.973364</td>\n",
       "      <td>2.775488</td>\n",
       "      <td>3.097141</td>\n",
       "      <td>2.825747</td>\n",
       "      <td>2.968049</td>\n",
       "      <td>2.752269</td>\n",
       "      <td>2.896925</td>\n",
       "      <td>2.911723</td>\n",
       "      <td>...</td>\n",
       "      <td>2.810392</td>\n",
       "      <td>2.755236</td>\n",
       "      <td>2.934180</td>\n",
       "      <td>3.194826</td>\n",
       "      <td>2.815741</td>\n",
       "      <td>2.856832</td>\n",
       "      <td>3.642799</td>\n",
       "      <td>2.460515</td>\n",
       "      <td>3.026658</td>\n",
       "      <td>3.134533</td>\n",
       "    </tr>\n",
       "  </tbody>\n",
       "</table>\n",
       "<p>5 rows × 1003 columns</p>\n",
       "</div>"
      ],
      "text/plain": [
       "   location_id  year_id       edu  edu_forecast_draw0  edu_forecast_draw1  \\\n",
       "0            6     1950  2.635495            2.432078            2.713488   \n",
       "1            6     1951  2.716177            2.510957            2.804991   \n",
       "2            6     1952  2.799702            2.595274            2.899303   \n",
       "3            6     1953  2.885641            2.683937            2.996656   \n",
       "4            6     1954  2.973364            2.775488            3.097141   \n",
       "\n",
       "   edu_forecast_draw2  edu_forecast_draw3  edu_forecast_draw4  \\\n",
       "0            2.444265            2.684126            2.419469   \n",
       "1            2.535165            2.754107            2.496789   \n",
       "2            2.629450            2.825219            2.577961   \n",
       "3            2.726524            2.896823            2.663117   \n",
       "4            2.825747            2.968049            2.752269   \n",
       "\n",
       "   edu_forecast_draw5  edu_forecast_draw6          ...           \\\n",
       "0            2.592997            2.535412          ...            \n",
       "1            2.665202            2.624748          ...            \n",
       "2            2.739777            2.717568          ...            \n",
       "3            2.816964            2.813468          ...            \n",
       "4            2.896925            2.911723          ...            \n",
       "\n",
       "   edu_forecast_draw990  edu_forecast_draw991  edu_forecast_draw992  \\\n",
       "0              2.448978              2.456569              2.534935   \n",
       "1              2.533595              2.525153              2.629635   \n",
       "2              2.622422              2.598117              2.728182   \n",
       "3              2.714910              2.675040              2.829992   \n",
       "4              2.810392              2.755236              2.934180   \n",
       "\n",
       "   edu_forecast_draw993  edu_forecast_draw994  edu_forecast_draw995  \\\n",
       "0              2.890653              2.466241              2.551215   \n",
       "1              2.963955              2.546576              2.622928   \n",
       "2              3.039806              2.631755              2.697830   \n",
       "3              3.117165              2.721595              2.775853   \n",
       "4              3.194826              2.815741              2.856832   \n",
       "\n",
       "   edu_forecast_draw996  edu_forecast_draw997  edu_forecast_draw998  \\\n",
       "0              3.288327              2.176167              2.639432   \n",
       "1              3.380717              2.242943              2.730847   \n",
       "2              3.471224              2.312788              2.826638   \n",
       "3              3.558953              2.385391              2.925752   \n",
       "4              3.642799              2.460515              3.026658   \n",
       "\n",
       "   edu_forecast_draw999  \n",
       "0              2.735019  \n",
       "1              2.831496  \n",
       "2              2.931058  \n",
       "3              3.032577  \n",
       "4              3.134533  \n",
       "\n",
       "[5 rows x 1003 columns]"
      ]
     },
     "execution_count": 11,
     "metadata": {},
     "output_type": "execute_result"
    }
   ],
   "source": [
    "#%%time\n",
    "pops = pd.read_csv('/ihme/forecasting/data/pop/20150101_wpp/data.csv')\n",
    "#pops['pop'] = pop[['pop_{}'.format(i) for i in range(1000)]].mean(axis = 1)\n",
    "#cols = ['location_id', 'sex_id', 'age_group_id', 'year_id','pop']\n",
    "#edu_file=fbd.uploaders.get_directory('education')\n",
    "#edu_file = edu_file.replace('.csv', '.h5')        \n",
    "#edu = pd.read_hdf(edu_file, key = 'data')\n",
    "edu = pd.read_csv('/home/j/WORK/01_covariates/02_inputs/education/update_2017/data/output_data/20161121_GBD2016prelim_95+_raked_2/gpr_draws.csv')\n",
    "edu = edu.rename(columns={'draw{}'.format(i):'edu_forecast_draw{}'.format(i) for i in range(1000)})\n",
    "edu_cols = ['location_id', 'sex_id', 'age_group_id', 'year_id']\n",
    "edu_cols = edu_cols + ['edu_forecast_draw{}'.format(i) for i in range(1000)]\n",
    "edu = edu[edu_cols]\n",
    "edu = edu.merge(pops,how='left',on=['location_id', 'sex_id', 'age_group_id', 'year_id'])\n",
    "edu.loc[:,['edu_forecast_draw{}'.format(i) for i in range(1000)]] = (edu.loc[:,['edu_forecast_draw{}'.format(i) for i in range(1000)]] * np.repeat(edu.loc[:,['pop']].values,repeats=1000,axis=1))                                                                \n",
    "edu = edu.groupby(['location_id','year_id']).sum()\n",
    "edu.loc[:,['edu_forecast_draw{}'.format(i) for i in range(1000)]] = (edu.loc[:,['edu_forecast_draw{}'.format(i) for i in range(1000)]] / np.repeat(edu.loc[:,['pop']].values,repeats=1000,axis=1))                                                                \n",
    "edu = edu.reset_index()\n",
    "edu['edu'] = edu[['edu_forecast_draw{}'.format(i) for i in range(1000)]].mean(axis = 1)\n",
    "edu_cols = ['location_id', 'year_id','edu']\n",
    "edu_cols = edu_cols + ['edu_forecast_draw{}'.format(i) for i in range(1000)]\n",
    "edu = edu[edu_cols]\n",
    "edu.head()\n"
   ]
  },
  {
   "cell_type": "markdown",
   "metadata": {},
   "source": [
    "### Load TFR"
   ]
  },
  {
   "cell_type": "code",
   "execution_count": 26,
   "metadata": {
    "collapsed": false,
    "scrolled": true
   },
   "outputs": [
    {
     "data": {
      "text/html": [
       "<div>\n",
       "<table border=\"1\" class=\"dataframe\">\n",
       "  <thead>\n",
       "    <tr style=\"text-align: right;\">\n",
       "      <th></th>\n",
       "      <th>age_group_id</th>\n",
       "      <th>draw_0</th>\n",
       "      <th>draw_1</th>\n",
       "      <th>draw_10</th>\n",
       "      <th>draw_100</th>\n",
       "      <th>draw_101</th>\n",
       "      <th>draw_102</th>\n",
       "      <th>draw_103</th>\n",
       "      <th>draw_104</th>\n",
       "      <th>draw_105</th>\n",
       "      <th>...</th>\n",
       "      <th>draw_993</th>\n",
       "      <th>draw_994</th>\n",
       "      <th>draw_995</th>\n",
       "      <th>draw_996</th>\n",
       "      <th>draw_997</th>\n",
       "      <th>draw_998</th>\n",
       "      <th>draw_999</th>\n",
       "      <th>location_id</th>\n",
       "      <th>sex_id</th>\n",
       "      <th>year_id</th>\n",
       "    </tr>\n",
       "  </thead>\n",
       "  <tbody>\n",
       "    <tr>\n",
       "      <th>0</th>\n",
       "      <td>22</td>\n",
       "      <td>6.8066</td>\n",
       "      <td>6.8066</td>\n",
       "      <td>6.8066</td>\n",
       "      <td>6.8066</td>\n",
       "      <td>6.8066</td>\n",
       "      <td>6.8066</td>\n",
       "      <td>6.8066</td>\n",
       "      <td>6.8066</td>\n",
       "      <td>6.8066</td>\n",
       "      <td>...</td>\n",
       "      <td>6.8066</td>\n",
       "      <td>6.8066</td>\n",
       "      <td>6.8066</td>\n",
       "      <td>6.8066</td>\n",
       "      <td>6.8066</td>\n",
       "      <td>6.8066</td>\n",
       "      <td>6.8066</td>\n",
       "      <td>175.0</td>\n",
       "      <td>3</td>\n",
       "      <td>1953</td>\n",
       "    </tr>\n",
       "    <tr>\n",
       "      <th>1</th>\n",
       "      <td>22</td>\n",
       "      <td>6.8178</td>\n",
       "      <td>6.8178</td>\n",
       "      <td>6.8178</td>\n",
       "      <td>6.8178</td>\n",
       "      <td>6.8178</td>\n",
       "      <td>6.8178</td>\n",
       "      <td>6.8178</td>\n",
       "      <td>6.8178</td>\n",
       "      <td>6.8178</td>\n",
       "      <td>...</td>\n",
       "      <td>6.8178</td>\n",
       "      <td>6.8178</td>\n",
       "      <td>6.8178</td>\n",
       "      <td>6.8178</td>\n",
       "      <td>6.8178</td>\n",
       "      <td>6.8178</td>\n",
       "      <td>6.8178</td>\n",
       "      <td>175.0</td>\n",
       "      <td>3</td>\n",
       "      <td>1954</td>\n",
       "    </tr>\n",
       "    <tr>\n",
       "      <th>2</th>\n",
       "      <td>22</td>\n",
       "      <td>6.8290</td>\n",
       "      <td>6.8290</td>\n",
       "      <td>6.8290</td>\n",
       "      <td>6.8290</td>\n",
       "      <td>6.8290</td>\n",
       "      <td>6.8290</td>\n",
       "      <td>6.8290</td>\n",
       "      <td>6.8290</td>\n",
       "      <td>6.8290</td>\n",
       "      <td>...</td>\n",
       "      <td>6.8290</td>\n",
       "      <td>6.8290</td>\n",
       "      <td>6.8290</td>\n",
       "      <td>6.8290</td>\n",
       "      <td>6.8290</td>\n",
       "      <td>6.8290</td>\n",
       "      <td>6.8290</td>\n",
       "      <td>175.0</td>\n",
       "      <td>3</td>\n",
       "      <td>1955</td>\n",
       "    </tr>\n",
       "    <tr>\n",
       "      <th>3</th>\n",
       "      <td>22</td>\n",
       "      <td>6.8402</td>\n",
       "      <td>6.8402</td>\n",
       "      <td>6.8402</td>\n",
       "      <td>6.8402</td>\n",
       "      <td>6.8402</td>\n",
       "      <td>6.8402</td>\n",
       "      <td>6.8402</td>\n",
       "      <td>6.8402</td>\n",
       "      <td>6.8402</td>\n",
       "      <td>...</td>\n",
       "      <td>6.8402</td>\n",
       "      <td>6.8402</td>\n",
       "      <td>6.8402</td>\n",
       "      <td>6.8402</td>\n",
       "      <td>6.8402</td>\n",
       "      <td>6.8402</td>\n",
       "      <td>6.8402</td>\n",
       "      <td>175.0</td>\n",
       "      <td>3</td>\n",
       "      <td>1956</td>\n",
       "    </tr>\n",
       "    <tr>\n",
       "      <th>4</th>\n",
       "      <td>22</td>\n",
       "      <td>6.8514</td>\n",
       "      <td>6.8514</td>\n",
       "      <td>6.8514</td>\n",
       "      <td>6.8514</td>\n",
       "      <td>6.8514</td>\n",
       "      <td>6.8514</td>\n",
       "      <td>6.8514</td>\n",
       "      <td>6.8514</td>\n",
       "      <td>6.8514</td>\n",
       "      <td>...</td>\n",
       "      <td>6.8514</td>\n",
       "      <td>6.8514</td>\n",
       "      <td>6.8514</td>\n",
       "      <td>6.8514</td>\n",
       "      <td>6.8514</td>\n",
       "      <td>6.8514</td>\n",
       "      <td>6.8514</td>\n",
       "      <td>175.0</td>\n",
       "      <td>3</td>\n",
       "      <td>1957</td>\n",
       "    </tr>\n",
       "  </tbody>\n",
       "</table>\n",
       "<p>5 rows × 1004 columns</p>\n",
       "</div>"
      ],
      "text/plain": [
       "   age_group_id  draw_0  draw_1  draw_10  draw_100  draw_101  draw_102  \\\n",
       "0            22  6.8066  6.8066   6.8066    6.8066    6.8066    6.8066   \n",
       "1            22  6.8178  6.8178   6.8178    6.8178    6.8178    6.8178   \n",
       "2            22  6.8290  6.8290   6.8290    6.8290    6.8290    6.8290   \n",
       "3            22  6.8402  6.8402   6.8402    6.8402    6.8402    6.8402   \n",
       "4            22  6.8514  6.8514   6.8514    6.8514    6.8514    6.8514   \n",
       "\n",
       "   draw_103  draw_104  draw_105   ...     draw_993  draw_994  draw_995  \\\n",
       "0    6.8066    6.8066    6.8066   ...       6.8066    6.8066    6.8066   \n",
       "1    6.8178    6.8178    6.8178   ...       6.8178    6.8178    6.8178   \n",
       "2    6.8290    6.8290    6.8290   ...       6.8290    6.8290    6.8290   \n",
       "3    6.8402    6.8402    6.8402   ...       6.8402    6.8402    6.8402   \n",
       "4    6.8514    6.8514    6.8514   ...       6.8514    6.8514    6.8514   \n",
       "\n",
       "   draw_996  draw_997  draw_998  draw_999  location_id  sex_id  year_id  \n",
       "0    6.8066    6.8066    6.8066    6.8066        175.0       3     1953  \n",
       "1    6.8178    6.8178    6.8178    6.8178        175.0       3     1954  \n",
       "2    6.8290    6.8290    6.8290    6.8290        175.0       3     1955  \n",
       "3    6.8402    6.8402    6.8402    6.8402        175.0       3     1956  \n",
       "4    6.8514    6.8514    6.8514    6.8514        175.0       3     1957  \n",
       "\n",
       "[5 rows x 1004 columns]"
      ]
     },
     "execution_count": 26,
     "metadata": {},
     "output_type": "execute_result"
    }
   ],
   "source": [
    "#tfr = pd.read_csv(fbd.uploaders.get_directory('tfr'))\n",
    "tfr = pd.read_csv('/ihme/forecasting/data/tfr/results/tfr_whole.csv')\n",
    "tfr.head()"
   ]
  },
  {
   "cell_type": "code",
   "execution_count": 27,
   "metadata": {
    "collapsed": false
   },
   "outputs": [],
   "source": [
    "test1 = tfr.filter(like = 'draw').mean(1)"
   ]
  },
  {
   "cell_type": "code",
   "execution_count": 28,
   "metadata": {
    "collapsed": false
   },
   "outputs": [],
   "source": [
    "#tfr = pd.read_csv(fbd.uploaders.get_directory('tfr'))\n",
    "tfr = pd.read_csv('/ihme/forecasting/data/tfr/results/tfr_whole.csv')\n",
    "tfr[['tfr_draw_{}'.format(i) for i in range(1000)]] = tfr[['draw_{}'.format(i) for i in range(1000)]]\n",
    "tfr[['tfr_draw_{}'.format(i) for i in range(1000)]] = np.max(np.dstack([tfr[['tfr_draw_{}'.format(i) for i in range(1000)]],np.ones_like(tfr[['tfr_draw_{}'.format(i) for i in range(1000)]]) * 1 ]),axis=2)\n",
    "tfr['tfr'] = tfr[['tfr_draw_{}'.format(i) for i in range(1000)]].values.mean(axis = 1)\n",
    "cols = ['location_id', 'year_id', 'tfr']\n",
    "cols = cols +['tfr_draw_{}'.format(i) for i in range(1000)]\n",
    "tfr = tfr[cols]\n"
   ]
  },
  {
   "cell_type": "code",
   "execution_count": 29,
   "metadata": {
    "collapsed": true
   },
   "outputs": [],
   "source": [
    "test2 = tfr.filter(like = 'draw').mean(1)"
   ]
  },
  {
   "cell_type": "code",
   "execution_count": 32,
   "metadata": {
    "collapsed": false
   },
   "outputs": [
    {
     "data": {
      "text/plain": [
       "False"
      ]
     },
     "execution_count": 32,
     "metadata": {},
     "output_type": "execute_result"
    }
   ],
   "source": [
    "(test1 == test2).all()"
   ]
  },
  {
   "cell_type": "markdown",
   "metadata": {},
   "source": [
    "### Merge Data"
   ]
  },
  {
   "cell_type": "code",
   "execution_count": null,
   "metadata": {
    "collapsed": false,
    "scrolled": true
   },
   "outputs": [],
   "source": [
    "sds  = edu.loc[edu.year_id>=min_year].merge(ldi,how='inner',on=['location_id', 'year_id'])\n",
    "sds = sds.merge(tfr,how='inner',on=['location_id', 'year_id'])\n"
   ]
  },
  {
   "cell_type": "code",
   "execution_count": null,
   "metadata": {
    "collapsed": false
   },
   "outputs": [],
   "source": [
    "#subset locations\n",
    "locs = pd.read_csv('/home/j/WORK/01_covariates/02_inputs/education/update_2015/ref/IHME_GDB_2015_LOCS_6.1.15.csv')\n",
    "locs = locs[['location_id','location_type_id']]\n",
    "sds = sds.merge(locs,how='inner',on=['location_id'])\n",
    "\n",
    "sds = sds[sds.location_type_id==2]"
   ]
  },
  {
   "cell_type": "markdown",
   "metadata": {},
   "source": [
    "### Make SDI"
   ]
  },
  {
   "cell_type": "code",
   "execution_count": null,
   "metadata": {
    "collapsed": false
   },
   "outputs": [],
   "source": [
    "#Get min and max of each variable\n",
    "#min_edu = np.min(sds.query('year_id < 2016 & year_id > 1979')['edu'])\n",
    "#max_edu = np.max(sds.query('year_id < 2016 & year_id > 1979')['edu'])\n",
    "#min_ldi = np.min(sds.query('year_id < 2016 & year_id > 1979')['ldi'])\n",
    "#max_ldi = np.max(sds.query('year_id < 2016 & year_id > 1979')['ldi'])\n",
    "#min_tfr = np.min(sds.query('year_id < 2016 & year_id > 1979')['tfr'])\n",
    "#max_tfr = np.max(sds.query('year_id < 2016 & year_id > 1979')['tfr'])\n",
    "\n",
    "min_edu = .595\n",
    "max_edu = 15.07\n",
    "min_ldi = np.log(377.16)\n",
    "max_ldi = np.log(60000)\n",
    "min_tfr = 1.0\n",
    "max_tfr = 9.74\n",
    "\n"
   ]
  },
  {
   "cell_type": "code",
   "execution_count": null,
   "metadata": {
    "collapsed": false
   },
   "outputs": [],
   "source": [
    "print min_edu \n",
    "print max_edu \n",
    "print min_ldi \n",
    "print max_ldi \n",
    "print min_tfr \n",
    "print max_tfr \n",
    "\n"
   ]
  },
  {
   "cell_type": "code",
   "execution_count": null,
   "metadata": {
    "collapsed": false
   },
   "outputs": [],
   "source": []
  },
  {
   "cell_type": "code",
   "execution_count": null,
   "metadata": {
    "collapsed": true
   },
   "outputs": [],
   "source": [
    "#Convert draws to 0 to 1 scale\n",
    "sds.loc[:,['edu_forecast_draw{i}'.format(i=i) for i in range(1000)]] = ((sds.loc[:,['edu_forecast_draw{i}'.format(i=i) for i in range(1000)]] - min_edu) / (max_edu - min_edu))\n",
    "sds.loc[:,['ldipc_{i}'.format(i=i) for i in range(1000)]] = ((sds.loc[:,['ldipc_{i}'.format(i=i) for i in range(1000)]] - min_ldi) / (max_ldi - min_ldi))\n",
    "sds.loc[:,['tfr_draw_{i}'.format(i=i) for i in range(1000)]] = (1- ((sds.loc[:,['tfr_draw_{i}'.format(i=i) for i in range(1000)]] - min_tfr) / (max_tfr - min_tfr)))\n",
    "\n",
    "for var in ['edu_forecast_draw','ldipc_','tfr_draw_']:\n",
    "    #Set anything less than .01 to .01\n",
    "    sds[['{var}{i}'.format(var=var,i=i) for i in range(1000)]] = sds[['{var}{i}'.format(var=var,i=i) for i in range(1000)]].fillna(.01)\n",
    "    sds[['{var}{i}'.format(var=var,i=i) for i in range(1000)]] = np.min(np.dstack([sds[['{var}{i}'.format(var=var,i=i) for i in range(1000)]],np.ones_like(sds[['{var}{i}'.format(var=var,i=i) for i in range(1000)]]) *1 ]),axis=2)\n",
    "    #Set anything more than 1 to 1\n",
    "    sds[['{var}{i}'.format(var=var,i=i) for i in range(1000)]] = np.max(np.dstack([sds[['{var}{i}'.format(var=var,i=i) for i in range(1000)]],np.ones_like(sds[['{var}{i}'.format(var=var,i=i) for i in range(1000)]]) *.001 ]),axis=2)\n"
   ]
  },
  {
   "cell_type": "code",
   "execution_count": null,
   "metadata": {
    "collapsed": false
   },
   "outputs": [],
   "source": [
    "#Initilaize draws\n",
    "for i in range(1000):\n",
    "    sds['sds_draw{i}'.format(i=i)] = 0."
   ]
  },
  {
   "cell_type": "code",
   "execution_count": null,
   "metadata": {
    "collapsed": false
   },
   "outputs": [],
   "source": [
    "#Make SDS Draws\n",
    "sds[['sds_draw{i}'.format(i=i) for i in range(1000) ]] =  \\\n",
    "    ((sds.loc[:,['edu_forecast_draw{i}'.format(i=i) for i in range(1000)]].values * \\\n",
    "    sds.loc[:,['ldipc_{i}'.format(i=i) for i in range(1000)]].values * \\\n",
    "     sds.loc[:,['tfr_draw_{i}'.format(i=i) for i in range(1000)]].values)**(.333333333333333))\n"
   ]
  },
  {
   "cell_type": "code",
   "execution_count": null,
   "metadata": {
    "collapsed": true
   },
   "outputs": [],
   "source": [
    "#Set anything less than .01 to .01\n",
    "sds[['sds_draw{i}'.format(i=i) for i in range(1000)]] = sds[['sds_draw{i}'.format(i=i) for i in range(1000)]].fillna(.01)\n",
    "sds[['sds_draw{}'.format(i) for i in range(1000)]] = np.min(np.dstack([sds[['sds_draw{}'.format(i) for i in range(1000)]],np.ones_like(sds[['sds_draw{}'.format(i) for i in range(1000)]]) *1 ]),axis=2)\n",
    "\n",
    "#Set anything more than 1 to 1\n",
    "sds[['sds_draw{}'.format(i) for i in range(1000)]] = np.max(np.dstack([sds[['sds_draw{}'.format(i) for i in range(1000)]],np.ones_like(sds[['sds_draw{}'.format(i) for i in range(1000)]]) *.001 ]),axis=2)\n"
   ]
  },
  {
   "cell_type": "code",
   "execution_count": null,
   "metadata": {
    "collapsed": true
   },
   "outputs": [],
   "source": [
    "#only keep min years onwards\n"
   ]
  },
  {
   "cell_type": "markdown",
   "metadata": {},
   "source": [
    "### Save SDI"
   ]
  },
  {
   "cell_type": "code",
   "execution_count": null,
   "metadata": {
    "collapsed": false
   },
   "outputs": [],
   "source": [
    "#make directory if needed\n",
    "date = (time.strftime(\"%Y-%m-%d\"))\n",
    "print date\n",
    "directory = '/ihme/forecasting/data/covs/rt/SDI/3/{date}/forecast/'.format(date = date)\n",
    "if not os.path.exists(directory):\n",
    "    os.makedirs(directory)\n",
    "output_path = '/ihme/forecasting/data/covs/rt/SDI/3/{date}/forecast/SDI.hdf'.format(date = date)\n",
    "print output_path"
   ]
  },
  {
   "cell_type": "code",
   "execution_count": null,
   "metadata": {
    "collapsed": false
   },
   "outputs": [],
   "source": [
    "#Save SDS draws\n",
    "sds['age_group_id'] = 22\n",
    "sds['sex_id'] = 3\n",
    "sds.loc[:,['location_id', 'sex_id', 'age_group_id', 'year_id'] +\\\n",
    "            ['sds_draw{i}'.format(i=i) for i in range(1000)]].to_hdf(output_path,key='data',format='table', data_columns=['location_id', 'age_group_id', 'year_id', 'sex_id'])\n"
   ]
  },
  {
   "cell_type": "code",
   "execution_count": 7,
   "metadata": {
    "collapsed": true
   },
   "outputs": [
    {
     "data": {
      "text/plain": [
       "(       model_id  entity_id  location_id  age_group_id  sex_id  year_id  \\\n",
       " 0            27          1            6            22       3     1980   \n",
       " 1            27          1            6            22       3     1981   \n",
       " 2            27          1            6            22       3     1982   \n",
       " 3            27          1            6            22       3     1983   \n",
       " 4            27          1            6            22       3     1984   \n",
       " 5            27          1            6            22       3     1985   \n",
       " 6            27          1            6            22       3     1986   \n",
       " 7            27          1            6            22       3     1987   \n",
       " 8            27          1            6            22       3     1988   \n",
       " 9            27          1            6            22       3     1989   \n",
       " 10           27          1            6            22       3     1990   \n",
       " 11           27          1            6            22       3     1991   \n",
       " 12           27          1            6            22       3     1992   \n",
       " 13           27          1            6            22       3     1993   \n",
       " 14           27          1            6            22       3     1994   \n",
       " 15           27          1            6            22       3     1995   \n",
       " 16           27          1            6            22       3     1996   \n",
       " 17           27          1            6            22       3     1997   \n",
       " 18           27          1            6            22       3     1998   \n",
       " 19           27          1            6            22       3     1999   \n",
       " 20           27          1            6            22       3     2000   \n",
       " 21           27          1            6            22       3     2001   \n",
       " 22           27          1            6            22       3     2002   \n",
       " 23           27          1            6            22       3     2003   \n",
       " 24           27          1            6            22       3     2004   \n",
       " 25           27          1            6            22       3     2005   \n",
       " 26           27          1            6            22       3     2006   \n",
       " 27           27          1            6            22       3     2007   \n",
       " 28           27          1            6            22       3     2008   \n",
       " 29           27          1            6            22       3     2009   \n",
       " ...         ...        ...          ...           ...     ...      ...   \n",
       " 11438        27          1          522            22       3     2011   \n",
       " 11439        27          1          522            22       3     2012   \n",
       " 11440        27          1          522            22       3     2013   \n",
       " 11441        27          1          522            22       3     2014   \n",
       " 11442        27          1          522            22       3     2015   \n",
       " 11443        27          1          522            22       3     2016   \n",
       " 11444        27          1          522            22       3     2017   \n",
       " 11445        27          1          522            22       3     2018   \n",
       " 11446        27          1          522            22       3     2019   \n",
       " 11447        27          1          522            22       3     2020   \n",
       " 11448        27          1          522            22       3     2021   \n",
       " 11449        27          1          522            22       3     2022   \n",
       " 11450        27          1          522            22       3     2023   \n",
       " 11451        27          1          522            22       3     2024   \n",
       " 11452        27          1          522            22       3     2025   \n",
       " 11453        27          1          522            22       3     2026   \n",
       " 11454        27          1          522            22       3     2027   \n",
       " 11455        27          1          522            22       3     2028   \n",
       " 11456        27          1          522            22       3     2029   \n",
       " 11457        27          1          522            22       3     2030   \n",
       " 11458        27          1          522            22       3     2031   \n",
       " 11459        27          1          522            22       3     2032   \n",
       " 11460        27          1          522            22       3     2033   \n",
       " 11461        27          1          522            22       3     2034   \n",
       " 11462        27          1          522            22       3     2035   \n",
       " 11463        27          1          522            22       3     2036   \n",
       " 11464        27          1          522            22       3     2037   \n",
       " 11465        27          1          522            22       3     2038   \n",
       " 11466        27          1          522            22       3     2039   \n",
       " 11467        27          1          522            22       3     2040   \n",
       " \n",
       "       nm_mean nm_lower nm_upper   rt_mean  rt_lower  rt_upper pc_mean  \\\n",
       " 0          \\N       \\N       \\N  0.386545  0.379795  0.393489      \\N   \n",
       " 1          \\N       \\N       \\N  0.393292  0.386887  0.399964      \\N   \n",
       " 2          \\N       \\N       \\N  0.401862  0.395685  0.408137      \\N   \n",
       " 3          \\N       \\N       \\N  0.409690  0.403679  0.415711      \\N   \n",
       " 4          \\N       \\N       \\N  0.417828  0.411855  0.423587      \\N   \n",
       " 5          \\N       \\N       \\N  0.426274  0.420354  0.431851      \\N   \n",
       " 6          \\N       \\N       \\N  0.434206  0.428296  0.439791      \\N   \n",
       " 7          \\N       \\N       \\N  0.442432  0.436730  0.447859      \\N   \n",
       " 8          \\N       \\N       \\N  0.452517  0.446918  0.457822      \\N   \n",
       " 9          \\N       \\N       \\N  0.463711  0.458017  0.469041      \\N   \n",
       " 10         \\N       \\N       \\N  0.473909  0.468294  0.479365      \\N   \n",
       " 11         \\N       \\N       \\N  0.484328  0.478637  0.489659      \\N   \n",
       " 12         \\N       \\N       \\N  0.495625  0.489843  0.500821      \\N   \n",
       " 13         \\N       \\N       \\N  0.507224  0.501430  0.512324      \\N   \n",
       " 14         \\N       \\N       \\N  0.518833  0.512996  0.524006      \\N   \n",
       " 15         \\N       \\N       \\N  0.531012  0.525185  0.536114      \\N   \n",
       " 16         \\N       \\N       \\N  0.542856  0.537211  0.547907      \\N   \n",
       " 17         \\N       \\N       \\N  0.554538  0.549149  0.559653      \\N   \n",
       " 18         \\N       \\N       \\N  0.564201  0.558901  0.569194      \\N   \n",
       " 19         \\N       \\N       \\N  0.572450  0.567227  0.577291      \\N   \n",
       " 20         \\N       \\N       \\N  0.580636  0.575508  0.585660      \\N   \n",
       " 21         \\N       \\N       \\N  0.588879  0.583782  0.593886      \\N   \n",
       " 22         \\N       \\N       \\N  0.597452  0.592348  0.602426      \\N   \n",
       " 23         \\N       \\N       \\N  0.606182  0.600975  0.610964      \\N   \n",
       " 24         \\N       \\N       \\N  0.615184  0.610038  0.619930      \\N   \n",
       " 25         \\N       \\N       \\N  0.624512  0.619340  0.629401      \\N   \n",
       " 26         \\N       \\N       \\N  0.634404  0.629344  0.639184      \\N   \n",
       " 27         \\N       \\N       \\N  0.644716  0.639749  0.649626      \\N   \n",
       " 28         \\N       \\N       \\N  0.654317  0.649323  0.659207      \\N   \n",
       " 29         \\N       \\N       \\N  0.663613  0.658507  0.668604      \\N   \n",
       " ...       ...      ...      ...       ...       ...       ...     ...   \n",
       " 11438      \\N       \\N       \\N  0.460083  0.453024  0.467859      \\N   \n",
       " 11439      \\N       \\N       \\N  0.463954  0.456489  0.472077      \\N   \n",
       " 11440      \\N       \\N       \\N  0.466866  0.458983  0.475295      \\N   \n",
       " 11441      \\N       \\N       \\N  0.470595  0.461688  0.480229      \\N   \n",
       " 11442      \\N       \\N       \\N  0.474121  0.463242  0.485574      \\N   \n",
       " 11443      \\N       \\N       \\N  0.477564  0.464275  0.491201      \\N   \n",
       " 11444      \\N       \\N       \\N  0.481066  0.465085  0.496893      \\N   \n",
       " 11445      \\N       \\N       \\N  0.484696  0.465392  0.503513      \\N   \n",
       " 11446      \\N       \\N       \\N  0.488358  0.467444  0.508194      \\N   \n",
       " 11447      \\N       \\N       \\N  0.492182  0.470119  0.513895      \\N   \n",
       " 11448      \\N       \\N       \\N  0.496194  0.471683  0.520403      \\N   \n",
       " 11449      \\N       \\N       \\N  0.500539  0.474601  0.527460      \\N   \n",
       " 11450      \\N       \\N       \\N  0.505038  0.476448  0.534216      \\N   \n",
       " 11451      \\N       \\N       \\N  0.509840  0.479329  0.540953      \\N   \n",
       " 11452      \\N       \\N       \\N  0.514798  0.483166  0.547780      \\N   \n",
       " 11453      \\N       \\N       \\N  0.519856  0.486440  0.554731      \\N   \n",
       " 11454      \\N       \\N       \\N  0.525006  0.489323  0.562565      \\N   \n",
       " 11455      \\N       \\N       \\N  0.530287  0.491788  0.569784      \\N   \n",
       " 11456      \\N       \\N       \\N  0.535900  0.496913  0.577351      \\N   \n",
       " 11457      \\N       \\N       \\N  0.541583  0.501587  0.584854      \\N   \n",
       " 11458      \\N       \\N       \\N  0.547266  0.504727  0.592596      \\N   \n",
       " 11459      \\N       \\N       \\N  0.553057  0.509438  0.600404      \\N   \n",
       " 11460      \\N       \\N       \\N  0.558996  0.514115  0.606379      \\N   \n",
       " 11461      \\N       \\N       \\N  0.564863  0.518134  0.612700      \\N   \n",
       " 11462      \\N       \\N       \\N  0.570796  0.522919  0.619499      \\N   \n",
       " 11463      \\N       \\N       \\N  0.576735  0.527018  0.627217      \\N   \n",
       " 11464      \\N       \\N       \\N  0.582698  0.530290  0.634154      \\N   \n",
       " 11465      \\N       \\N       \\N  0.588693  0.534626  0.641271      \\N   \n",
       " 11466      \\N       \\N       \\N  0.594846  0.537835  0.648320      \\N   \n",
       " 11467      \\N       \\N       \\N  0.601026  0.543709  0.656617      \\N   \n",
       " \n",
       "       pc_lower pc_upper  \n",
       " 0           \\N       \\N  \n",
       " 1           \\N       \\N  \n",
       " 2           \\N       \\N  \n",
       " 3           \\N       \\N  \n",
       " 4           \\N       \\N  \n",
       " 5           \\N       \\N  \n",
       " 6           \\N       \\N  \n",
       " 7           \\N       \\N  \n",
       " 8           \\N       \\N  \n",
       " 9           \\N       \\N  \n",
       " 10          \\N       \\N  \n",
       " 11          \\N       \\N  \n",
       " 12          \\N       \\N  \n",
       " 13          \\N       \\N  \n",
       " 14          \\N       \\N  \n",
       " 15          \\N       \\N  \n",
       " 16          \\N       \\N  \n",
       " 17          \\N       \\N  \n",
       " 18          \\N       \\N  \n",
       " 19          \\N       \\N  \n",
       " 20          \\N       \\N  \n",
       " 21          \\N       \\N  \n",
       " 22          \\N       \\N  \n",
       " 23          \\N       \\N  \n",
       " 24          \\N       \\N  \n",
       " 25          \\N       \\N  \n",
       " 26          \\N       \\N  \n",
       " 27          \\N       \\N  \n",
       " 28          \\N       \\N  \n",
       " 29          \\N       \\N  \n",
       " ...        ...      ...  \n",
       " 11438       \\N       \\N  \n",
       " 11439       \\N       \\N  \n",
       " 11440       \\N       \\N  \n",
       " 11441       \\N       \\N  \n",
       " 11442       \\N       \\N  \n",
       " 11443       \\N       \\N  \n",
       " 11444       \\N       \\N  \n",
       " 11445       \\N       \\N  \n",
       " 11446       \\N       \\N  \n",
       " 11447       \\N       \\N  \n",
       " 11448       \\N       \\N  \n",
       " 11449       \\N       \\N  \n",
       " 11450       \\N       \\N  \n",
       " 11451       \\N       \\N  \n",
       " 11452       \\N       \\N  \n",
       " 11453       \\N       \\N  \n",
       " 11454       \\N       \\N  \n",
       " 11455       \\N       \\N  \n",
       " 11456       \\N       \\N  \n",
       " 11457       \\N       \\N  \n",
       " 11458       \\N       \\N  \n",
       " 11459       \\N       \\N  \n",
       " 11460       \\N       \\N  \n",
       " 11461       \\N       \\N  \n",
       " 11462       \\N       \\N  \n",
       " 11463       \\N       \\N  \n",
       " 11464       \\N       \\N  \n",
       " 11465       \\N       \\N  \n",
       " 11466       \\N       \\N  \n",
       " 11467       \\N       \\N  \n",
       " \n",
       " [11468 rows x 15 columns], 27)"
      ]
     },
     "execution_count": 7,
     "metadata": {},
     "output_type": "execute_result"
    }
   ],
   "source": [
    "#Upload draws\n",
    "directory = '/ihme/forecasting/data/covs/rt/SDI/3/2016-12-08/forecast/SDI.hdf'\n",
    "\n",
    "fbd.uploaders.prep_data(directory, col_type = 'rt',\n",
    "                                     entity = 'sdi', outpath = '/ihme/forecasting/data/covariates/sds_draws_temp_upload_5.csv',\n",
    "                                     notes = 'SDI 12/8/16',gbd_inputs_round=2015)"
   ]
  },
  {
   "cell_type": "code",
   "execution_count": null,
   "metadata": {
    "collapsed": false,
    "scrolled": true
   },
   "outputs": [],
   "source": [
    "#Calculate means and CIs\n",
    "#means\n",
    "sds['edu_mean'] = sds[['edu_forecast_draw{}'.format(i) for i in range(1000)]].mean(axis = 1)\n",
    "sds['ldi_mean'] = sds[['ldipc_{}'.format(i) for i in range(1000)]].mean(axis = 1)\n",
    "sds['sds_mean'] = sds[['sds_draw{}'.format(i) for i in range(1000)]].mean(axis = 1)\n",
    "sds['tfr_mean'] = sds[['tfr_draw_{}'.format(i) for i in range(1000)]].mean(axis = 1)\n",
    "#uppers\n",
    "sds['edu_upper'] = sds[['edu_forecast_draw{}'.format(i) for i in range(1000)]].quantile(q=.975,axis=1)\n",
    "sds['ldi_upper'] = sds[['ldipc_{}'.format(i) for i in range(1000)]].quantile(q=.975,axis=1)\n",
    "sds['sds_upper'] = sds[['sds_draw{}'.format(i) for i in range(1000)]].quantile(q=.975,axis=1)\n",
    "sds['tfr_upper'] = sds[['tfr_draw_{}'.format(i) for i in range(1000)]].quantile(q=.975,axis=1)\n",
    "\n",
    "#lowers\n",
    "sds['edu_lower'] = sds[['edu_forecast_draw{}'.format(i) for i in range(1000)]].quantile(q=.025,axis=1)\n",
    "sds['ldi_lower'] = sds[['ldipc_{}'.format(i) for i in range(1000)]].quantile(q=.025,axis=1)\n",
    "sds['sds_lower'] = sds[['sds_draw{}'.format(i) for i in range(1000)]].quantile(q=.025,axis=1)\n",
    "sds['tfr_lower'] = sds[['tfr_draw_{}'.format(i) for i in range(1000)]].quantile(q=.025,axis=1)\n",
    "\n",
    "sds.head()"
   ]
  },
  {
   "cell_type": "code",
   "execution_count": null,
   "metadata": {
    "collapsed": true
   },
   "outputs": [],
   "source": [
    "sds['point_estimate'] = sds['sds_mean']\n",
    "sds['lower_bound'] = sds['sds_lower']\n",
    "sds['upper_bound'] = sds['sds_upper']\n",
    "sds['response_var_T'] = 0\n",
    "sds['oos_point_estimate'] = np.nan\n",
    "sds['oos_lower_bound'] = np.nan\n",
    "sds['oos_upper_bound'] = np.nan"
   ]
  },
  {
   "cell_type": "code",
   "execution_count": null,
   "metadata": {
    "collapsed": false
   },
   "outputs": [],
   "source": [
    "#Save summaries for viz tool\n",
    "summary = sds[['location_id','age_group_id','year_id','sex_id','response_var_T','point_estimate','lower_bound','upper_bound','oos_point_estimate','oos_lower_bound','oos_upper_bound']]\n",
    "summary.to_hdf(output_path,method='a',key='summary',format='table', data_columns=['location_id', 'age_group_id', 'year_id', 'sex_id'])"
   ]
  },
  {
   "cell_type": "code",
   "execution_count": null,
   "metadata": {
    "collapsed": true
   },
   "outputs": [],
   "source": [
    "#locs = fbd.downloaders.super_region_map()\n",
    "#locs[['location_name']] = locs[['db_name']]\n",
    "#loc_names = locs[['location_name','location_id']]\n",
    "#loc_names.head()\n",
    "#sds = sds.merge(loc_names,how='left',on='location_id')\n",
    "#sds.head()"
   ]
  },
  {
   "cell_type": "code",
   "execution_count": null,
   "metadata": {
    "collapsed": false
   },
   "outputs": [],
   "source": [
    "#Convert LDI and TFR back to normal Space\n",
    "#sds.tfr = np.exp(sds.tfr)\n",
    "#sds.ldi_mean = np.exp(sds.ldi_mean)\n",
    "#sds.ldi_upper = np.exp(sds.ldi_upper)\n",
    "#sds.ldi_lower = np.exp(sds.ldi_lower)"
   ]
  },
  {
   "cell_type": "code",
   "execution_count": null,
   "metadata": {
    "collapsed": false
   },
   "outputs": [],
   "source": [
    "#Save all data for viz tool\n",
    "sds.loc[:,['location_id', 'year_id','edu_mean','sds_mean','ldi_mean','edu_upper','sds_upper','ldi_upper',\n",
    "           'edu_lower','ldi_lower','sds_lower','tfr_mean','tfr_lower','tfr_upper']].to_hdf(output_path,method='a',key='custom_viz')"
   ]
  },
  {
   "cell_type": "code",
   "execution_count": null,
   "metadata": {
    "collapsed": false
   },
   "outputs": [],
   "source": []
  },
  {
   "cell_type": "code",
   "execution_count": null,
   "metadata": {
    "collapsed": true
   },
   "outputs": [],
   "source": []
  }
 ],
 "metadata": {
  "kernelspec": {
   "display_name": "Python [default]",
   "language": "python",
   "name": "python2"
  },
  "language_info": {
   "codemirror_mode": {
    "name": "ipython",
    "version": 2
   },
   "file_extension": ".py",
   "mimetype": "text/x-python",
   "name": "python",
   "nbconvert_exporter": "python",
   "pygments_lexer": "ipython2",
   "version": "2.7.12"
  }
 },
 "nbformat": 4,
 "nbformat_minor": 0
}
