{
 "cells": [
  {
   "cell_type": "markdown",
   "metadata": {},
   "source": [
    "### Attempting to make SDI in R"
   ]
  },
  {
   "cell_type": "code",
   "execution_count": 1,
   "metadata": {
    "collapsed": false
   },
   "outputs": [
    {
     "name": "stderr",
     "output_type": "stream",
     "text": [
      "Loading required package: data.table\n",
      "Loading required package: MASS\n",
      "Loading required package: ggplot2\n",
      "Loading required package: gridExtra\n"
     ]
    }
   ],
   "source": [
    "# rm(list=ls())\n",
    "require(data.table)\n",
    "require(MASS)\n",
    "require(ggplot2)\n",
    "require(gridExtra)"
   ]
  },
  {
   "cell_type": "markdown",
   "metadata": {},
   "source": [
    "### Bring in LDI"
   ]
  },
  {
   "cell_type": "code",
   "execution_count": 3,
   "metadata": {
    "collapsed": false
   },
   "outputs": [
    {
     "name": "stdout",
     "output_type": "stream",
     "text": [
      "\r",
      "Read 82.7% of 12090 rows\r",
      "Read 12090 rows and 1008 (of 1008) columns from 0.112 GB file in 00:00:03\n"
     ]
    },
    {
     "data": {
      "text/html": [
       "<table>\n",
       "<thead><tr><th scope=col>location_id</th><th scope=col>ihme_loc_id</th><th scope=col>year_id</th><th scope=col>age_group_id</th><th scope=col>sex_id</th><th scope=col>LDIpc_1</th><th scope=col>LDIpc_2</th><th scope=col>LDIpc_3</th><th scope=col>LDIpc_4</th><th scope=col>LDIpc_5</th><th scope=col>⋯</th><th scope=col>LDIpc_994</th><th scope=col>LDIpc_995</th><th scope=col>LDIpc_996</th><th scope=col>LDIpc_997</th><th scope=col>LDIpc_998</th><th scope=col>LDIpc_999</th><th scope=col>LDIpc_1000</th><th scope=col>rt_mean</th><th scope=col>rt_upper</th><th scope=col>rt_lower</th></tr></thead>\n",
       "<tbody>\n",
       "\t<tr><td>6       </td><td>CHN     </td><td>1979    </td><td>22      </td><td>3       </td><td>1015.737</td><td>1015.737</td><td>1015.737</td><td>1015.737</td><td>1015.737</td><td>⋯       </td><td>1015.737</td><td>1015.737</td><td>1015.737</td><td>1015.737</td><td>1015.737</td><td>1015.737</td><td>1015.737</td><td>1015.737</td><td>1015.737</td><td>1015.737</td></tr>\n",
       "\t<tr><td>6       </td><td>CHN     </td><td>1980    </td><td>22      </td><td>3       </td><td>1028.146</td><td>1028.146</td><td>1028.146</td><td>1028.146</td><td>1028.146</td><td>⋯       </td><td>1028.146</td><td>1028.146</td><td>1028.146</td><td>1028.146</td><td>1028.146</td><td>1028.146</td><td>1028.146</td><td>1028.146</td><td>1028.146</td><td>1028.146</td></tr>\n",
       "\t<tr><td>6       </td><td>CHN     </td><td>1981    </td><td>22      </td><td>3       </td><td>1044.316</td><td>1044.316</td><td>1044.316</td><td>1044.316</td><td>1044.316</td><td>⋯       </td><td>1044.316</td><td>1044.316</td><td>1044.316</td><td>1044.316</td><td>1044.316</td><td>1044.316</td><td>1044.316</td><td>1044.316</td><td>1044.316</td><td>1044.316</td></tr>\n",
       "\t<tr><td>6       </td><td>CHN     </td><td>1982    </td><td>22      </td><td>3       </td><td>1075.913</td><td>1075.913</td><td>1075.913</td><td>1075.913</td><td>1075.913</td><td>⋯       </td><td>1075.913</td><td>1075.913</td><td>1075.913</td><td>1075.913</td><td>1075.913</td><td>1075.913</td><td>1075.913</td><td>1075.913</td><td>1075.913</td><td>1075.913</td></tr>\n",
       "\t<tr><td>6       </td><td>CHN     </td><td>1983    </td><td>22      </td><td>3       </td><td>1114.356</td><td>1114.356</td><td>1114.356</td><td>1114.356</td><td>1114.356</td><td>⋯       </td><td>1114.356</td><td>1114.356</td><td>1114.356</td><td>1114.356</td><td>1114.356</td><td>1114.356</td><td>1114.356</td><td>1114.356</td><td>1114.356</td><td>1114.356</td></tr>\n",
       "\t<tr><td>6       </td><td>CHN     </td><td>1984    </td><td>22      </td><td>3       </td><td>1171.506</td><td>1171.506</td><td>1171.505</td><td>1171.505</td><td>1171.505</td><td>⋯       </td><td>1171.505</td><td>1171.505</td><td>1171.506</td><td>1171.505</td><td>1171.505</td><td>1171.505</td><td>1171.505</td><td>1171.506</td><td>1171.506</td><td>1171.505</td></tr>\n",
       "</tbody>\n",
       "</table>\n"
      ],
      "text/latex": [
       "\\begin{tabular}{r|llllllllllllllllllllllllllllllllllllllllllllllllllllllllllllllllllllllllllllllllllllllllllllllllllllllllllllllllllllllllllllllllllllllllllllllllllllllllllllllllllllllllllllllllllllllllllllllllllllllllllllllllllllllllllllllllllllllllllllllllllllllllllllllllllllllllllllllllllllllllllllllllllllllllllllllllllllllllllllllllllllllllllllllllllllllllllllllllllllllllllllllllllllllllllllllllllllllllllllllllllllllllllllllllllllllllllllllllllllllllllllllllllllllllllllllllllllllllllllllllllllllllllllllllllllllllllllllllllllllllllllllllllllllllllllllllllllllllllllllllllllllllllllllllllllllllllllllllllllllllllllllllllllllllllllllllllllllllllllllllllllllllllllllllllllllllllllllllllllllllllllllllllllllllllllllllllllllllllllllllllllllllllllllllllllllllllllllllllllllllllllllllllllllllllllllllllllllllllllllllllllllllllllllllllllllllllllllllllllllllllllllllllllllllllllllllllllllllllllllllllllllllllllllllllllllllllllllllllllllllllllllllllllllllllllllllllllllllllllllllllllllllllllllllllllllllllllllllllllllllllllllll}\n",
       " location\\_id & ihme\\_loc\\_id & year\\_id & age\\_group\\_id & sex\\_id & LDIpc\\_1 & LDIpc\\_2 & LDIpc\\_3 & LDIpc\\_4 & LDIpc\\_5 & ⋯ & LDIpc\\_994 & LDIpc\\_995 & LDIpc\\_996 & LDIpc\\_997 & LDIpc\\_998 & LDIpc\\_999 & LDIpc\\_1000 & rt\\_mean & rt\\_upper & rt\\_lower\\\\\n",
       "\\hline\n",
       "\t 6        & CHN      & 1979     & 22       & 3        & 1015.737 & 1015.737 & 1015.737 & 1015.737 & 1015.737 & ⋯        & 1015.737 & 1015.737 & 1015.737 & 1015.737 & 1015.737 & 1015.737 & 1015.737 & 1015.737 & 1015.737 & 1015.737\\\\\n",
       "\t 6        & CHN      & 1980     & 22       & 3        & 1028.146 & 1028.146 & 1028.146 & 1028.146 & 1028.146 & ⋯        & 1028.146 & 1028.146 & 1028.146 & 1028.146 & 1028.146 & 1028.146 & 1028.146 & 1028.146 & 1028.146 & 1028.146\\\\\n",
       "\t 6        & CHN      & 1981     & 22       & 3        & 1044.316 & 1044.316 & 1044.316 & 1044.316 & 1044.316 & ⋯        & 1044.316 & 1044.316 & 1044.316 & 1044.316 & 1044.316 & 1044.316 & 1044.316 & 1044.316 & 1044.316 & 1044.316\\\\\n",
       "\t 6        & CHN      & 1982     & 22       & 3        & 1075.913 & 1075.913 & 1075.913 & 1075.913 & 1075.913 & ⋯        & 1075.913 & 1075.913 & 1075.913 & 1075.913 & 1075.913 & 1075.913 & 1075.913 & 1075.913 & 1075.913 & 1075.913\\\\\n",
       "\t 6        & CHN      & 1983     & 22       & 3        & 1114.356 & 1114.356 & 1114.356 & 1114.356 & 1114.356 & ⋯        & 1114.356 & 1114.356 & 1114.356 & 1114.356 & 1114.356 & 1114.356 & 1114.356 & 1114.356 & 1114.356 & 1114.356\\\\\n",
       "\t 6        & CHN      & 1984     & 22       & 3        & 1171.506 & 1171.506 & 1171.505 & 1171.505 & 1171.505 & ⋯        & 1171.505 & 1171.505 & 1171.506 & 1171.505 & 1171.505 & 1171.505 & 1171.505 & 1171.506 & 1171.506 & 1171.505\\\\\n",
       "\\end{tabular}\n"
      ],
      "text/markdown": [
       "\n",
       "location_id | ihme_loc_id | year_id | age_group_id | sex_id | LDIpc_1 | LDIpc_2 | LDIpc_3 | LDIpc_4 | LDIpc_5 | ⋯ | LDIpc_994 | LDIpc_995 | LDIpc_996 | LDIpc_997 | LDIpc_998 | LDIpc_999 | LDIpc_1000 | rt_mean | rt_upper | rt_lower | \n",
       "|---|---|---|---|---|---|\n",
       "| 6        | CHN      | 1979     | 22       | 3        | 1015.737 | 1015.737 | 1015.737 | 1015.737 | 1015.737 | ⋯        | 1015.737 | 1015.737 | 1015.737 | 1015.737 | 1015.737 | 1015.737 | 1015.737 | 1015.737 | 1015.737 | 1015.737 | \n",
       "| 6        | CHN      | 1980     | 22       | 3        | 1028.146 | 1028.146 | 1028.146 | 1028.146 | 1028.146 | ⋯        | 1028.146 | 1028.146 | 1028.146 | 1028.146 | 1028.146 | 1028.146 | 1028.146 | 1028.146 | 1028.146 | 1028.146 | \n",
       "| 6        | CHN      | 1981     | 22       | 3        | 1044.316 | 1044.316 | 1044.316 | 1044.316 | 1044.316 | ⋯        | 1044.316 | 1044.316 | 1044.316 | 1044.316 | 1044.316 | 1044.316 | 1044.316 | 1044.316 | 1044.316 | 1044.316 | \n",
       "| 6        | CHN      | 1982     | 22       | 3        | 1075.913 | 1075.913 | 1075.913 | 1075.913 | 1075.913 | ⋯        | 1075.913 | 1075.913 | 1075.913 | 1075.913 | 1075.913 | 1075.913 | 1075.913 | 1075.913 | 1075.913 | 1075.913 | \n",
       "| 6        | CHN      | 1983     | 22       | 3        | 1114.356 | 1114.356 | 1114.356 | 1114.356 | 1114.356 | ⋯        | 1114.356 | 1114.356 | 1114.356 | 1114.356 | 1114.356 | 1114.356 | 1114.356 | 1114.356 | 1114.356 | 1114.356 | \n",
       "| 6        | CHN      | 1984     | 22       | 3        | 1171.506 | 1171.506 | 1171.505 | 1171.505 | 1171.505 | ⋯        | 1171.505 | 1171.505 | 1171.506 | 1171.505 | 1171.505 | 1171.505 | 1171.505 | 1171.506 | 1171.506 | 1171.505 | \n",
       "\n",
       "\n"
      ],
      "text/plain": [
       "  location_id ihme_loc_id year_id age_group_id sex_id LDIpc_1  LDIpc_2 \n",
       "1 6           CHN         1979    22           3      1015.737 1015.737\n",
       "2 6           CHN         1980    22           3      1028.146 1028.146\n",
       "3 6           CHN         1981    22           3      1044.316 1044.316\n",
       "4 6           CHN         1982    22           3      1075.913 1075.913\n",
       "5 6           CHN         1983    22           3      1114.356 1114.356\n",
       "6 6           CHN         1984    22           3      1171.506 1171.506\n",
       "  LDIpc_3  LDIpc_4  LDIpc_5  ⋯ LDIpc_994 LDIpc_995 LDIpc_996 LDIpc_997\n",
       "1 1015.737 1015.737 1015.737 ⋯ 1015.737  1015.737  1015.737  1015.737 \n",
       "2 1028.146 1028.146 1028.146 ⋯ 1028.146  1028.146  1028.146  1028.146 \n",
       "3 1044.316 1044.316 1044.316 ⋯ 1044.316  1044.316  1044.316  1044.316 \n",
       "4 1075.913 1075.913 1075.913 ⋯ 1075.913  1075.913  1075.913  1075.913 \n",
       "5 1114.356 1114.356 1114.356 ⋯ 1114.356  1114.356  1114.356  1114.356 \n",
       "6 1171.505 1171.505 1171.505 ⋯ 1171.505  1171.505  1171.506  1171.505 \n",
       "  LDIpc_998 LDIpc_999 LDIpc_1000 rt_mean  rt_upper rt_lower\n",
       "1 1015.737  1015.737  1015.737   1015.737 1015.737 1015.737\n",
       "2 1028.146  1028.146  1028.146   1028.146 1028.146 1028.146\n",
       "3 1044.316  1044.316  1044.316   1044.316 1044.316 1044.316\n",
       "4 1075.913  1075.913  1075.913   1075.913 1075.913 1075.913\n",
       "5 1114.356  1114.356  1114.356   1114.356 1114.356 1114.356\n",
       "6 1171.505  1171.505  1171.505   1171.506 1171.506 1171.505"
      ]
     },
     "metadata": {},
     "output_type": "display_data"
    }
   ],
   "source": [
    "ldi <- data.table(fread('/share/forecasting/data/LDIpc/national_LDIpc_prepped_20161207.csv'))\n",
    "head(ldi)"
   ]
  },
  {
   "cell_type": "markdown",
   "metadata": {},
   "source": [
    "### Load education, Pop-Weighted to All Adult"
   ]
  },
  {
   "cell_type": "code",
   "execution_count": 4,
   "metadata": {
    "collapsed": false
   },
   "outputs": [
    {
     "name": "stdout",
     "output_type": "stream",
     "text": [
      "\r",
      "Read 57.7% of 17321 rows\r",
      "Read 17321 rows and 1002 (of 1002) columns from 0.273 GB file in 00:00:05\n"
     ]
    }
   ],
   "source": [
    "edu<- fread(\"/home/j/WORK/01_covariates/02_inputs/education/update_2017/data/output_data/20161121_GBD2016prelim_95+_raked_2/gpr_draws_country_year_collapsed_after_sort.csv\")"
   ]
  },
  {
   "cell_type": "code",
   "execution_count": 18,
   "metadata": {
    "collapsed": false
   },
   "outputs": [
    {
     "data": {
      "text/html": [
       "<table>\n",
       "<thead><tr><th scope=col>location_id</th><th scope=col>year</th><th scope=col>edu_forecast_draw0</th><th scope=col>edu_forecast_draw1</th><th scope=col>edu_forecast_draw2</th><th scope=col>edu_forecast_draw3</th><th scope=col>edu_forecast_draw4</th><th scope=col>edu_forecast_draw5</th><th scope=col>edu_forecast_draw6</th><th scope=col>edu_forecast_draw7</th><th scope=col>⋯</th><th scope=col>edu_forecast_draw991</th><th scope=col>edu_forecast_draw992</th><th scope=col>edu_forecast_draw993</th><th scope=col>edu_forecast_draw994</th><th scope=col>edu_forecast_draw995</th><th scope=col>edu_forecast_draw996</th><th scope=col>edu_forecast_draw997</th><th scope=col>edu_forecast_draw998</th><th scope=col>edu_forecast_draw999</th><th scope=col>edu</th></tr></thead>\n",
       "<tbody>\n",
       "\t<tr><td>6       </td><td>1950    </td><td>2.645154</td><td>2.338911</td><td>2.215635</td><td>2.356409</td><td>2.311006</td><td>2.637207</td><td>2.598514</td><td>2.703716</td><td>⋯       </td><td>2.567646</td><td>2.953635</td><td>2.538061</td><td>2.742645</td><td>2.654224</td><td>2.925377</td><td>2.380497</td><td>2.988505</td><td>2.445686</td><td>2.635495</td></tr>\n",
       "\t<tr><td>6       </td><td>1951    </td><td>2.733160</td><td>2.418230</td><td>2.289790</td><td>2.430288</td><td>2.391773</td><td>2.711155</td><td>2.679904</td><td>2.796497</td><td>⋯       </td><td>2.647406</td><td>3.030729</td><td>2.621269</td><td>2.829784</td><td>2.740444</td><td>3.007706</td><td>2.463147</td><td>3.073169</td><td>2.527796</td><td>2.716177</td></tr>\n",
       "\t<tr><td>6       </td><td>1952    </td><td>2.821512</td><td>2.503471</td><td>2.372092</td><td>2.510112</td><td>2.474177</td><td>2.791896</td><td>2.767157</td><td>2.889029</td><td>⋯       </td><td>2.733829</td><td>3.107230</td><td>2.703144</td><td>2.907102</td><td>2.829295</td><td>3.092795</td><td>2.550813</td><td>3.155087</td><td>2.605103</td><td>2.799702</td></tr>\n",
       "\t<tr><td>6       </td><td>1953    </td><td>2.916135</td><td>2.589439</td><td>2.457069</td><td>2.588784</td><td>2.557861</td><td>2.875765</td><td>2.853647</td><td>2.978906</td><td>⋯       </td><td>2.818666</td><td>3.198463</td><td>2.786409</td><td>2.995532</td><td>2.918566</td><td>3.183755</td><td>2.637424</td><td>3.236606</td><td>2.689630</td><td>2.885641</td></tr>\n",
       "\t<tr><td>6       </td><td>1954    </td><td>3.009385</td><td>2.681167</td><td>2.549024</td><td>2.675051</td><td>2.645965</td><td>2.961578</td><td>2.942888</td><td>3.085022</td><td>⋯       </td><td>2.905795</td><td>3.285786</td><td>2.874933</td><td>3.088882</td><td>3.014471</td><td>3.273646</td><td>2.728941</td><td>3.329860</td><td>2.776312</td><td>2.973364</td></tr>\n",
       "\t<tr><td>6       </td><td>1955    </td><td>3.099141</td><td>2.774245</td><td>2.640853</td><td>2.757904</td><td>2.736391</td><td>3.046350</td><td>3.030887</td><td>3.181736</td><td>⋯       </td><td>2.999301</td><td>3.383200</td><td>2.966008</td><td>3.177256</td><td>3.107616</td><td>3.356422</td><td>2.821734</td><td>3.422766</td><td>2.866393</td><td>3.062452</td></tr>\n",
       "</tbody>\n",
       "</table>\n"
      ],
      "text/latex": [
       "\\begin{tabular}{r|lllllllllllllllllllllllllllllllllllllllllllllllllllllllllllllllllllllllllllllllllllllllllllllllllllllllllllllllllllllllllllllllllllllllllllllllllllllllllllllllllllllllllllllllllllllllllllllllllllllllllllllllllllllllllllllllllllllllllllllllllllllllllllllllllllllllllllllllllllllllllllllllllllllllllllllllllllllllllllllllllllllllllllllllllllllllllllllllllllllllllllllllllllllllllllllllllllllllllllllllllllllllllllllllllllllllllllllllllllllllllllllllllllllllllllllllllllllllllllllllllllllllllllllllllllllllllllllllllllllllllllllllllllllllllllllllllllllllllllllllllllllllllllllllllllllllllllllllllllllllllllllllllllllllllllllllllllllllllllllllllllllllllllllllllllllllllllllllllllllllllllllllllllllllllllllllllllllllllllllllllllllllllllllllllllllllllllllllllllllllllllllllllllllllllllllllllllllllllllllllllllllllllllllllllllllllllllllllllllllllllllllllllllllllllllllllllllllllllllllllllllllllllllllllllllllllllllllllllllllllllllllllllllllllllllllllllllllllllllllllllllllllllllllllllllllllllllllllllllllllllll}\n",
       " location\\_id & year & edu\\_forecast\\_draw0 & edu\\_forecast\\_draw1 & edu\\_forecast\\_draw2 & edu\\_forecast\\_draw3 & edu\\_forecast\\_draw4 & edu\\_forecast\\_draw5 & edu\\_forecast\\_draw6 & edu\\_forecast\\_draw7 & ⋯ & edu\\_forecast\\_draw991 & edu\\_forecast\\_draw992 & edu\\_forecast\\_draw993 & edu\\_forecast\\_draw994 & edu\\_forecast\\_draw995 & edu\\_forecast\\_draw996 & edu\\_forecast\\_draw997 & edu\\_forecast\\_draw998 & edu\\_forecast\\_draw999 & edu\\\\\n",
       "\\hline\n",
       "\t 6        & 1950     & 2.645154 & 2.338911 & 2.215635 & 2.356409 & 2.311006 & 2.637207 & 2.598514 & 2.703716 & ⋯        & 2.567646 & 2.953635 & 2.538061 & 2.742645 & 2.654224 & 2.925377 & 2.380497 & 2.988505 & 2.445686 & 2.635495\\\\\n",
       "\t 6        & 1951     & 2.733160 & 2.418230 & 2.289790 & 2.430288 & 2.391773 & 2.711155 & 2.679904 & 2.796497 & ⋯        & 2.647406 & 3.030729 & 2.621269 & 2.829784 & 2.740444 & 3.007706 & 2.463147 & 3.073169 & 2.527796 & 2.716177\\\\\n",
       "\t 6        & 1952     & 2.821512 & 2.503471 & 2.372092 & 2.510112 & 2.474177 & 2.791896 & 2.767157 & 2.889029 & ⋯        & 2.733829 & 3.107230 & 2.703144 & 2.907102 & 2.829295 & 3.092795 & 2.550813 & 3.155087 & 2.605103 & 2.799702\\\\\n",
       "\t 6        & 1953     & 2.916135 & 2.589439 & 2.457069 & 2.588784 & 2.557861 & 2.875765 & 2.853647 & 2.978906 & ⋯        & 2.818666 & 3.198463 & 2.786409 & 2.995532 & 2.918566 & 3.183755 & 2.637424 & 3.236606 & 2.689630 & 2.885641\\\\\n",
       "\t 6        & 1954     & 3.009385 & 2.681167 & 2.549024 & 2.675051 & 2.645965 & 2.961578 & 2.942888 & 3.085022 & ⋯        & 2.905795 & 3.285786 & 2.874933 & 3.088882 & 3.014471 & 3.273646 & 2.728941 & 3.329860 & 2.776312 & 2.973364\\\\\n",
       "\t 6        & 1955     & 3.099141 & 2.774245 & 2.640853 & 2.757904 & 2.736391 & 3.046350 & 3.030887 & 3.181736 & ⋯        & 2.999301 & 3.383200 & 2.966008 & 3.177256 & 3.107616 & 3.356422 & 2.821734 & 3.422766 & 2.866393 & 3.062452\\\\\n",
       "\\end{tabular}\n"
      ],
      "text/markdown": [
       "\n",
       "location_id | year | edu_forecast_draw0 | edu_forecast_draw1 | edu_forecast_draw2 | edu_forecast_draw3 | edu_forecast_draw4 | edu_forecast_draw5 | edu_forecast_draw6 | edu_forecast_draw7 | ⋯ | edu_forecast_draw991 | edu_forecast_draw992 | edu_forecast_draw993 | edu_forecast_draw994 | edu_forecast_draw995 | edu_forecast_draw996 | edu_forecast_draw997 | edu_forecast_draw998 | edu_forecast_draw999 | edu | \n",
       "|---|---|---|---|---|---|\n",
       "| 6        | 1950     | 2.645154 | 2.338911 | 2.215635 | 2.356409 | 2.311006 | 2.637207 | 2.598514 | 2.703716 | ⋯        | 2.567646 | 2.953635 | 2.538061 | 2.742645 | 2.654224 | 2.925377 | 2.380497 | 2.988505 | 2.445686 | 2.635495 | \n",
       "| 6        | 1951     | 2.733160 | 2.418230 | 2.289790 | 2.430288 | 2.391773 | 2.711155 | 2.679904 | 2.796497 | ⋯        | 2.647406 | 3.030729 | 2.621269 | 2.829784 | 2.740444 | 3.007706 | 2.463147 | 3.073169 | 2.527796 | 2.716177 | \n",
       "| 6        | 1952     | 2.821512 | 2.503471 | 2.372092 | 2.510112 | 2.474177 | 2.791896 | 2.767157 | 2.889029 | ⋯        | 2.733829 | 3.107230 | 2.703144 | 2.907102 | 2.829295 | 3.092795 | 2.550813 | 3.155087 | 2.605103 | 2.799702 | \n",
       "| 6        | 1953     | 2.916135 | 2.589439 | 2.457069 | 2.588784 | 2.557861 | 2.875765 | 2.853647 | 2.978906 | ⋯        | 2.818666 | 3.198463 | 2.786409 | 2.995532 | 2.918566 | 3.183755 | 2.637424 | 3.236606 | 2.689630 | 2.885641 | \n",
       "| 6        | 1954     | 3.009385 | 2.681167 | 2.549024 | 2.675051 | 2.645965 | 2.961578 | 2.942888 | 3.085022 | ⋯        | 2.905795 | 3.285786 | 2.874933 | 3.088882 | 3.014471 | 3.273646 | 2.728941 | 3.329860 | 2.776312 | 2.973364 | \n",
       "| 6        | 1955     | 3.099141 | 2.774245 | 2.640853 | 2.757904 | 2.736391 | 3.046350 | 3.030887 | 3.181736 | ⋯        | 2.999301 | 3.383200 | 2.966008 | 3.177256 | 3.107616 | 3.356422 | 2.821734 | 3.422766 | 2.866393 | 3.062452 | \n",
       "\n",
       "\n"
      ],
      "text/plain": [
       "  location_id year edu_forecast_draw0 edu_forecast_draw1 edu_forecast_draw2\n",
       "1 6           1950 2.645154           2.338911           2.215635          \n",
       "2 6           1951 2.733160           2.418230           2.289790          \n",
       "3 6           1952 2.821512           2.503471           2.372092          \n",
       "4 6           1953 2.916135           2.589439           2.457069          \n",
       "5 6           1954 3.009385           2.681167           2.549024          \n",
       "6 6           1955 3.099141           2.774245           2.640853          \n",
       "  edu_forecast_draw3 edu_forecast_draw4 edu_forecast_draw5 edu_forecast_draw6\n",
       "1 2.356409           2.311006           2.637207           2.598514          \n",
       "2 2.430288           2.391773           2.711155           2.679904          \n",
       "3 2.510112           2.474177           2.791896           2.767157          \n",
       "4 2.588784           2.557861           2.875765           2.853647          \n",
       "5 2.675051           2.645965           2.961578           2.942888          \n",
       "6 2.757904           2.736391           3.046350           3.030887          \n",
       "  edu_forecast_draw7 ⋯ edu_forecast_draw991 edu_forecast_draw992\n",
       "1 2.703716           ⋯ 2.567646             2.953635            \n",
       "2 2.796497           ⋯ 2.647406             3.030729            \n",
       "3 2.889029           ⋯ 2.733829             3.107230            \n",
       "4 2.978906           ⋯ 2.818666             3.198463            \n",
       "5 3.085022           ⋯ 2.905795             3.285786            \n",
       "6 3.181736           ⋯ 2.999301             3.383200            \n",
       "  edu_forecast_draw993 edu_forecast_draw994 edu_forecast_draw995\n",
       "1 2.538061             2.742645             2.654224            \n",
       "2 2.621269             2.829784             2.740444            \n",
       "3 2.703144             2.907102             2.829295            \n",
       "4 2.786409             2.995532             2.918566            \n",
       "5 2.874933             3.088882             3.014471            \n",
       "6 2.966008             3.177256             3.107616            \n",
       "  edu_forecast_draw996 edu_forecast_draw997 edu_forecast_draw998\n",
       "1 2.925377             2.380497             2.988505            \n",
       "2 3.007706             2.463147             3.073169            \n",
       "3 3.092795             2.550813             3.155087            \n",
       "4 3.183755             2.637424             3.236606            \n",
       "5 3.273646             2.728941             3.329860            \n",
       "6 3.356422             2.821734             3.422766            \n",
       "  edu_forecast_draw999 edu     \n",
       "1 2.445686             2.635495\n",
       "2 2.527796             2.716177\n",
       "3 2.605103             2.799702\n",
       "4 2.689630             2.885641\n",
       "5 2.776312             2.973364\n",
       "6 2.866393             3.062452"
      ]
     },
     "metadata": {},
     "output_type": "display_data"
    }
   ],
   "source": [
    "colnames(edu) <- c(\"location_id\", \"year\", paste0(\"edu_forecast_draw\", c(0:999)))\n",
    "head(edu)"
   ]
  },
  {
   "cell_type": "code",
   "execution_count": 20,
   "metadata": {
    "collapsed": false
   },
   "outputs": [
    {
     "data": {
      "text/html": [],
      "text/latex": [],
      "text/markdown": [],
      "text/plain": [
       "logical(0)"
      ]
     },
     "metadata": {},
     "output_type": "display_data"
    },
    {
     "data": {
      "text/html": [
       "<table>\n",
       "<thead><tr><th scope=col>location_id</th><th scope=col>year</th><th scope=col>edu_forecast_draw0</th><th scope=col>edu_forecast_draw1</th><th scope=col>edu_forecast_draw2</th><th scope=col>edu_forecast_draw3</th><th scope=col>edu_forecast_draw4</th><th scope=col>edu_forecast_draw5</th><th scope=col>edu_forecast_draw6</th><th scope=col>edu_forecast_draw7</th><th scope=col>⋯</th><th scope=col>edu_forecast_draw991</th><th scope=col>edu_forecast_draw992</th><th scope=col>edu_forecast_draw993</th><th scope=col>edu_forecast_draw994</th><th scope=col>edu_forecast_draw995</th><th scope=col>edu_forecast_draw996</th><th scope=col>edu_forecast_draw997</th><th scope=col>edu_forecast_draw998</th><th scope=col>edu_forecast_draw999</th><th scope=col>edu</th></tr></thead>\n",
       "<tbody>\n",
       "\t<tr><td>6       </td><td>1950    </td><td>2.645154</td><td>2.338911</td><td>2.215635</td><td>2.356409</td><td>2.311006</td><td>2.637207</td><td>2.598514</td><td>2.703716</td><td>⋯       </td><td>2.567646</td><td>2.953635</td><td>2.538061</td><td>2.742645</td><td>2.654224</td><td>2.925377</td><td>2.380497</td><td>2.988505</td><td>2.445686</td><td>2.635495</td></tr>\n",
       "\t<tr><td>6       </td><td>1951    </td><td>2.733160</td><td>2.418230</td><td>2.289790</td><td>2.430288</td><td>2.391773</td><td>2.711155</td><td>2.679904</td><td>2.796497</td><td>⋯       </td><td>2.647406</td><td>3.030729</td><td>2.621269</td><td>2.829784</td><td>2.740444</td><td>3.007706</td><td>2.463147</td><td>3.073169</td><td>2.527796</td><td>2.716177</td></tr>\n",
       "\t<tr><td>6       </td><td>1952    </td><td>2.821512</td><td>2.503471</td><td>2.372092</td><td>2.510112</td><td>2.474177</td><td>2.791896</td><td>2.767157</td><td>2.889029</td><td>⋯       </td><td>2.733829</td><td>3.107230</td><td>2.703144</td><td>2.907102</td><td>2.829295</td><td>3.092795</td><td>2.550813</td><td>3.155087</td><td>2.605103</td><td>2.799702</td></tr>\n",
       "\t<tr><td>6       </td><td>1953    </td><td>2.916135</td><td>2.589439</td><td>2.457069</td><td>2.588784</td><td>2.557861</td><td>2.875765</td><td>2.853647</td><td>2.978906</td><td>⋯       </td><td>2.818666</td><td>3.198463</td><td>2.786409</td><td>2.995532</td><td>2.918566</td><td>3.183755</td><td>2.637424</td><td>3.236606</td><td>2.689630</td><td>2.885641</td></tr>\n",
       "\t<tr><td>6       </td><td>1954    </td><td>3.009385</td><td>2.681167</td><td>2.549024</td><td>2.675051</td><td>2.645965</td><td>2.961578</td><td>2.942888</td><td>3.085022</td><td>⋯       </td><td>2.905795</td><td>3.285786</td><td>2.874933</td><td>3.088882</td><td>3.014471</td><td>3.273646</td><td>2.728941</td><td>3.329860</td><td>2.776312</td><td>2.973364</td></tr>\n",
       "\t<tr><td>6       </td><td>1955    </td><td>3.099141</td><td>2.774245</td><td>2.640853</td><td>2.757904</td><td>2.736391</td><td>3.046350</td><td>3.030887</td><td>3.181736</td><td>⋯       </td><td>2.999301</td><td>3.383200</td><td>2.966008</td><td>3.177256</td><td>3.107616</td><td>3.356422</td><td>2.821734</td><td>3.422766</td><td>2.866393</td><td>3.062452</td></tr>\n",
       "</tbody>\n",
       "</table>\n"
      ],
      "text/latex": [
       "\\begin{tabular}{r|lllllllllllllllllllllllllllllllllllllllllllllllllllllllllllllllllllllllllllllllllllllllllllllllllllllllllllllllllllllllllllllllllllllllllllllllllllllllllllllllllllllllllllllllllllllllllllllllllllllllllllllllllllllllllllllllllllllllllllllllllllllllllllllllllllllllllllllllllllllllllllllllllllllllllllllllllllllllllllllllllllllllllllllllllllllllllllllllllllllllllllllllllllllllllllllllllllllllllllllllllllllllllllllllllllllllllllllllllllllllllllllllllllllllllllllllllllllllllllllllllllllllllllllllllllllllllllllllllllllllllllllllllllllllllllllllllllllllllllllllllllllllllllllllllllllllllllllllllllllllllllllllllllllllllllllllllllllllllllllllllllllllllllllllllllllllllllllllllllllllllllllllllllllllllllllllllllllllllllllllllllllllllllllllllllllllllllllllllllllllllllllllllllllllllllllllllllllllllllllllllllllllllllllllllllllllllllllllllllllllllllllllllllllllllllllllllllllllllllllllllllllllllllllllllllllllllllllllllllllllllllllllllllllllllllllllllllllllllllllllllllllllllllllllllllllllllllllllllllllllllll}\n",
       " location\\_id & year & edu\\_forecast\\_draw0 & edu\\_forecast\\_draw1 & edu\\_forecast\\_draw2 & edu\\_forecast\\_draw3 & edu\\_forecast\\_draw4 & edu\\_forecast\\_draw5 & edu\\_forecast\\_draw6 & edu\\_forecast\\_draw7 & ⋯ & edu\\_forecast\\_draw991 & edu\\_forecast\\_draw992 & edu\\_forecast\\_draw993 & edu\\_forecast\\_draw994 & edu\\_forecast\\_draw995 & edu\\_forecast\\_draw996 & edu\\_forecast\\_draw997 & edu\\_forecast\\_draw998 & edu\\_forecast\\_draw999 & edu\\\\\n",
       "\\hline\n",
       "\t 6        & 1950     & 2.645154 & 2.338911 & 2.215635 & 2.356409 & 2.311006 & 2.637207 & 2.598514 & 2.703716 & ⋯        & 2.567646 & 2.953635 & 2.538061 & 2.742645 & 2.654224 & 2.925377 & 2.380497 & 2.988505 & 2.445686 & 2.635495\\\\\n",
       "\t 6        & 1951     & 2.733160 & 2.418230 & 2.289790 & 2.430288 & 2.391773 & 2.711155 & 2.679904 & 2.796497 & ⋯        & 2.647406 & 3.030729 & 2.621269 & 2.829784 & 2.740444 & 3.007706 & 2.463147 & 3.073169 & 2.527796 & 2.716177\\\\\n",
       "\t 6        & 1952     & 2.821512 & 2.503471 & 2.372092 & 2.510112 & 2.474177 & 2.791896 & 2.767157 & 2.889029 & ⋯        & 2.733829 & 3.107230 & 2.703144 & 2.907102 & 2.829295 & 3.092795 & 2.550813 & 3.155087 & 2.605103 & 2.799702\\\\\n",
       "\t 6        & 1953     & 2.916135 & 2.589439 & 2.457069 & 2.588784 & 2.557861 & 2.875765 & 2.853647 & 2.978906 & ⋯        & 2.818666 & 3.198463 & 2.786409 & 2.995532 & 2.918566 & 3.183755 & 2.637424 & 3.236606 & 2.689630 & 2.885641\\\\\n",
       "\t 6        & 1954     & 3.009385 & 2.681167 & 2.549024 & 2.675051 & 2.645965 & 2.961578 & 2.942888 & 3.085022 & ⋯        & 2.905795 & 3.285786 & 2.874933 & 3.088882 & 3.014471 & 3.273646 & 2.728941 & 3.329860 & 2.776312 & 2.973364\\\\\n",
       "\t 6        & 1955     & 3.099141 & 2.774245 & 2.640853 & 2.757904 & 2.736391 & 3.046350 & 3.030887 & 3.181736 & ⋯        & 2.999301 & 3.383200 & 2.966008 & 3.177256 & 3.107616 & 3.356422 & 2.821734 & 3.422766 & 2.866393 & 3.062452\\\\\n",
       "\\end{tabular}\n"
      ],
      "text/markdown": [
       "\n",
       "location_id | year | edu_forecast_draw0 | edu_forecast_draw1 | edu_forecast_draw2 | edu_forecast_draw3 | edu_forecast_draw4 | edu_forecast_draw5 | edu_forecast_draw6 | edu_forecast_draw7 | ⋯ | edu_forecast_draw991 | edu_forecast_draw992 | edu_forecast_draw993 | edu_forecast_draw994 | edu_forecast_draw995 | edu_forecast_draw996 | edu_forecast_draw997 | edu_forecast_draw998 | edu_forecast_draw999 | edu | \n",
       "|---|---|---|---|---|---|\n",
       "| 6        | 1950     | 2.645154 | 2.338911 | 2.215635 | 2.356409 | 2.311006 | 2.637207 | 2.598514 | 2.703716 | ⋯        | 2.567646 | 2.953635 | 2.538061 | 2.742645 | 2.654224 | 2.925377 | 2.380497 | 2.988505 | 2.445686 | 2.635495 | \n",
       "| 6        | 1951     | 2.733160 | 2.418230 | 2.289790 | 2.430288 | 2.391773 | 2.711155 | 2.679904 | 2.796497 | ⋯        | 2.647406 | 3.030729 | 2.621269 | 2.829784 | 2.740444 | 3.007706 | 2.463147 | 3.073169 | 2.527796 | 2.716177 | \n",
       "| 6        | 1952     | 2.821512 | 2.503471 | 2.372092 | 2.510112 | 2.474177 | 2.791896 | 2.767157 | 2.889029 | ⋯        | 2.733829 | 3.107230 | 2.703144 | 2.907102 | 2.829295 | 3.092795 | 2.550813 | 3.155087 | 2.605103 | 2.799702 | \n",
       "| 6        | 1953     | 2.916135 | 2.589439 | 2.457069 | 2.588784 | 2.557861 | 2.875765 | 2.853647 | 2.978906 | ⋯        | 2.818666 | 3.198463 | 2.786409 | 2.995532 | 2.918566 | 3.183755 | 2.637424 | 3.236606 | 2.689630 | 2.885641 | \n",
       "| 6        | 1954     | 3.009385 | 2.681167 | 2.549024 | 2.675051 | 2.645965 | 2.961578 | 2.942888 | 3.085022 | ⋯        | 2.905795 | 3.285786 | 2.874933 | 3.088882 | 3.014471 | 3.273646 | 2.728941 | 3.329860 | 2.776312 | 2.973364 | \n",
       "| 6        | 1955     | 3.099141 | 2.774245 | 2.640853 | 2.757904 | 2.736391 | 3.046350 | 3.030887 | 3.181736 | ⋯        | 2.999301 | 3.383200 | 2.966008 | 3.177256 | 3.107616 | 3.356422 | 2.821734 | 3.422766 | 2.866393 | 3.062452 | \n",
       "\n",
       "\n"
      ],
      "text/plain": [
       "  location_id year edu_forecast_draw0 edu_forecast_draw1 edu_forecast_draw2\n",
       "1 6           1950 2.645154           2.338911           2.215635          \n",
       "2 6           1951 2.733160           2.418230           2.289790          \n",
       "3 6           1952 2.821512           2.503471           2.372092          \n",
       "4 6           1953 2.916135           2.589439           2.457069          \n",
       "5 6           1954 3.009385           2.681167           2.549024          \n",
       "6 6           1955 3.099141           2.774245           2.640853          \n",
       "  edu_forecast_draw3 edu_forecast_draw4 edu_forecast_draw5 edu_forecast_draw6\n",
       "1 2.356409           2.311006           2.637207           2.598514          \n",
       "2 2.430288           2.391773           2.711155           2.679904          \n",
       "3 2.510112           2.474177           2.791896           2.767157          \n",
       "4 2.588784           2.557861           2.875765           2.853647          \n",
       "5 2.675051           2.645965           2.961578           2.942888          \n",
       "6 2.757904           2.736391           3.046350           3.030887          \n",
       "  edu_forecast_draw7 ⋯ edu_forecast_draw991 edu_forecast_draw992\n",
       "1 2.703716           ⋯ 2.567646             2.953635            \n",
       "2 2.796497           ⋯ 2.647406             3.030729            \n",
       "3 2.889029           ⋯ 2.733829             3.107230            \n",
       "4 2.978906           ⋯ 2.818666             3.198463            \n",
       "5 3.085022           ⋯ 2.905795             3.285786            \n",
       "6 3.181736           ⋯ 2.999301             3.383200            \n",
       "  edu_forecast_draw993 edu_forecast_draw994 edu_forecast_draw995\n",
       "1 2.538061             2.742645             2.654224            \n",
       "2 2.621269             2.829784             2.740444            \n",
       "3 2.703144             2.907102             2.829295            \n",
       "4 2.786409             2.995532             2.918566            \n",
       "5 2.874933             3.088882             3.014471            \n",
       "6 2.966008             3.177256             3.107616            \n",
       "  edu_forecast_draw996 edu_forecast_draw997 edu_forecast_draw998\n",
       "1 2.925377             2.380497             2.988505            \n",
       "2 3.007706             2.463147             3.073169            \n",
       "3 3.092795             2.550813             3.155087            \n",
       "4 3.183755             2.637424             3.236606            \n",
       "5 3.273646             2.728941             3.329860            \n",
       "6 3.356422             2.821734             3.422766            \n",
       "  edu_forecast_draw999 edu     \n",
       "1 2.445686             2.635495\n",
       "2 2.527796             2.716177\n",
       "3 2.605103             2.799702\n",
       "4 2.689630             2.885641\n",
       "5 2.776312             2.973364\n",
       "6 2.866393             3.062452"
      ]
     },
     "metadata": {},
     "output_type": "display_data"
    }
   ],
   "source": [
    "# Mean\n",
    "edu[, edu != NULL]\n",
    "edu[, \"edu\"] <- apply(edu[, 3:1002], 1, mean)\n",
    "\n",
    "head(edu)"
   ]
  },
  {
   "cell_type": "code",
   "execution_count": null,
   "metadata": {
    "collapsed": true
   },
   "outputs": [],
   "source": []
  }
 ],
 "metadata": {
  "anaconda-cloud": {},
  "kernelspec": {
   "display_name": "R",
   "language": "R",
   "name": "ir"
  },
  "language_info": {
   "codemirror_mode": "r",
   "file_extension": ".r",
   "mimetype": "text/x-r-source",
   "name": "R",
   "pygments_lexer": "r",
   "version": "3.3.2"
  }
 },
 "nbformat": 4,
 "nbformat_minor": 1
}
